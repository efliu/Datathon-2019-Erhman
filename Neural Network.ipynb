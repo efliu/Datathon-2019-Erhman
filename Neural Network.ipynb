{
 "cells": [
  {
   "cell_type": "code",
   "execution_count": 1,
   "metadata": {},
   "outputs": [
    {
     "name": "stdout",
     "output_type": "stream",
     "text": [
      "Requirement already satisfied: datascience in /Users/edwardliu/Downloads/anaconda3/lib/python3.7/site-packages (0.15.3)\n",
      "Requirement already satisfied: coverage==4.5.3 in /Users/edwardliu/Downloads/anaconda3/lib/python3.7/site-packages (from datascience) (4.5.3)\n",
      "Requirement already satisfied: coveralls in /Users/edwardliu/Downloads/anaconda3/lib/python3.7/site-packages (from datascience) (1.8.2)\n",
      "Requirement already satisfied: sphinx in /Users/edwardliu/Downloads/anaconda3/lib/python3.7/site-packages (from datascience) (2.2.0)\n",
      "Requirement already satisfied: setuptools in /Users/edwardliu/Downloads/anaconda3/lib/python3.7/site-packages (from datascience) (41.4.0)\n",
      "Requirement already satisfied: pandas in /Users/edwardliu/Downloads/anaconda3/lib/python3.7/site-packages (from datascience) (0.25.1)\n",
      "Requirement already satisfied: matplotlib>=3.0.0 in /Users/edwardliu/Downloads/anaconda3/lib/python3.7/site-packages (from datascience) (3.1.1)\n",
      "Requirement already satisfied: folium>=0.9.1 in /Users/edwardliu/Downloads/anaconda3/lib/python3.7/site-packages (from datascience) (0.10.0)\n",
      "Requirement already satisfied: bokeh in /Users/edwardliu/Downloads/anaconda3/lib/python3.7/site-packages (from datascience) (1.3.4)\n",
      "Requirement already satisfied: numpy in /Users/edwardliu/Downloads/anaconda3/lib/python3.7/site-packages (from datascience) (1.17.2)\n",
      "Requirement already satisfied: pytest in /Users/edwardliu/Downloads/anaconda3/lib/python3.7/site-packages (from datascience) (5.2.1)\n",
      "Requirement already satisfied: scipy in /Users/edwardliu/Downloads/anaconda3/lib/python3.7/site-packages (from datascience) (1.3.1)\n",
      "Requirement already satisfied: ipython in /Users/edwardliu/Downloads/anaconda3/lib/python3.7/site-packages (from datascience) (7.8.0)\n",
      "Requirement already satisfied: requests>=1.0.0 in /Users/edwardliu/Downloads/anaconda3/lib/python3.7/site-packages (from coveralls->datascience) (2.22.0)\n",
      "Requirement already satisfied: docopt>=0.6.1 in /Users/edwardliu/Downloads/anaconda3/lib/python3.7/site-packages (from coveralls->datascience) (0.6.2)\n",
      "Requirement already satisfied: sphinxcontrib-qthelp in /Users/edwardliu/Downloads/anaconda3/lib/python3.7/site-packages (from sphinx->datascience) (1.0.2)\n",
      "Requirement already satisfied: sphinxcontrib-jsmath in /Users/edwardliu/Downloads/anaconda3/lib/python3.7/site-packages (from sphinx->datascience) (1.0.1)\n",
      "Requirement already satisfied: sphinxcontrib-serializinghtml in /Users/edwardliu/Downloads/anaconda3/lib/python3.7/site-packages (from sphinx->datascience) (1.1.3)\n",
      "Requirement already satisfied: Pygments>=2.0 in /Users/edwardliu/Downloads/anaconda3/lib/python3.7/site-packages (from sphinx->datascience) (2.4.2)\n",
      "Requirement already satisfied: babel!=2.0,>=1.3 in /Users/edwardliu/Downloads/anaconda3/lib/python3.7/site-packages (from sphinx->datascience) (2.7.0)\n",
      "Requirement already satisfied: sphinxcontrib-htmlhelp in /Users/edwardliu/Downloads/anaconda3/lib/python3.7/site-packages (from sphinx->datascience) (1.0.2)\n",
      "Requirement already satisfied: imagesize in /Users/edwardliu/Downloads/anaconda3/lib/python3.7/site-packages (from sphinx->datascience) (1.1.0)\n",
      "Requirement already satisfied: packaging in /Users/edwardliu/Downloads/anaconda3/lib/python3.7/site-packages (from sphinx->datascience) (19.2)\n",
      "Requirement already satisfied: Jinja2>=2.3 in /Users/edwardliu/Downloads/anaconda3/lib/python3.7/site-packages (from sphinx->datascience) (2.10.3)\n",
      "Requirement already satisfied: sphinxcontrib-devhelp in /Users/edwardliu/Downloads/anaconda3/lib/python3.7/site-packages (from sphinx->datascience) (1.0.1)\n",
      "Requirement already satisfied: sphinxcontrib-applehelp in /Users/edwardliu/Downloads/anaconda3/lib/python3.7/site-packages (from sphinx->datascience) (1.0.1)\n",
      "Requirement already satisfied: alabaster<0.8,>=0.7 in /Users/edwardliu/Downloads/anaconda3/lib/python3.7/site-packages (from sphinx->datascience) (0.7.12)\n",
      "Requirement already satisfied: docutils>=0.12 in /Users/edwardliu/Downloads/anaconda3/lib/python3.7/site-packages (from sphinx->datascience) (0.15.2)\n",
      "Requirement already satisfied: snowballstemmer>=1.1 in /Users/edwardliu/Downloads/anaconda3/lib/python3.7/site-packages (from sphinx->datascience) (2.0.0)\n",
      "Requirement already satisfied: pytz>=2017.2 in /Users/edwardliu/Downloads/anaconda3/lib/python3.7/site-packages (from pandas->datascience) (2019.3)\n",
      "Requirement already satisfied: python-dateutil>=2.6.1 in /Users/edwardliu/Downloads/anaconda3/lib/python3.7/site-packages (from pandas->datascience) (2.8.0)\n",
      "Requirement already satisfied: cycler>=0.10 in /Users/edwardliu/Downloads/anaconda3/lib/python3.7/site-packages (from matplotlib>=3.0.0->datascience) (0.10.0)\n",
      "Requirement already satisfied: kiwisolver>=1.0.1 in /Users/edwardliu/Downloads/anaconda3/lib/python3.7/site-packages (from matplotlib>=3.0.0->datascience) (1.1.0)\n",
      "Requirement already satisfied: pyparsing!=2.0.4,!=2.1.2,!=2.1.6,>=2.0.1 in /Users/edwardliu/Downloads/anaconda3/lib/python3.7/site-packages (from matplotlib>=3.0.0->datascience) (2.4.2)\n",
      "Requirement already satisfied: branca>=0.3.0 in /Users/edwardliu/Downloads/anaconda3/lib/python3.7/site-packages (from folium>=0.9.1->datascience) (0.3.1)\n",
      "Requirement already satisfied: six>=1.5.2 in /Users/edwardliu/Downloads/anaconda3/lib/python3.7/site-packages (from bokeh->datascience) (1.12.0)\n",
      "Requirement already satisfied: pillow>=4.0 in /Users/edwardliu/Downloads/anaconda3/lib/python3.7/site-packages (from bokeh->datascience) (6.2.0)\n",
      "Requirement already satisfied: PyYAML>=3.10 in /Users/edwardliu/Downloads/anaconda3/lib/python3.7/site-packages (from bokeh->datascience) (5.1.2)\n",
      "Requirement already satisfied: tornado>=4.3 in /Users/edwardliu/Downloads/anaconda3/lib/python3.7/site-packages (from bokeh->datascience) (6.0.3)\n",
      "Requirement already satisfied: py>=1.5.0 in /Users/edwardliu/Downloads/anaconda3/lib/python3.7/site-packages (from pytest->datascience) (1.8.0)\n",
      "Requirement already satisfied: attrs>=17.4.0 in /Users/edwardliu/Downloads/anaconda3/lib/python3.7/site-packages (from pytest->datascience) (19.2.0)\n",
      "Requirement already satisfied: more-itertools>=4.0.0 in /Users/edwardliu/Downloads/anaconda3/lib/python3.7/site-packages (from pytest->datascience) (7.2.0)\n",
      "Requirement already satisfied: atomicwrites>=1.0 in /Users/edwardliu/Downloads/anaconda3/lib/python3.7/site-packages (from pytest->datascience) (1.3.0)\n",
      "Requirement already satisfied: pluggy<1.0,>=0.12 in /Users/edwardliu/Downloads/anaconda3/lib/python3.7/site-packages (from pytest->datascience) (0.13.0)\n",
      "Requirement already satisfied: wcwidth in /Users/edwardliu/Downloads/anaconda3/lib/python3.7/site-packages (from pytest->datascience) (0.1.7)\n",
      "Requirement already satisfied: importlib-metadata>=0.12 in /Users/edwardliu/Downloads/anaconda3/lib/python3.7/site-packages (from pytest->datascience) (0.23)\n",
      "Requirement already satisfied: traitlets>=4.2 in /Users/edwardliu/Downloads/anaconda3/lib/python3.7/site-packages (from ipython->datascience) (4.3.3)\n",
      "Requirement already satisfied: backcall in /Users/edwardliu/Downloads/anaconda3/lib/python3.7/site-packages (from ipython->datascience) (0.1.0)\n",
      "Requirement already satisfied: appnope; sys_platform == \"darwin\" in /Users/edwardliu/Downloads/anaconda3/lib/python3.7/site-packages (from ipython->datascience) (0.1.0)\n",
      "Requirement already satisfied: pexpect; sys_platform != \"win32\" in /Users/edwardliu/Downloads/anaconda3/lib/python3.7/site-packages (from ipython->datascience) (4.7.0)\n",
      "Requirement already satisfied: decorator in /Users/edwardliu/Downloads/anaconda3/lib/python3.7/site-packages (from ipython->datascience) (4.4.0)\n",
      "Requirement already satisfied: pickleshare in /Users/edwardliu/Downloads/anaconda3/lib/python3.7/site-packages (from ipython->datascience) (0.7.5)\n",
      "Requirement already satisfied: prompt-toolkit<2.1.0,>=2.0.0 in /Users/edwardliu/Downloads/anaconda3/lib/python3.7/site-packages (from ipython->datascience) (2.0.10)\n",
      "Requirement already satisfied: jedi>=0.10 in /Users/edwardliu/Downloads/anaconda3/lib/python3.7/site-packages (from ipython->datascience) (0.15.1)\n",
      "Requirement already satisfied: urllib3!=1.25.0,!=1.25.1,<1.26,>=1.21.1 in /Users/edwardliu/Downloads/anaconda3/lib/python3.7/site-packages (from requests>=1.0.0->coveralls->datascience) (1.24.2)\n"
     ]
    },
    {
     "name": "stdout",
     "output_type": "stream",
     "text": [
      "Requirement already satisfied: idna<2.9,>=2.5 in /Users/edwardliu/Downloads/anaconda3/lib/python3.7/site-packages (from requests>=1.0.0->coveralls->datascience) (2.8)\r\n",
      "Requirement already satisfied: chardet<3.1.0,>=3.0.2 in /Users/edwardliu/Downloads/anaconda3/lib/python3.7/site-packages (from requests>=1.0.0->coveralls->datascience) (3.0.4)\r\n",
      "Requirement already satisfied: certifi>=2017.4.17 in /Users/edwardliu/Downloads/anaconda3/lib/python3.7/site-packages (from requests>=1.0.0->coveralls->datascience) (2019.9.11)\r\n",
      "Requirement already satisfied: MarkupSafe>=0.23 in /Users/edwardliu/Downloads/anaconda3/lib/python3.7/site-packages (from Jinja2>=2.3->sphinx->datascience) (1.1.1)\r\n",
      "Requirement already satisfied: zipp>=0.5 in /Users/edwardliu/Downloads/anaconda3/lib/python3.7/site-packages (from importlib-metadata>=0.12->pytest->datascience) (0.6.0)\r\n",
      "Requirement already satisfied: ipython-genutils in /Users/edwardliu/Downloads/anaconda3/lib/python3.7/site-packages (from traitlets>=4.2->ipython->datascience) (0.2.0)\r\n",
      "Requirement already satisfied: ptyprocess>=0.5 in /Users/edwardliu/Downloads/anaconda3/lib/python3.7/site-packages (from pexpect; sys_platform != \"win32\"->ipython->datascience) (0.6.0)\r\n",
      "Requirement already satisfied: parso>=0.5.0 in /Users/edwardliu/Downloads/anaconda3/lib/python3.7/site-packages (from jedi>=0.10->ipython->datascience) (0.5.1)\r\n"
     ]
    }
   ],
   "source": [
    "!pip install datascience"
   ]
  },
  {
   "cell_type": "code",
   "execution_count": 2,
   "metadata": {},
   "outputs": [
    {
     "name": "stdout",
     "output_type": "stream",
     "text": [
      "Requirement already up-to-date: scikit-learn in /Users/edwardliu/Downloads/anaconda3/lib/python3.7/site-packages (0.21.3)\n",
      "Requirement already satisfied, skipping upgrade: scipy>=0.17.0 in /Users/edwardliu/Downloads/anaconda3/lib/python3.7/site-packages (from scikit-learn) (1.3.1)\n",
      "Requirement already satisfied, skipping upgrade: numpy>=1.11.0 in /Users/edwardliu/Downloads/anaconda3/lib/python3.7/site-packages (from scikit-learn) (1.17.2)\n",
      "Requirement already satisfied, skipping upgrade: joblib>=0.11 in /Users/edwardliu/Downloads/anaconda3/lib/python3.7/site-packages (from scikit-learn) (0.13.2)\n"
     ]
    }
   ],
   "source": [
    "!pip install -U scikit-learn"
   ]
  },
  {
   "cell_type": "code",
   "execution_count": 3,
   "metadata": {},
   "outputs": [],
   "source": [
    "import pandas as pd\n",
    "from datascience import *\n",
    "import numpy as np"
   ]
  },
  {
   "cell_type": "code",
   "execution_count": 16,
   "metadata": {},
   "outputs": [
    {
     "data": {
      "text/html": [
       "<table border=\"1\" class=\"dataframe\">\n",
       "    <thead>\n",
       "        <tr>\n",
       "            <th>DISTRICT</th> <th>CO</th> <th>CDS</th> <th>EDP 365</th> <th>Current Expense ADA</th> <th>Current Expense per ADA</th> <th>LEA Type</th> <th>enroll12</th> <th>NumTstTakr</th> <th>NumCurrElaBenchmark</th> <th>NumPreElaBenchmark</th> <th>TotNumElaBenchmark</th> <th>PctElaBenchmark</th> <th>NumCurrMathBenchmark</th> <th>NumPreMathBenchmark</th> <th>TotNumMathBenchmark</th> <th>PctMathBenchmark</th> <th>TotNumBothBenchmark</th> <th>PctBothBenchmark</th> <th>District Administrative Support:</th> <th>District Administrators:</th> <th>Elementary Guidance Counselors:</th> <th>Elementary:</th> <th>Instruc. Coordinators &amp; Supervisors:</th> <th>Instructional Aides:</th> <th>Kindergarten:</th> <th>Librarians/Media Specialists:</th> <th>Library/Media Support:</th> <th>Other Support Services:</th> <th>Prekindergarten:</th> <th>School Administrative Support:</th> <th>School Administrators:</th> <th>Secondary Guidance Counselors:</th> <th>Secondary:</th> <th>Student Support Services:</th> <th>Ungraded:</th>\n",
       "        </tr>\n",
       "    </thead>\n",
       "    <tbody>\n",
       "        <tr>\n",
       "            <td>ABC Unified             </td> <td>19  </td> <td>64212</td> <td>215,049,027</td> <td>19,855.3           </td> <td>10,831                 </td> <td>Unified                  </td> <td>1810    </td> <td>1005      </td> <td>822                </td> <td>6                 </td> <td>828               </td> <td>82.39          </td> <td>665                 </td> <td>5                  </td> <td>670                </td> <td>66.67           </td> <td>644                </td> <td>64.08           </td> <td>36                              </td> <td>8                       </td> <td>1                              </td> <td>469.07     </td> <td>19.9                                    </td> <td>148.3               </td> <td>67.58        </td> <td>0                            </td> <td>0                     </td> <td>416.44                 </td> <td>0               </td> <td>81.13                         </td> <td>56                    </td> <td>9                             </td> <td>288.3     </td> <td>83.6                     </td> <td>3.67     </td>\n",
       "        </tr>\n",
       "        <tr>\n",
       "            <td>Acalanes Union High     </td> <td>7   </td> <td>61630</td> <td>74,213,974 </td> <td>5,404.7            </td> <td>13,731                 </td> <td>High                     </td> <td>1426    </td> <td>761       </td> <td>728                </td> <td>3                 </td> <td>731               </td> <td>96.06          </td> <td>676                 </td> <td>3                  </td> <td>679                </td> <td>89.22           </td> <td>673                </td> <td>88.44           </td> <td>14                              </td> <td>4                       </td> <td>0                              </td> <td>0.13       </td> <td>4                                       </td> <td>27.46               </td> <td>0            </td> <td>0                            </td> <td>0                     </td> <td>55.39                  </td> <td>0               </td> <td>29                            </td> <td>8.5                   </td> <td>16.6                          </td> <td>276.57    </td> <td>15.8                     </td> <td>1.5      </td>\n",
       "        </tr>\n",
       "        <tr>\n",
       "            <td>Acton-Agua Dulce Unified</td> <td>19  </td> <td>75309</td> <td>14,550,055 </td> <td>1,026.6            </td> <td>14,173                 </td> <td>Unified                  </td> <td>1180    </td> <td>134       </td> <td>97                 </td> <td>0                 </td> <td>97                </td> <td>72.39          </td> <td>66                  </td> <td>0                  </td> <td>66                 </td> <td>49.25           </td> <td>64                 </td> <td>47.76           </td> <td>5                               </td> <td>1                       </td> <td>3                              </td> <td>258.38     </td> <td>75.14                                   </td> <td>105.29              </td> <td>37.08        </td> <td>0                            </td> <td>0                     </td> <td>66.52                  </td> <td>0               </td> <td>180.63                        </td> <td>57.47                 </td> <td>5.7                           </td> <td>323.27    </td> <td>85.76                    </td> <td>22.22    </td>\n",
       "        </tr>\n",
       "    </tbody>\n",
       "</table>\n",
       "<p>... (387 rows omitted)</p>"
      ],
      "text/plain": [
       "<IPython.core.display.HTML object>"
      ]
     },
     "metadata": {},
     "output_type": "display_data"
    }
   ],
   "source": [
    "og_master_df = pd.read_csv('/Users/edwardliu/Documents/Datathon-2019-Erhman/DFs/MasterCategorized.csv')\n",
    "og_master = Table.from_df(master_df)\n",
    "og_master.show(3)"
   ]
  },
  {
   "cell_type": "code",
   "execution_count": 18,
   "metadata": {},
   "outputs": [
    {
     "data": {
      "text/html": [
       "<table border=\"1\" class=\"dataframe\">\n",
       "    <thead>\n",
       "        <tr>\n",
       "            <th>DISTRICT</th> <th>CO</th> <th>CDS</th> <th>EDP 365</th> <th>Current Expense ADA</th> <th>Current Expense per ADA</th> <th>LEA Type</th> <th>enroll12</th> <th>NumTstTakr</th> <th>PctBothBenchmark</th> <th>District Administrative Support:</th> <th>District Administrators:</th> <th>Elementary Guidance Counselors:</th> <th>Elementary:</th> <th>Instruc. Coordinators &amp; Supervisors:</th> <th>Instructional Aides:</th> <th>Kindergarten:</th> <th>Librarians/Media Specialists:</th> <th>Library/Media Support:</th> <th>Other Support Services:</th> <th>Prekindergarten:</th> <th>School Administrative Support:</th> <th>School Administrators:</th> <th>Secondary Guidance Counselors:</th> <th>Secondary:</th> <th>Student Support Services:</th>\n",
       "        </tr>\n",
       "    </thead>\n",
       "    <tbody>\n",
       "        <tr>\n",
       "            <td>ABC Unified             </td> <td>19  </td> <td>64212</td> <td>215,049,027</td> <td>19,855.3           </td> <td>10,831                 </td> <td>Unified                  </td> <td>1810    </td> <td>1005      </td> <td>64.08           </td> <td>36                              </td> <td>8                       </td> <td>1                              </td> <td>469.07     </td> <td>19.9                                    </td> <td>148.3               </td> <td>67.58        </td> <td>0                            </td> <td>0                     </td> <td>416.44                 </td> <td>0               </td> <td>81.13                         </td> <td>56                    </td> <td>9                             </td> <td>288.3     </td> <td>83.6                     </td>\n",
       "        </tr>\n",
       "        <tr>\n",
       "            <td>Acalanes Union High     </td> <td>7   </td> <td>61630</td> <td>74,213,974 </td> <td>5,404.7            </td> <td>13,731                 </td> <td>High                     </td> <td>1426    </td> <td>761       </td> <td>88.44           </td> <td>14                              </td> <td>4                       </td> <td>0                              </td> <td>0.13       </td> <td>4                                       </td> <td>27.46               </td> <td>0            </td> <td>0                            </td> <td>0                     </td> <td>55.39                  </td> <td>0               </td> <td>29                            </td> <td>8.5                   </td> <td>16.6                          </td> <td>276.57    </td> <td>15.8                     </td>\n",
       "        </tr>\n",
       "        <tr>\n",
       "            <td>Acton-Agua Dulce Unified</td> <td>19  </td> <td>75309</td> <td>14,550,055 </td> <td>1,026.6            </td> <td>14,173                 </td> <td>Unified                  </td> <td>1180    </td> <td>134       </td> <td>47.76           </td> <td>5                               </td> <td>1                       </td> <td>3                              </td> <td>258.38     </td> <td>75.14                                   </td> <td>105.29              </td> <td>37.08        </td> <td>0                            </td> <td>0                     </td> <td>66.52                  </td> <td>0               </td> <td>180.63                        </td> <td>57.47                 </td> <td>5.7                           </td> <td>323.27    </td> <td>85.76                    </td>\n",
       "        </tr>\n",
       "    </tbody>\n",
       "</table>\n",
       "<p>... (387 rows omitted)</p>"
      ],
      "text/plain": [
       "<IPython.core.display.HTML object>"
      ]
     },
     "metadata": {},
     "output_type": "display_data"
    }
   ],
   "source": [
    "master = og_master.drop(np.arange(9,18)).drop('Ungraded:')\n",
    "master.show(3)"
   ]
  },
  {
   "cell_type": "code",
   "execution_count": 505,
   "metadata": {},
   "outputs": [],
   "source": [
    "master_staff = master.select(np.arange(10,26,1))\n",
    "master_staff_df = master_staff.to_df()\n",
    "master_staff_array = master_staff_df.rename_axis('Features').values\n",
    "\n",
    "enrollment = master['enroll12']\n",
    "\n",
    "\n",
    "new_staff = []\n",
    "for i in range(len(master_staff_array)):\n",
    "    enroll = enrollment[i]\n",
    "    new_staff.append(master_staff_array[i]/enroll * 10000000000)\n",
    "    \n",
    "master_staff_array = new_staff"
   ]
  },
  {
   "cell_type": "code",
   "execution_count": 506,
   "metadata": {},
   "outputs": [],
   "source": [
    "x = master_staff_array\n",
    "y = master.column(9)"
   ]
  },
  {
   "cell_type": "code",
   "execution_count": 507,
   "metadata": {},
   "outputs": [],
   "source": [
    "from sklearn.model_selection import train_test_split\n",
    "x_train, x_test, y_train, y_test = train_test_split(x,y)"
   ]
  },
  {
   "cell_type": "code",
   "execution_count": 508,
   "metadata": {},
   "outputs": [
    {
     "data": {
      "text/plain": [
       "StandardScaler(copy=True, with_mean=True, with_std=True)"
      ]
     },
     "execution_count": 508,
     "metadata": {},
     "output_type": "execute_result"
    }
   ],
   "source": [
    "from sklearn.preprocessing import StandardScaler\n",
    "scaler = StandardScaler()\n",
    "scaler.fit(x_train)"
   ]
  },
  {
   "cell_type": "code",
   "execution_count": 509,
   "metadata": {},
   "outputs": [],
   "source": [
    "x_train = scaler.transform(x_train)\n",
    "x_test = scaler.transform(x_test)"
   ]
  },
  {
   "cell_type": "code",
   "execution_count": 510,
   "metadata": {},
   "outputs": [],
   "source": [
    "from sklearn.neural_network import MLPRegressor\n",
    "from sklearn.linear_model import Lasso\n",
    "mlp_relu = MLPRegressor(hidden_layer_sizes=(10,10),activation='relu',solver='lbfgs',max_iter = 1000)\n",
    "\n",
    "mlp_relu = HuberRegressor(max_iter=100)"
   ]
  },
  {
   "cell_type": "code",
   "execution_count": 514,
   "metadata": {},
   "outputs": [
    {
     "data": {
      "text/plain": [
       "HuberRegressor(alpha=0.0001, epsilon=1.35, fit_intercept=True, max_iter=100,\n",
       "               tol=1e-05, warm_start=False)"
      ]
     },
     "execution_count": 514,
     "metadata": {},
     "output_type": "execute_result"
    }
   ],
   "source": [
    "mlp_relu.fit(x_test,y_test)"
   ]
  },
  {
   "cell_type": "code",
   "execution_count": 515,
   "metadata": {},
   "outputs": [],
   "source": [
    "predictions_relu = mlp_relu.predict(x_test)"
   ]
  },
  {
   "cell_type": "code",
   "execution_count": 516,
   "metadata": {},
   "outputs": [
    {
     "name": "stdout",
     "output_type": "stream",
     "text": [
      "0.17332273175164126\n"
     ]
    },
    {
     "data": {
      "text/plain": [
       "array([[-1.39176159e-01, -1.95460485e-01,  1.89552042e-01, ...,\n",
       "        -2.77671455e-01, -1.27583367e-01,  1.17396325e-01],\n",
       "       [ 6.26487779e+00,  7.62818888e+00,  1.28746906e+00, ...,\n",
       "        -2.02950756e+00,  9.45338984e-01,  5.69056013e+00],\n",
       "       [-1.00353542e-01, -5.80380138e-01,  7.89687887e-01, ...,\n",
       "         5.88349616e-02, -3.20864629e-01, -3.11204895e-01],\n",
       "       ...,\n",
       "       [ 1.32006036e+00, -1.32295123e-01,  6.26598180e-03, ...,\n",
       "        -9.19115131e-01,  3.90951094e-01,  1.70711183e-01],\n",
       "       [-5.88650770e-01, -5.88090875e-01, -4.94498289e-01, ...,\n",
       "        -8.14249001e-02, -4.61928018e-01, -5.19002605e-02],\n",
       "       [-1.78758639e-01, -5.05607185e-02, -1.63602312e-01, ...,\n",
       "        -1.01419102e+00, -3.40866120e-01,  1.58871581e-01]])"
      ]
     },
     "execution_count": 516,
     "metadata": {},
     "output_type": "execute_result"
    }
   ],
   "source": [
    "print(mlp_relu.score(x_test,y_test))\n",
    "x_test"
   ]
  },
  {
   "cell_type": "code",
   "execution_count": 456,
   "metadata": {},
   "outputs": [
    {
     "name": "stdout",
     "output_type": "stream",
     "text": [
      "-0.2588836013941407\n"
     ]
    }
   ],
   "source": [
    "mlp_logistic = MLPRegressor(hidden_layer_sizes=(20,20,20),activation='logistic',solver='lbfgs')\n",
    "mlp_logistic.fit(x_train,y_train)\n",
    "predictions_logistic = mlp_logistic.predict(x_test)\n",
    "print(mlp_logistic.score(x_test,y_test))"
   ]
  },
  {
   "cell_type": "code",
   "execution_count": 191,
   "metadata": {},
   "outputs": [
    {
     "data": {
      "text/plain": [
       "array([[ 36.  ,   8.  ,   1.  , ...,   9.  , 288.3 ,  83.6 ],\n",
       "       [ 14.  ,   4.  ,   0.  , ...,  16.6 , 276.57,  15.8 ],\n",
       "       [  5.  ,   1.  ,   3.  , ...,   5.7 , 323.27,  85.76],\n",
       "       ...,\n",
       "       [  3.  ,   0.95,   0.  , ...,   2.  ,  34.44,   1.94],\n",
       "       [ 29.  ,   5.6 ,  20.  , ...,  16.4 , 201.75,  43.76],\n",
       "       [ 67.75,   5.  ,   8.  , ...,   7.  , 130.11,  24.6 ]])"
      ]
     },
     "execution_count": 191,
     "metadata": {},
     "output_type": "execute_result"
    }
   ],
   "source": [
    "x"
   ]
  },
  {
   "cell_type": "code",
   "execution_count": null,
   "metadata": {},
   "outputs": [],
   "source": []
  }
 ],
 "metadata": {
  "kernelspec": {
   "display_name": "Python 3",
   "language": "python",
   "name": "python3"
  },
  "language_info": {
   "codemirror_mode": {
    "name": "ipython",
    "version": 3
   },
   "file_extension": ".py",
   "mimetype": "text/x-python",
   "name": "python",
   "nbconvert_exporter": "python",
   "pygments_lexer": "ipython3",
   "version": "3.7.4"
  }
 },
 "nbformat": 4,
 "nbformat_minor": 2
}
