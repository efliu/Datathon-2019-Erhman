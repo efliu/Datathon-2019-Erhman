{
 "cells": [
  {
   "cell_type": "code",
   "execution_count": 711,
   "metadata": {},
   "outputs": [
    {
     "name": "stdout",
     "output_type": "stream",
     "text": [
      "Requirement already satisfied: datascience in /Users/edwardliu/Downloads/anaconda3/lib/python3.7/site-packages (0.15.3)\n",
      "Requirement already satisfied: scipy in /Users/edwardliu/Downloads/anaconda3/lib/python3.7/site-packages (from datascience) (1.3.1)\n",
      "Requirement already satisfied: pytest in /Users/edwardliu/Downloads/anaconda3/lib/python3.7/site-packages (from datascience) (5.2.1)\n",
      "Requirement already satisfied: pandas in /Users/edwardliu/Downloads/anaconda3/lib/python3.7/site-packages (from datascience) (0.25.1)\n",
      "Requirement already satisfied: setuptools in /Users/edwardliu/Downloads/anaconda3/lib/python3.7/site-packages (from datascience) (41.4.0)\n",
      "Requirement already satisfied: ipython in /Users/edwardliu/Downloads/anaconda3/lib/python3.7/site-packages (from datascience) (7.8.0)\n",
      "Requirement already satisfied: folium>=0.9.1 in /Users/edwardliu/Downloads/anaconda3/lib/python3.7/site-packages (from datascience) (0.10.0)\n",
      "Requirement already satisfied: coveralls in /Users/edwardliu/Downloads/anaconda3/lib/python3.7/site-packages (from datascience) (1.8.2)\n",
      "Requirement already satisfied: matplotlib>=3.0.0 in /Users/edwardliu/Downloads/anaconda3/lib/python3.7/site-packages (from datascience) (3.1.1)\n",
      "Requirement already satisfied: bokeh in /Users/edwardliu/Downloads/anaconda3/lib/python3.7/site-packages (from datascience) (1.3.4)\n",
      "Requirement already satisfied: sphinx in /Users/edwardliu/Downloads/anaconda3/lib/python3.7/site-packages (from datascience) (2.2.0)\n",
      "Requirement already satisfied: numpy in /Users/edwardliu/Downloads/anaconda3/lib/python3.7/site-packages (from datascience) (1.17.2)\n",
      "Requirement already satisfied: coverage==4.5.3 in /Users/edwardliu/Downloads/anaconda3/lib/python3.7/site-packages (from datascience) (4.5.3)\n",
      "Requirement already satisfied: py>=1.5.0 in /Users/edwardliu/Downloads/anaconda3/lib/python3.7/site-packages (from pytest->datascience) (1.8.0)\n",
      "Requirement already satisfied: packaging in /Users/edwardliu/Downloads/anaconda3/lib/python3.7/site-packages (from pytest->datascience) (19.2)\n",
      "Requirement already satisfied: attrs>=17.4.0 in /Users/edwardliu/Downloads/anaconda3/lib/python3.7/site-packages (from pytest->datascience) (19.2.0)\n",
      "Requirement already satisfied: more-itertools>=4.0.0 in /Users/edwardliu/Downloads/anaconda3/lib/python3.7/site-packages (from pytest->datascience) (7.2.0)\n",
      "Requirement already satisfied: atomicwrites>=1.0 in /Users/edwardliu/Downloads/anaconda3/lib/python3.7/site-packages (from pytest->datascience) (1.3.0)\n",
      "Requirement already satisfied: pluggy<1.0,>=0.12 in /Users/edwardliu/Downloads/anaconda3/lib/python3.7/site-packages (from pytest->datascience) (0.13.0)\n",
      "Requirement already satisfied: wcwidth in /Users/edwardliu/Downloads/anaconda3/lib/python3.7/site-packages (from pytest->datascience) (0.1.7)\n",
      "Requirement already satisfied: importlib-metadata>=0.12 in /Users/edwardliu/Downloads/anaconda3/lib/python3.7/site-packages (from pytest->datascience) (0.23)\n",
      "Requirement already satisfied: python-dateutil>=2.6.1 in /Users/edwardliu/Downloads/anaconda3/lib/python3.7/site-packages (from pandas->datascience) (2.8.0)\n",
      "Requirement already satisfied: pytz>=2017.2 in /Users/edwardliu/Downloads/anaconda3/lib/python3.7/site-packages (from pandas->datascience) (2019.3)\n",
      "Requirement already satisfied: backcall in /Users/edwardliu/Downloads/anaconda3/lib/python3.7/site-packages (from ipython->datascience) (0.1.0)\n",
      "Requirement already satisfied: pygments in /Users/edwardliu/Downloads/anaconda3/lib/python3.7/site-packages (from ipython->datascience) (2.4.2)\n",
      "Requirement already satisfied: traitlets>=4.2 in /Users/edwardliu/Downloads/anaconda3/lib/python3.7/site-packages (from ipython->datascience) (4.3.3)\n",
      "Requirement already satisfied: jedi>=0.10 in /Users/edwardliu/Downloads/anaconda3/lib/python3.7/site-packages (from ipython->datascience) (0.15.1)\n",
      "Requirement already satisfied: appnope; sys_platform == \"darwin\" in /Users/edwardliu/Downloads/anaconda3/lib/python3.7/site-packages (from ipython->datascience) (0.1.0)\n",
      "Requirement already satisfied: pexpect; sys_platform != \"win32\" in /Users/edwardliu/Downloads/anaconda3/lib/python3.7/site-packages (from ipython->datascience) (4.7.0)\n",
      "Requirement already satisfied: prompt-toolkit<2.1.0,>=2.0.0 in /Users/edwardliu/Downloads/anaconda3/lib/python3.7/site-packages (from ipython->datascience) (2.0.10)\n",
      "Requirement already satisfied: pickleshare in /Users/edwardliu/Downloads/anaconda3/lib/python3.7/site-packages (from ipython->datascience) (0.7.5)\n",
      "Requirement already satisfied: decorator in /Users/edwardliu/Downloads/anaconda3/lib/python3.7/site-packages (from ipython->datascience) (4.4.0)\n",
      "Requirement already satisfied: requests in /Users/edwardliu/Downloads/anaconda3/lib/python3.7/site-packages (from folium>=0.9.1->datascience) (2.22.0)\n",
      "Requirement already satisfied: jinja2>=2.9 in /Users/edwardliu/Downloads/anaconda3/lib/python3.7/site-packages (from folium>=0.9.1->datascience) (2.10.3)\n",
      "Requirement already satisfied: branca>=0.3.0 in /Users/edwardliu/Downloads/anaconda3/lib/python3.7/site-packages (from folium>=0.9.1->datascience) (0.3.1)\n",
      "Requirement already satisfied: docopt>=0.6.1 in /Users/edwardliu/Downloads/anaconda3/lib/python3.7/site-packages (from coveralls->datascience) (0.6.2)\n",
      "Requirement already satisfied: cycler>=0.10 in /Users/edwardliu/Downloads/anaconda3/lib/python3.7/site-packages (from matplotlib>=3.0.0->datascience) (0.10.0)\n",
      "Requirement already satisfied: kiwisolver>=1.0.1 in /Users/edwardliu/Downloads/anaconda3/lib/python3.7/site-packages (from matplotlib>=3.0.0->datascience) (1.1.0)\n",
      "Requirement already satisfied: pyparsing!=2.0.4,!=2.1.2,!=2.1.6,>=2.0.1 in /Users/edwardliu/Downloads/anaconda3/lib/python3.7/site-packages (from matplotlib>=3.0.0->datascience) (2.4.2)\n",
      "Requirement already satisfied: tornado>=4.3 in /Users/edwardliu/Downloads/anaconda3/lib/python3.7/site-packages (from bokeh->datascience) (6.0.3)\n",
      "Requirement already satisfied: pillow>=4.0 in /Users/edwardliu/Downloads/anaconda3/lib/python3.7/site-packages (from bokeh->datascience) (6.2.0)\n",
      "Requirement already satisfied: six>=1.5.2 in /Users/edwardliu/Downloads/anaconda3/lib/python3.7/site-packages (from bokeh->datascience) (1.12.0)\n",
      "Requirement already satisfied: PyYAML>=3.10 in /Users/edwardliu/Downloads/anaconda3/lib/python3.7/site-packages (from bokeh->datascience) (5.1.2)\n",
      "Requirement already satisfied: imagesize in /Users/edwardliu/Downloads/anaconda3/lib/python3.7/site-packages (from sphinx->datascience) (1.1.0)\n",
      "Requirement already satisfied: sphinxcontrib-jsmath in /Users/edwardliu/Downloads/anaconda3/lib/python3.7/site-packages (from sphinx->datascience) (1.0.1)\n",
      "Requirement already satisfied: sphinxcontrib-qthelp in /Users/edwardliu/Downloads/anaconda3/lib/python3.7/site-packages (from sphinx->datascience) (1.0.2)\n",
      "Requirement already satisfied: snowballstemmer>=1.1 in /Users/edwardliu/Downloads/anaconda3/lib/python3.7/site-packages (from sphinx->datascience) (2.0.0)\n",
      "Requirement already satisfied: sphinxcontrib-htmlhelp in /Users/edwardliu/Downloads/anaconda3/lib/python3.7/site-packages (from sphinx->datascience) (1.0.2)\n",
      "Requirement already satisfied: sphinxcontrib-serializinghtml in /Users/edwardliu/Downloads/anaconda3/lib/python3.7/site-packages (from sphinx->datascience) (1.1.3)\n",
      "Requirement already satisfied: alabaster<0.8,>=0.7 in /Users/edwardliu/Downloads/anaconda3/lib/python3.7/site-packages (from sphinx->datascience) (0.7.12)\n",
      "Requirement already satisfied: babel!=2.0,>=1.3 in /Users/edwardliu/Downloads/anaconda3/lib/python3.7/site-packages (from sphinx->datascience) (2.7.0)\n",
      "Requirement already satisfied: sphinxcontrib-applehelp in /Users/edwardliu/Downloads/anaconda3/lib/python3.7/site-packages (from sphinx->datascience) (1.0.1)\n",
      "Requirement already satisfied: sphinxcontrib-devhelp in /Users/edwardliu/Downloads/anaconda3/lib/python3.7/site-packages (from sphinx->datascience) (1.0.1)\n",
      "Requirement already satisfied: docutils>=0.12 in /Users/edwardliu/Downloads/anaconda3/lib/python3.7/site-packages (from sphinx->datascience) (0.15.2)\n",
      "Requirement already satisfied: zipp>=0.5 in /Users/edwardliu/Downloads/anaconda3/lib/python3.7/site-packages (from importlib-metadata>=0.12->pytest->datascience) (0.6.0)\n",
      "Requirement already satisfied: ipython-genutils in /Users/edwardliu/Downloads/anaconda3/lib/python3.7/site-packages (from traitlets>=4.2->ipython->datascience) (0.2.0)\n",
      "Requirement already satisfied: parso>=0.5.0 in /Users/edwardliu/Downloads/anaconda3/lib/python3.7/site-packages (from jedi>=0.10->ipython->datascience) (0.5.1)\n",
      "Requirement already satisfied: ptyprocess>=0.5 in /Users/edwardliu/Downloads/anaconda3/lib/python3.7/site-packages (from pexpect; sys_platform != \"win32\"->ipython->datascience) (0.6.0)\n",
      "Requirement already satisfied: chardet<3.1.0,>=3.0.2 in /Users/edwardliu/Downloads/anaconda3/lib/python3.7/site-packages (from requests->folium>=0.9.1->datascience) (3.0.4)\n",
      "Requirement already satisfied: urllib3!=1.25.0,!=1.25.1,<1.26,>=1.21.1 in /Users/edwardliu/Downloads/anaconda3/lib/python3.7/site-packages (from requests->folium>=0.9.1->datascience) (1.24.2)\n",
      "Requirement already satisfied: idna<2.9,>=2.5 in /Users/edwardliu/Downloads/anaconda3/lib/python3.7/site-packages (from requests->folium>=0.9.1->datascience) (2.8)\n",
      "Requirement already satisfied: certifi>=2017.4.17 in /Users/edwardliu/Downloads/anaconda3/lib/python3.7/site-packages (from requests->folium>=0.9.1->datascience) (2019.9.11)\n",
      "Requirement already satisfied: MarkupSafe>=0.23 in /Users/edwardliu/Downloads/anaconda3/lib/python3.7/site-packages (from jinja2>=2.9->folium>=0.9.1->datascience) (1.1.1)\n"
     ]
    }
   ],
   "source": [
    "!pip install datascience"
   ]
  },
  {
   "cell_type": "code",
   "execution_count": 712,
   "metadata": {},
   "outputs": [
    {
     "name": "stdout",
     "output_type": "stream",
     "text": [
      "Requirement already up-to-date: scikit-learn in /Users/edwardliu/Downloads/anaconda3/lib/python3.7/site-packages (0.21.3)\r\n",
      "Requirement already satisfied, skipping upgrade: joblib>=0.11 in /Users/edwardliu/Downloads/anaconda3/lib/python3.7/site-packages (from scikit-learn) (0.13.2)\r\n",
      "Requirement already satisfied, skipping upgrade: numpy>=1.11.0 in /Users/edwardliu/Downloads/anaconda3/lib/python3.7/site-packages (from scikit-learn) (1.17.2)\r\n",
      "Requirement already satisfied, skipping upgrade: scipy>=0.17.0 in /Users/edwardliu/Downloads/anaconda3/lib/python3.7/site-packages (from scikit-learn) (1.3.1)\r\n"
     ]
    }
   ],
   "source": [
    "!pip install -U scikit-learn"
   ]
  },
  {
   "cell_type": "code",
   "execution_count": 713,
   "metadata": {},
   "outputs": [],
   "source": [
    "import pandas as pd\n",
    "from datascience import *\n",
    "import numpy as np"
   ]
  },
  {
   "cell_type": "code",
   "execution_count": 714,
   "metadata": {
    "scrolled": true
   },
   "outputs": [
    {
     "data": {
      "text/html": [
       "<table border=\"1\" class=\"dataframe\">\n",
       "    <thead>\n",
       "        <tr>\n",
       "            <th>DISTRICT</th> <th>CO</th> <th>CDS</th> <th>EDP 365</th> <th>Current Expense ADA</th> <th>Current Expense per ADA</th> <th>LEA Type</th> <th>enroll12</th> <th>NumTstTakr</th> <th>NumCurrElaBenchmark</th> <th>NumPreElaBenchmark</th> <th>TotNumElaBenchmark</th> <th>PctElaBenchmark</th> <th>NumCurrMathBenchmark</th> <th>NumPreMathBenchmark</th> <th>TotNumMathBenchmark</th> <th>PctMathBenchmark</th> <th>TotNumBothBenchmark</th> <th>PctBothBenchmark</th> <th>District Administrative Support:</th> <th>District Administrators:</th> <th>Elementary Guidance Counselors:</th> <th>Elementary:</th> <th>Instruc. Coordinators &amp; Supervisors:</th> <th>Instructional Aides:</th> <th>Kindergarten:</th> <th>Librarians/Media Specialists:</th> <th>Library/Media Support:</th> <th>Other Support Services:</th> <th>Prekindergarten:</th> <th>School Administrative Support:</th> <th>School Administrators:</th> <th>Secondary Guidance Counselors:</th> <th>Secondary:</th> <th>Student Support Services:</th> <th>Ungraded:</th>\n",
       "        </tr>\n",
       "    </thead>\n",
       "    <tbody>\n",
       "        <tr>\n",
       "            <td>ABC Unified             </td> <td>19  </td> <td>64212</td> <td>215,049,027</td> <td>19,855.30          </td> <td>10,831                 </td> <td>Unified                  </td> <td>1810    </td> <td>1005      </td> <td>822                </td> <td>6                 </td> <td>828               </td> <td>82.39          </td> <td>665                 </td> <td>5                  </td> <td>670                </td> <td>66.67           </td> <td>644                </td> <td>64.08           </td> <td>36                              </td> <td>8                       </td> <td>1                              </td> <td>469.07     </td> <td>19.9                                    </td> <td>148.3               </td> <td>67.58        </td> <td>0                            </td> <td>0                     </td> <td>416.44                 </td> <td>0               </td> <td>81.13                         </td> <td>56                    </td> <td>9                             </td> <td>288.3     </td> <td>83.6                     </td> <td>3.67     </td>\n",
       "        </tr>\n",
       "        <tr>\n",
       "            <td>Acalanes Union High     </td> <td>7   </td> <td>61630</td> <td>74,213,974 </td> <td>5,404.70           </td> <td>13,731                 </td> <td>High                     </td> <td>1426    </td> <td>761       </td> <td>728                </td> <td>3                 </td> <td>731               </td> <td>96.06          </td> <td>676                 </td> <td>3                  </td> <td>679                </td> <td>89.22           </td> <td>673                </td> <td>88.44           </td> <td>14                              </td> <td>4                       </td> <td>0                              </td> <td>0.13       </td> <td>4                                       </td> <td>27.46               </td> <td>0            </td> <td>0                            </td> <td>0                     </td> <td>55.39                  </td> <td>0               </td> <td>29                            </td> <td>8.5                   </td> <td>16.6                          </td> <td>276.57    </td> <td>15.8                     </td> <td>1.5      </td>\n",
       "        </tr>\n",
       "        <tr>\n",
       "            <td>Acton-Agua Dulce Unified</td> <td>19  </td> <td>75309</td> <td>14,550,055 </td> <td>1,026.60           </td> <td>14,173                 </td> <td>Unified                  </td> <td>1180    </td> <td>134       </td> <td>97                 </td> <td>0                 </td> <td>97                </td> <td>72.39          </td> <td>66                  </td> <td>0                  </td> <td>66                 </td> <td>49.25           </td> <td>64                 </td> <td>47.76           </td> <td>5                               </td> <td>1                       </td> <td>3                              </td> <td>258.38     </td> <td>75.14                                   </td> <td>105.29              </td> <td>37.08        </td> <td>0                            </td> <td>0                     </td> <td>66.52                  </td> <td>0               </td> <td>180.63                        </td> <td>57.47                 </td> <td>5.7                           </td> <td>323.27    </td> <td>85.76                    </td> <td>22.22    </td>\n",
       "        </tr>\n",
       "    </tbody>\n",
       "</table>\n",
       "<p>... (387 rows omitted)</p>"
      ],
      "text/plain": [
       "<IPython.core.display.HTML object>"
      ]
     },
     "metadata": {},
     "output_type": "display_data"
    }
   ],
   "source": [
    "og_master_df = pd.read_csv('/Users/edwardliu/Documents/Datathon-2019-Erhman/DFs/Master.csv')\n",
    "og_master = Table.from_df(og_master_df)\n",
    "og_master.show(3)"
   ]
  },
  {
   "cell_type": "code",
   "execution_count": 716,
   "metadata": {},
   "outputs": [
    {
     "data": {
      "text/html": [
       "<table border=\"1\" class=\"dataframe\">\n",
       "    <thead>\n",
       "        <tr>\n",
       "            <th>DISTRICT</th> <th>CO</th> <th>CDS</th> <th>EDP 365</th> <th>Current Expense ADA</th> <th>Current Expense per ADA</th> <th>LEA Type</th> <th>enroll12</th> <th>NumTstTakr</th> <th>PctBothBenchmark</th> <th>District Administrative Support:</th> <th>District Administrators:</th> <th>Elementary Guidance Counselors:</th> <th>Elementary:</th> <th>Instruc. Coordinators &amp; Supervisors:</th> <th>Instructional Aides:</th> <th>Kindergarten:</th> <th>Librarians/Media Specialists:</th> <th>Library/Media Support:</th> <th>Other Support Services:</th> <th>Prekindergarten:</th> <th>School Administrative Support:</th> <th>School Administrators:</th> <th>Secondary Guidance Counselors:</th> <th>Secondary:</th> <th>Student Support Services:</th>\n",
       "        </tr>\n",
       "    </thead>\n",
       "    <tbody>\n",
       "        <tr>\n",
       "            <td>ABC Unified             </td> <td>19  </td> <td>64212</td> <td>215,049,027</td> <td>19,855.30          </td> <td>10,831                 </td> <td>Unified                  </td> <td>1810    </td> <td>1005      </td> <td>64.08           </td> <td>36                              </td> <td>8                       </td> <td>1                              </td> <td>469.07     </td> <td>19.9                                    </td> <td>148.3               </td> <td>67.58        </td> <td>0                            </td> <td>0                     </td> <td>416.44                 </td> <td>0               </td> <td>81.13                         </td> <td>56                    </td> <td>9                             </td> <td>288.3     </td> <td>83.6                     </td>\n",
       "        </tr>\n",
       "        <tr>\n",
       "            <td>Acalanes Union High     </td> <td>7   </td> <td>61630</td> <td>74,213,974 </td> <td>5,404.70           </td> <td>13,731                 </td> <td>High                     </td> <td>1426    </td> <td>761       </td> <td>88.44           </td> <td>14                              </td> <td>4                       </td> <td>0                              </td> <td>0.13       </td> <td>4                                       </td> <td>27.46               </td> <td>0            </td> <td>0                            </td> <td>0                     </td> <td>55.39                  </td> <td>0               </td> <td>29                            </td> <td>8.5                   </td> <td>16.6                          </td> <td>276.57    </td> <td>15.8                     </td>\n",
       "        </tr>\n",
       "        <tr>\n",
       "            <td>Acton-Agua Dulce Unified</td> <td>19  </td> <td>75309</td> <td>14,550,055 </td> <td>1,026.60           </td> <td>14,173                 </td> <td>Unified                  </td> <td>1180    </td> <td>134       </td> <td>47.76           </td> <td>5                               </td> <td>1                       </td> <td>3                              </td> <td>258.38     </td> <td>75.14                                   </td> <td>105.29              </td> <td>37.08        </td> <td>0                            </td> <td>0                     </td> <td>66.52                  </td> <td>0               </td> <td>180.63                        </td> <td>57.47                 </td> <td>5.7                           </td> <td>323.27    </td> <td>85.76                    </td>\n",
       "        </tr>\n",
       "    </tbody>\n",
       "</table>\n",
       "<p>... (387 rows omitted)</p>"
      ],
      "text/plain": [
       "<IPython.core.display.HTML object>"
      ]
     },
     "metadata": {},
     "output_type": "display_data"
    }
   ],
   "source": [
    "master = og_master.drop(np.arange(9,18)).drop('Ungraded:')\n",
    "master.show(3)"
   ]
  },
  {
   "cell_type": "code",
   "execution_count": 717,
   "metadata": {},
   "outputs": [],
   "source": [
    "master_staff = master.select(np.arange(10,26,1))\n",
    "master_staff_df = master_staff.to_df()\n",
    "master_staff_array = master_staff_df.rename_axis('Features').values"
   ]
  },
  {
   "cell_type": "code",
   "execution_count": 718,
   "metadata": {},
   "outputs": [],
   "source": [
    "x = master_staff_array\n",
    "y = master.column(9)"
   ]
  },
  {
   "cell_type": "code",
   "execution_count": 719,
   "metadata": {},
   "outputs": [],
   "source": [
    "from sklearn.model_selection import train_test_split\n",
    "x_train, x_test, y_train, y_test = train_test_split(x,y)"
   ]
  },
  {
   "cell_type": "code",
   "execution_count": 720,
   "metadata": {},
   "outputs": [
    {
     "data": {
      "text/plain": [
       "StandardScaler(copy=True, with_mean=True, with_std=True)"
      ]
     },
     "execution_count": 720,
     "metadata": {},
     "output_type": "execute_result"
    }
   ],
   "source": [
    "from sklearn.preprocessing import StandardScaler\n",
    "scaler = StandardScaler()\n",
    "scaler.fit(x_train)"
   ]
  },
  {
   "cell_type": "code",
   "execution_count": null,
   "metadata": {},
   "outputs": [],
   "source": [
    "# Manual Standardization - Don't Run!\n",
    "\n",
    "enrollment = master['enroll12']\n",
    "\n",
    "\n",
    "new_staff = []\n",
    "for i in range(len(master_staff_array)):\n",
    "    enroll = enrollment[i]\n",
    "    new_staff.append(master_staff_array[i]/enroll)\n",
    "    \n",
    "master_staff_array = new_staff"
   ]
  },
  {
   "cell_type": "code",
   "execution_count": 721,
   "metadata": {},
   "outputs": [],
   "source": [
    "x_train = scaler.transform(x_train)\n",
    "x_test = scaler.transform(x_test)"
   ]
  },
  {
   "cell_type": "code",
   "execution_count": 722,
   "metadata": {},
   "outputs": [],
   "source": [
    "from sklearn import preprocessing"
   ]
  },
  {
   "cell_type": "code",
   "execution_count": 725,
   "metadata": {},
   "outputs": [],
   "source": [
    "x_train = preprocessing.scale(x_train)\n",
    "x_test = preprocessing.scale(x_test)"
   ]
  },
  {
   "cell_type": "code",
   "execution_count": 724,
   "metadata": {},
   "outputs": [],
   "source": [
    "from sklearn.neural_network import MLPRegressor\n",
    "from sklearn.linear_model import LinearRegression\n",
    "from sklearn.linear_model import Lasso"
   ]
  },
  {
   "cell_type": "code",
   "execution_count": 726,
   "metadata": {},
   "outputs": [
    {
     "name": "stdout",
     "output_type": "stream",
     "text": [
      "-0.6549893391633046\n"
     ]
    }
   ],
   "source": [
    "mlp_relu = MLPRegressor(hidden_layer_sizes=(16,16,16),activation='relu',solver='lbfgs')\n",
    "mlp_relu.fit(x_train,y_train)\n",
    "predictions_relu = mlp_relu.predict(x_test)\n",
    "print(mlp_relu.score(x_test,y_test))"
   ]
  },
  {
   "cell_type": "code",
   "execution_count": 727,
   "metadata": {},
   "outputs": [
    {
     "name": "stdout",
     "output_type": "stream",
     "text": [
      "-0.19111483833351461\n"
     ]
    }
   ],
   "source": [
    "mlp_logistic = MLPRegressor(hidden_layer_sizes=(16,16,16),activation='logistic',solver='lbfgs')\n",
    "mlp_logistic.fit(x_train,y_train)\n",
    "predictions_logistic = mlp_logistic.predict(x_test)\n",
    "print(mlp_logistic.score(x_test,y_test))"
   ]
  },
  {
   "cell_type": "code",
   "execution_count": 728,
   "metadata": {},
   "outputs": [
    {
     "name": "stdout",
     "output_type": "stream",
     "text": [
      "-0.1258882659285312\n"
     ]
    }
   ],
   "source": [
    "mlp_tanh = MLPRegressor(hidden_layer_sizes=(16,16,16),activation='tanh',solver='lbfgs')\n",
    "mlp_tanh.fit(x_train,y_train)\n",
    "predictions_tanh = mlp_tanh.predict(x_test)\n",
    "print(mlp_tanh.score(x_test,y_test))"
   ]
  },
  {
   "cell_type": "code",
   "execution_count": 729,
   "metadata": {},
   "outputs": [
    {
     "name": "stdout",
     "output_type": "stream",
     "text": [
      "-0.09355597559002926\n"
     ]
    }
   ],
   "source": [
    "mlp_identity = MLPRegressor(hidden_layer_sizes=(16,16,16),activation='identity',solver='lbfgs')\n",
    "mlp_identity.fit(x_train,y_train)\n",
    "predictions_identity = mlp_identity.predict(x_test)\n",
    "print(mlp_identity.score(x_test,y_test))"
   ]
  },
  {
   "cell_type": "code",
   "execution_count": 730,
   "metadata": {},
   "outputs": [
    {
     "name": "stdout",
     "output_type": "stream",
     "text": [
      "-0.09362960413441712\n"
     ]
    }
   ],
   "source": [
    "mlp_regressor = LinearRegression()\n",
    "mlp_regressor.fit(x_train,y_train)\n",
    "predictions_regressor = mlp_regressor.predict(x_test)\n",
    "print(mlp_regressor.score(x_test,y_test))"
   ]
  },
  {
   "cell_type": "code",
   "execution_count": 731,
   "metadata": {},
   "outputs": [
    {
     "data": {
      "text/html": [
       "<table border=\"1\" class=\"dataframe\">\n",
       "    <thead>\n",
       "        <tr>\n",
       "            <th>Unnamed: 0</th> <th>AFFGEOID</th> <th>ALAND</th> <th>AWATER</th> <th>ELSDLEA</th> <th>GEOID</th> <th>LSAD</th> <th>NAME</th> <th>STATEFP</th> <th>UNSDLEA</th> <th>geometry</th> <th>DISTRICT</th> <th>CO</th> <th>CDS</th> <th>EDP 365</th> <th>Current Expense ADA</th> <th>Current Expense per ADA</th> <th>LEA Type</th> <th>enroll12</th> <th>NumTstTakr</th> <th>NumCurrElaBenchmark</th> <th>NumPreElaBenchmark</th> <th>TotNumElaBenchmark</th> <th>PctElaBenchmark</th> <th>NumCurrMathBenchmark</th> <th>NumPreMathBenchmark</th> <th>TotNumMathBenchmark</th> <th>PctMathBenchmark</th> <th>TotNumBothBenchmark</th> <th>PctBothBenchmark</th> <th>Category</th> <th>Teachers</th> <th>Staff Support</th> <th>Administrators</th> <th>Counselors</th> <th>Librarians</th> <th>Student Support</th>\n",
       "        </tr>\n",
       "    </thead>\n",
       "    <tbody>\n",
       "        <tr>\n",
       "            <td>120       </td> <td>9700000US0601620</td> <td>38772464 </td> <td>556062 </td> <td>nan    </td> <td>601620</td> <td>0   </td> <td>ABC Unified             </td> <td>6      </td> <td>1620   </td> <td>POLYGON ((-118.108573 33.887749, -118.108277 33.887728,  ...</td> <td>ABC Unified             </td> <td>19  </td> <td>64212</td> <td>215,049,027</td> <td>19,855.30          </td> <td>10831                  </td> <td>Unified                  </td> <td>1810    </td> <td>1005      </td> <td>822                </td> <td>6                 </td> <td>828               </td> <td>82.39          </td> <td>665                 </td> <td>5                  </td> <td>670                </td> <td>66.67           </td> <td>644                </td> <td>64.08           </td> <td>0       </td> <td>824.95  </td> <td>701.77       </td> <td>64            </td> <td>10        </td> <td>0         </td> <td>83.6           </td>\n",
       "        </tr>\n",
       "        <tr>\n",
       "            <td>74        </td> <td>9700000US0600001</td> <td>555175119</td> <td>182566 </td> <td>nan    </td> <td>600001</td> <td>0   </td> <td>Acton-Agua Dulce Unified</td> <td>6      </td> <td>1      </td> <td>POLYGON ((-118.3801 34.503694, -118.377236 34.504546, -1 ...</td> <td>Acton-Agua Dulce Unified</td> <td>19  </td> <td>75309</td> <td>14,550,055 </td> <td>1,026.60           </td> <td>14173                  </td> <td>Unified                  </td> <td>1180    </td> <td>134       </td> <td>97                 </td> <td>0                 </td> <td>97                </td> <td>72.39          </td> <td>66                  </td> <td>0                  </td> <td>66                 </td> <td>49.25           </td> <td>64                 </td> <td>47.76           </td> <td>2       </td> <td>618.73  </td> <td>432.58       </td> <td>58.47         </td> <td>8.7       </td> <td>0         </td> <td>85.76          </td>\n",
       "        </tr>\n",
       "        <tr>\n",
       "            <td>29        </td> <td>9700000US0601860</td> <td>4636365  </td> <td>9521771</td> <td>nan    </td> <td>601860</td> <td>0   </td> <td>Albany City Unified     </td> <td>6      </td> <td>1860   </td> <td>POLYGON ((-122.326912 37.889647548398, -122.326912 37.89 ...</td> <td>Albany City Unified     </td> <td>1   </td> <td>61127</td> <td>45,683,532 </td> <td>3,537.40           </td> <td>12914                  </td> <td>Unified                  </td> <td>279     </td> <td>166       </td> <td>156                </td> <td>0                 </td> <td>156               </td> <td>93.98          </td> <td>148                 </td> <td>0                  </td> <td>148                </td> <td>89.16           </td> <td>146                </td> <td>87.95           </td> <td>1       </td> <td>168.94  </td> <td>146.75       </td> <td>9.98          </td> <td>5.6       </td> <td>4         </td> <td>8.4            </td>\n",
       "        </tr>\n",
       "    </tbody>\n",
       "</table>\n",
       "<p>... (315 rows omitted)</p>"
      ],
      "text/plain": [
       "<IPython.core.display.HTML object>"
      ]
     },
     "metadata": {},
     "output_type": "display_data"
    }
   ],
   "source": [
    "categorized_df = pd.read_csv('/Users/edwardliu/Documents/Datathon-2019-Erhman/DFs/MasterCategorized.csv')\n",
    "categorized = Table.from_df(categorized_df)\n",
    "categorized.show(3)"
   ]
  },
  {
   "cell_type": "code",
   "execution_count": 733,
   "metadata": {},
   "outputs": [
    {
     "data": {
      "text/html": [
       "<table border=\"1\" class=\"dataframe\">\n",
       "    <thead>\n",
       "        <tr>\n",
       "            <th>DISTRICT</th> <th>CO</th> <th>CDS</th> <th>EDP 365</th> <th>Current Expense ADA</th> <th>Current Expense per ADA</th> <th>LEA Type</th> <th>enroll12</th> <th>NumTstTakr</th> <th>NumCurrElaBenchmark</th> <th>NumPreElaBenchmark</th> <th>TotNumElaBenchmark</th> <th>PctElaBenchmark</th> <th>NumCurrMathBenchmark</th> <th>NumPreMathBenchmark</th> <th>TotNumMathBenchmark</th> <th>PctMathBenchmark</th> <th>TotNumBothBenchmark</th> <th>PctBothBenchmark</th> <th>Category</th> <th>Teachers</th> <th>Staff Support</th> <th>Administrators</th> <th>Counselors</th> <th>Librarians</th> <th>Student Support</th>\n",
       "        </tr>\n",
       "    </thead>\n",
       "    <tbody>\n",
       "        <tr>\n",
       "            <td>ABC Unified          </td> <td>19  </td> <td>64212</td> <td>215,049,027</td> <td>19,855.30          </td> <td>10831                  </td> <td>Unified                  </td> <td>1810    </td> <td>1005      </td> <td>822                </td> <td>6                 </td> <td>828               </td> <td>82.39          </td> <td>665                 </td> <td>5                  </td> <td>670                </td> <td>66.67           </td> <td>644                </td> <td>64.08           </td> <td>0       </td> <td>824.95  </td> <td>701.77       </td> <td>64            </td> <td>10        </td> <td>0         </td> <td>83.6           </td>\n",
       "        </tr>\n",
       "        <tr>\n",
       "            <td>Amador County Unified</td> <td>3   </td> <td>73981</td> <td>33,806,573 </td> <td>3,732.10           </td> <td>9058                   </td> <td>Unified                  </td> <td>322     </td> <td>88        </td> <td>79                 </td> <td>0                 </td> <td>79                </td> <td>89.77          </td> <td>60                  </td> <td>0                  </td> <td>60                 </td> <td>68.18           </td> <td>59                 </td> <td>67.05           </td> <td>0       </td> <td>161.62  </td> <td>139.36       </td> <td>15.16         </td> <td>6.3       </td> <td>0         </td> <td>1.2            </td>\n",
       "        </tr>\n",
       "        <tr>\n",
       "            <td>Arcadia Unified      </td> <td>19  </td> <td>64261</td> <td>101,395,950</td> <td>9,209.90           </td> <td>11009                  </td> <td>Unified                  </td> <td>892     </td> <td>637       </td> <td>600                </td> <td>1                 </td> <td>601               </td> <td>94.35          </td> <td>572                 </td> <td>1                  </td> <td>573                </td> <td>89.95           </td> <td>560                </td> <td>87.91           </td> <td>0       </td> <td>378.98  </td> <td>387.22       </td> <td>24.33         </td> <td>14        </td> <td>0         </td> <td>24.34          </td>\n",
       "        </tr>\n",
       "    </tbody>\n",
       "</table>\n",
       "<p>... (135 rows omitted)</p>"
      ],
      "text/plain": [
       "<IPython.core.display.HTML object>"
      ]
     },
     "metadata": {},
     "output_type": "display_data"
    }
   ],
   "source": [
    "lower = categorized.where('Category',0).drop(np.arange(0,11))\n",
    "middle = categorized.where('Category',1).drop(np.arange(0,11))\n",
    "upper = categorized.where('Category',2).drop(np.arange(0,11))\n",
    "lower.show(3)"
   ]
  },
  {
   "cell_type": "code",
   "execution_count": 734,
   "metadata": {},
   "outputs": [],
   "source": [
    "lower_staff = lower.select(np.arange(20,26,1))\n",
    "lower_staff_df = lower_staff.to_df()\n",
    "lower_staff_array = lower_staff_df.rename_axis('Features').values\n",
    "\n",
    "middle_staff = middle.select(np.arange(20,26,1))\n",
    "middle_staff_df = middle_staff.to_df()\n",
    "middle_staff_array = middle_staff_df.rename_axis('Features').values\n",
    "\n",
    "upper_staff = upper.select(np.arange(20,26,1))\n",
    "upper_staff_df = upper_staff.to_df()\n",
    "upper_staff_array = upper_staff_df.rename_axis('Features').values"
   ]
  },
  {
   "cell_type": "code",
   "execution_count": 735,
   "metadata": {},
   "outputs": [],
   "source": [
    "lower_x = lower_staff_array\n",
    "lower_y = lower.column(18)\n",
    "\n",
    "middle_x = middle_staff_array\n",
    "middle_y = middle.column(18)\n",
    "\n",
    "upper_x = upper_staff_array\n",
    "upper_y = upper.column(18)"
   ]
  },
  {
   "cell_type": "code",
   "execution_count": 736,
   "metadata": {},
   "outputs": [],
   "source": [
    "lower_x_train, lower_x_test, lower_y_train, lower_y_test = train_test_split(lower_x,lower_y)\n",
    "\n",
    "middle_x_train, middle_x_test, middle_y_train, middle_y_test = train_test_split(middle_x,middle_y)\n",
    "\n",
    "upper_x_train, upper_x_test, upper_y_train, upper_y_test = train_test_split(upper_x,upper_y)"
   ]
  },
  {
   "cell_type": "code",
   "execution_count": 737,
   "metadata": {},
   "outputs": [],
   "source": [
    "lower_scaler = StandardScaler()\n",
    "lower_scaler.fit(lower_x_train)\n",
    "lower_x_train = lower_scaler.transform(lower_x_train)\n",
    "lower_x_test = lower_scaler.transform(lower_x_test)\n",
    "\n",
    "middle_scaler = StandardScaler()\n",
    "middle_scaler.fit(middle_x_train)\n",
    "middle_x_train = middle_scaler.transform(middle_x_train)\n",
    "middle_x_test = middle_scaler.transform(middle_x_test)\n",
    "\n",
    "upper_scaler = StandardScaler()\n",
    "upper_scaler.fit(upper_x_train)\n",
    "upper_x_train = upper_scaler.transform(upper_x_train)\n",
    "upper_x_test = upper_scaler.transform(upper_x_test)"
   ]
  },
  {
   "cell_type": "code",
   "execution_count": 764,
   "metadata": {},
   "outputs": [],
   "source": [
    "# We decided to train and test on all indices due to the lack of volume in our dataset."
   ]
  },
  {
   "cell_type": "code",
   "execution_count": 772,
   "metadata": {},
   "outputs": [
    {
     "name": "stdout",
     "output_type": "stream",
     "text": [
      "0.04427431774234536\n"
     ]
    }
   ],
   "source": [
    "lower_mlp_relu = MLPRegressor(hidden_layer_sizes=(6,6,6),activation='relu',solver='lbfgs',max_iter=10000)\n",
    "lower_mlp_relu.fit(lower_x,lower_y)\n",
    "lower_predictions_relu = lower_mlp_relu.predict(lower_x)\n",
    "print(lower_mlp_relu.score(lower_x,lower_y))"
   ]
  },
  {
   "cell_type": "code",
   "execution_count": 803,
   "metadata": {},
   "outputs": [
    {
     "name": "stdout",
     "output_type": "stream",
     "text": [
      "0.3451527806476983\n"
     ]
    },
    {
     "data": {
      "text/plain": [
       "['mlp_logistic_model.sav']"
      ]
     },
     "execution_count": 803,
     "metadata": {},
     "output_type": "execute_result"
    }
   ],
   "source": [
    "lower_mlp_logistic = MLPRegressor(hidden_layer_sizes=(20,20,20),activation='logistic',solver='lbfgs',max_iter=10000, tol=1e-7)\n",
    "lower_mlp_logistic.fit(lower_x,lower_y)\n",
    "lower_predictions_logistic = lower_mlp_logistic.predict(lower_x)\n",
    "print(lower_mlp_logistic.score(lower_x,lower_y))\n",
    "\n",
    "from sklearn.externals import joblib\n",
    "filename='mlp_logistic_model.sav'\n",
    "joblib.dump(lower_mlp_logistic, filename)"
   ]
  },
  {
   "cell_type": "code",
   "execution_count": 752,
   "metadata": {},
   "outputs": [
    {
     "name": "stdout",
     "output_type": "stream",
     "text": [
      "0.10286882450230728\n"
     ]
    }
   ],
   "source": [
    "lower_mlp_tanh = MLPRegressor(hidden_layer_sizes=(20,20,20),activation='tanh',solver='lbfgs',max_iter=10000)\n",
    "lower_mlp_tanh.fit(lower_x,lower_y)\n",
    "lower_predictions_tanh = lower_mlp_tanh.predict(lower_x)\n",
    "print(lower_mlp_tanh.score(lower_x,lower_y))"
   ]
  },
  {
   "cell_type": "code",
   "execution_count": 753,
   "metadata": {},
   "outputs": [
    {
     "name": "stdout",
     "output_type": "stream",
     "text": [
      "0.1049706005128912\n"
     ]
    }
   ],
   "source": [
    "lower_mlp_identity = MLPRegressor(hidden_layer_sizes=(20,20,20),activation='identity',solver='lbfgs',max_iter=10000)\n",
    "lower_mlp_identity.fit(lower_x,lower_y)\n",
    "lower_predictions_identity = lower_mlp_identity.predict(lower_x)\n",
    "print(lower_mlp_identity.score(lower_x,lower_y))"
   ]
  },
  {
   "cell_type": "code",
   "execution_count": 754,
   "metadata": {},
   "outputs": [
    {
     "name": "stdout",
     "output_type": "stream",
     "text": [
      "0.10497060051521566\n"
     ]
    }
   ],
   "source": [
    "lower_mlp_regressor = LinearRegression()\n",
    "lower_mlp_regressor.fit(lower_x,lower_y)\n",
    "lower_predictions_regressor = lower_mlp_regressor.predict(lower_x)\n",
    "print(lower_mlp_regressor.score(lower_x,lower_y))"
   ]
  },
  {
   "cell_type": "code",
   "execution_count": 799,
   "metadata": {},
   "outputs": [
    {
     "name": "stdout",
     "output_type": "stream",
     "text": [
      "For the Lower Category:\n"
     ]
    },
    {
     "data": {
      "text/html": [
       "<table border=\"1\" class=\"dataframe\">\n",
       "    <thead>\n",
       "        <tr>\n",
       "            <th>Staff Type</th> <th>Slopes</th> <th>R Values</th> <th>R-Squared Values</th>\n",
       "        </tr>\n",
       "    </thead>\n",
       "    <tbody>\n",
       "        <tr>\n",
       "            <td>Teachers       </td> <td>0.00898978</td> <td>0.180993 </td> <td>0.0327586       </td>\n",
       "        </tr>\n",
       "        <tr>\n",
       "            <td>Staff Support  </td> <td>0.00655427</td> <td>0.143204 </td> <td>0.0205074       </td>\n",
       "        </tr>\n",
       "        <tr>\n",
       "            <td>Administrators </td> <td>0.0571776 </td> <td>0.0991394</td> <td>0.00982862      </td>\n",
       "        </tr>\n",
       "        <tr>\n",
       "            <td>Counselors     </td> <td>0.298341  </td> <td>0.205373 </td> <td>0.0421779       </td>\n",
       "        </tr>\n",
       "        <tr>\n",
       "            <td>Librarians     </td> <td>-3.33194  </td> <td>-0.107163</td> <td>0.0114838       </td>\n",
       "        </tr>\n",
       "        <tr>\n",
       "            <td>Student Support</td> <td>0.0950026 </td> <td>0.194172 </td> <td>0.0377029       </td>\n",
       "        </tr>\n",
       "    </tbody>\n",
       "</table>"
      ],
      "text/plain": [
       "<IPython.core.display.HTML object>"
      ]
     },
     "metadata": {},
     "output_type": "display_data"
    }
   ],
   "source": [
    "from scipy import stats\n",
    "\n",
    "lower_clipped = lower.select('PctBothBenchmark','Teachers','Staff Support','Administrators','Counselors','Librarians','Student Support')\n",
    "\n",
    "slopes = make_array()\n",
    "r_values = make_array()\n",
    "r2_values = make_array()\n",
    "\n",
    "for i in np.arange(1,7):\n",
    "    x_value = lower_clipped.column(i)\n",
    "    y_value = lower_clipped.column(0)\n",
    "    slope, intercept, r_value, p_value, std_err = stats.linregress(x_value,y_value)\n",
    "    slopes = np.append(slopes, slope)\n",
    "    r_values = np.append(r_values, r_value)\n",
    "    r2_values = np.append(r2_values, r_value**2)\n",
    "    \n",
    "lower_lin_reg = Table().with_columns('Staff Type', make_array('Teachers','Staff Support','Administrators','Counselors','Librarians','Student Support'),\n",
    "                    'Slopes', slopes,\n",
    "                    'R Values', r_values,\n",
    "                    'R-Squared Values', r2_values)\n",
    "print('For the Lower Category:')\n",
    "lower_lin_reg.show()"
   ]
  },
  {
   "cell_type": "code",
   "execution_count": 800,
   "metadata": {},
   "outputs": [
    {
     "name": "stdout",
     "output_type": "stream",
     "text": [
      "For the Middle Category:\n"
     ]
    },
    {
     "data": {
      "text/html": [
       "<table border=\"1\" class=\"dataframe\">\n",
       "    <thead>\n",
       "        <tr>\n",
       "            <th>Staff Type</th> <th>Slopes</th> <th>R Values</th> <th>R-Squared Values</th>\n",
       "        </tr>\n",
       "    </thead>\n",
       "    <tbody>\n",
       "        <tr>\n",
       "            <td>Teachers       </td> <td>-0.010842  </td> <td>-0.210133 </td> <td>0.044156        </td>\n",
       "        </tr>\n",
       "        <tr>\n",
       "            <td>Staff Support  </td> <td>-0.00957426</td> <td>-0.229068 </td> <td>0.0524721       </td>\n",
       "        </tr>\n",
       "        <tr>\n",
       "            <td>Administrators </td> <td>-0.108913  </td> <td>-0.228116 </td> <td>0.0520368       </td>\n",
       "        </tr>\n",
       "        <tr>\n",
       "            <td>Counselors     </td> <td>-0.215922  </td> <td>-0.195529 </td> <td>0.0382314       </td>\n",
       "        </tr>\n",
       "        <tr>\n",
       "            <td>Librarians     </td> <td>-0.251186  </td> <td>-0.0250506</td> <td>0.000627531     </td>\n",
       "        </tr>\n",
       "        <tr>\n",
       "            <td>Student Support</td> <td>-0.0659108 </td> <td>-0.155291 </td> <td>0.0241153       </td>\n",
       "        </tr>\n",
       "    </tbody>\n",
       "</table>"
      ],
      "text/plain": [
       "<IPython.core.display.HTML object>"
      ]
     },
     "metadata": {},
     "output_type": "display_data"
    }
   ],
   "source": [
    "middle_clipped = middle.select('PctBothBenchmark','Teachers','Staff Support','Administrators','Counselors','Librarians','Student Support')\n",
    "\n",
    "slopes = make_array()\n",
    "r_values = make_array()\n",
    "r2_values = make_array()\n",
    "\n",
    "for i in np.arange(1,7):\n",
    "    x_value = middle_clipped.column(i)\n",
    "    y_value = middle_clipped.column(0)\n",
    "    slope, intercept, r_value, p_value, std_err = stats.linregress(x_value,y_value)\n",
    "    slopes = np.append(slopes, slope)\n",
    "    r_values = np.append(r_values, r_value)\n",
    "    r2_values = np.append(r2_values, r_value**2)\n",
    "    \n",
    "middle_lin_reg = Table().with_columns('Staff Type', make_array('Teachers','Staff Support','Administrators','Counselors','Librarians','Student Support'),\n",
    "                    'Slopes', slopes,\n",
    "                    'R Values', r_values,\n",
    "                    'R-Squared Values', r2_values)\n",
    "print('For the Middle Category:')\n",
    "middle_lin_reg.show()"
   ]
  },
  {
   "cell_type": "code",
   "execution_count": 801,
   "metadata": {},
   "outputs": [
    {
     "name": "stdout",
     "output_type": "stream",
     "text": [
      "For the Upper Category:\n"
     ]
    },
    {
     "data": {
      "text/html": [
       "<table border=\"1\" class=\"dataframe\">\n",
       "    <thead>\n",
       "        <tr>\n",
       "            <th>Staff Type</th> <th>Slopes</th> <th>R Values</th> <th>R-Squared Values</th>\n",
       "        </tr>\n",
       "    </thead>\n",
       "    <tbody>\n",
       "        <tr>\n",
       "            <td>Teachers       </td> <td>0.00299826 </td> <td>0.0335221 </td> <td>0.00112373      </td>\n",
       "        </tr>\n",
       "        <tr>\n",
       "            <td>Staff Support  </td> <td>0.000158974</td> <td>0.00374475</td> <td>1.40232e-05     </td>\n",
       "        </tr>\n",
       "        <tr>\n",
       "            <td>Administrators </td> <td>-0.0236139 </td> <td>-0.118318 </td> <td>0.0139992       </td>\n",
       "        </tr>\n",
       "        <tr>\n",
       "            <td>Counselors     </td> <td>-0.0196491 </td> <td>-0.099595 </td> <td>0.00991916      </td>\n",
       "        </tr>\n",
       "        <tr>\n",
       "            <td>Librarians     </td> <td>1.82035    </td> <td>0.0691618 </td> <td>0.00478335      </td>\n",
       "        </tr>\n",
       "        <tr>\n",
       "            <td>Student Support</td> <td>0.0163891  </td> <td>0.0488998 </td> <td>0.00239119      </td>\n",
       "        </tr>\n",
       "    </tbody>\n",
       "</table>"
      ],
      "text/plain": [
       "<IPython.core.display.HTML object>"
      ]
     },
     "metadata": {},
     "output_type": "display_data"
    }
   ],
   "source": [
    "upper_clipped = upper.select('PctBothBenchmark','Teachers','Staff Support','Administrators','Counselors','Librarians','Student Support')\n",
    "\n",
    "slopes = make_array()\n",
    "r_values = make_array()\n",
    "r2_values = make_array()\n",
    "\n",
    "for i in np.arange(1,7):\n",
    "    x_value = upper_clipped.column(i)\n",
    "    y_value = upper_clipped.column(0)\n",
    "    slope, intercept, r_value, p_value, std_err = stats.linregress(x_value,y_value)\n",
    "    slopes = np.append(slopes, slope)\n",
    "    r_values = np.append(r_values, r_value)\n",
    "    r2_values = np.append(r2_values, r_value**2)\n",
    "    \n",
    "upper_lin_reg = Table().with_columns('Staff Type', make_array('Teachers','Staff Support','Administrators','Counselors','Librarians','Student Support'),\n",
    "                    'Slopes', slopes,\n",
    "                    'R Values', r_values,\n",
    "                    'R-Squared Values', r2_values)\n",
    "print('For the Upper Category:')\n",
    "upper_lin_reg.show()"
   ]
  },
  {
   "cell_type": "code",
   "execution_count": 804,
   "metadata": {
    "scrolled": true
   },
   "outputs": [
    {
     "name": "stdout",
     "output_type": "stream",
     "text": [
      "For All Categories:\n"
     ]
    },
    {
     "data": {
      "text/html": [
       "<table border=\"1\" class=\"dataframe\">\n",
       "    <thead>\n",
       "        <tr>\n",
       "            <th>Staff Type</th> <th>Slopes</th> <th>R Values</th> <th>R-Squared Values</th>\n",
       "        </tr>\n",
       "    </thead>\n",
       "    <tbody>\n",
       "        <tr>\n",
       "            <td>Teachers       </td> <td>-0.000794912</td> <td>-0.0137029  </td> <td>0.00018777      </td>\n",
       "        </tr>\n",
       "        <tr>\n",
       "            <td>Staff Support  </td> <td>-0.00338309 </td> <td>-0.0726692  </td> <td>0.00528081      </td>\n",
       "        </tr>\n",
       "        <tr>\n",
       "            <td>Administrators </td> <td>-0.0431462  </td> <td>-0.112791   </td> <td>0.0127217       </td>\n",
       "        </tr>\n",
       "        <tr>\n",
       "            <td>Counselors     </td> <td>-0.0304967  </td> <td>-0.0668149  </td> <td>0.00446423      </td>\n",
       "        </tr>\n",
       "        <tr>\n",
       "            <td>Librarians     </td> <td>-0.787784   </td> <td>-0.051279   </td> <td>0.00262953      </td>\n",
       "        </tr>\n",
       "        <tr>\n",
       "            <td>Student Support</td> <td>-0.000174858</td> <td>-0.000385209</td> <td>1.48386e-07     </td>\n",
       "        </tr>\n",
       "    </tbody>\n",
       "</table>"
      ],
      "text/plain": [
       "<IPython.core.display.HTML object>"
      ]
     },
     "metadata": {},
     "output_type": "display_data"
    }
   ],
   "source": [
    "all_clipped = categorized.select('PctBothBenchmark','Teachers','Staff Support','Administrators','Counselors','Librarians','Student Support')\n",
    "\n",
    "slopes = make_array()\n",
    "r_values = make_array()\n",
    "r2_values = make_array()\n",
    "\n",
    "for i in np.arange(1,7):\n",
    "    x_value = all_clipped.column(i)\n",
    "    y_value = all_clipped.column(0)\n",
    "    slope, intercept, r_value, p_value, std_err = stats.linregress(x_value,y_value)\n",
    "    slopes = np.append(slopes, slope)\n",
    "    r_values = np.append(r_values, r_value)\n",
    "    r2_values = np.append(r2_values, r_value**2)\n",
    "    \n",
    "all_lin_reg = Table().with_columns('Staff Type', make_array('Teachers','Staff Support','Administrators','Counselors','Librarians','Student Support'),\n",
    "                    'Slopes', slopes,\n",
    "                    'R Values', r_values,\n",
    "                    'R-Squared Values', r2_values)\n",
    "print('For All Categories:')\n",
    "all_lin_reg.show()"
   ]
  },
  {
   "cell_type": "code",
   "execution_count": 805,
   "metadata": {},
   "outputs": [],
   "source": [
    "from scipy.optimize import minimize \n",
    "from scipy.optimize import LinearConstraint\n",
    "\n",
    "import pandas as pd"
   ]
  },
  {
   "cell_type": "code",
   "execution_count": 815,
   "metadata": {},
   "outputs": [],
   "source": [
    "salaries = pd.read_csv(\"DFs/salaries.csv\")['Salary']"
   ]
  },
  {
   "cell_type": "code",
   "execution_count": 818,
   "metadata": {},
   "outputs": [],
   "source": [
    "salaries = [59627,56933,83920,119225,48619,48790]"
   ]
  },
  {
   "cell_type": "code",
   "execution_count": 875,
   "metadata": {},
   "outputs": [
    {
     "name": "stdout",
     "output_type": "stream",
     "text": [
      "\n",
      "[824.95 701.77  64.    10.     0.    83.6 ]\n",
      "2.8695680175007205\n",
      "\n",
      "[161.62 139.36  15.16   6.3    0.     1.2 ]\n",
      "1.7780743209378886\n",
      "\n",
      "[378.98 387.22  24.33  14.     0.    24.34]\n",
      "3.7263012495095724\n",
      "\n",
      "[195.63 255.39  15.3    6.75   0.    24.25]\n",
      "0.9624919516884575\n",
      "\n",
      "[245.86 290.    21.    13.     0.     2.  ]\n",
      "1.3024258644905367\n",
      "\n",
      "[395.61 346.55  30.2   12.5    0.    30.1 ]\n",
      "2.6263520859422016\n",
      "\n",
      "[185.7  150.06  13.1    7.5    0.    12.5 ]\n",
      "1.5320362577175612\n",
      "\n",
      "[ 87.62 113.07   8.     1.6    0.     4.  ]\n",
      "1.32211595881351\n",
      "\n",
      "[55.17 70.26  4.59  0.    0.    0.  ]\n",
      "1.3001093719859624\n",
      "\n",
      "[404.78 356.27  25.    15.25   0.    29.  ]\n",
      "41.720598342306126\n",
      "\n",
      "[138.52 133.68  11.5    1.     0.    21.7 ]\n",
      "1.1279757349347184\n",
      "\n",
      "[226.09 168.37  16.3    6.5    0.    26.8 ]\n",
      "2.610427210769851\n",
      "\n",
      "[627.78 577.54  43.5   20.     0.    40.7 ]\n",
      "2.257218107175045\n",
      "\n",
      "[202.91 176.4   19.62   1.     0.    14.  ]\n",
      "1.4384144119084383\n",
      "\n",
      "[128.1  162.24  14.48   1.     0.     1.  ]\n",
      "1.568564636460137\n",
      "\n",
      "[ 835.5  1559.47  115.62   10.5     0.    143.9 ]\n",
      "54.17247989920592\n",
      "\n",
      "[438.5  338.04  26.7   14.     0.    33.  ]\n",
      "15.762557577702582\n",
      "\n",
      "[378.78 304.95  26.17  13.95   0.    22.3 ]\n",
      "5.182005996730239\n",
      "\n",
      "[140.3  144.32  10.5    8.7    5.7    9.8 ]\n",
      "2.3866008658629716\n",
      "\n",
      "[621.63 795.62  50.93  23.45   0.    70.53]\n",
      "3.038758977616314\n",
      "\n",
      "[198.27 200.32  15.96   5.98   0.    16.5 ]\n",
      "1.3148347470106225\n",
      "\n",
      "[622.43 677.26  39.55  26.9    0.    44.67]\n",
      "2.2464564609957782\n",
      "\n",
      "[1104.23  941.79   80.67   17.05    0.     51.52]\n",
      "2.9159164057952935\n",
      "\n",
      "[281.18 267.86  22.18   8.     0.    23.7 ]\n",
      "1.552907222567249\n",
      "\n",
      "[1703.32 1974.75  213.17   38.85    0.    166.07]\n",
      "46.929359602980334\n",
      "\n",
      "[71.26 55.39  5.    1.    0.    0.3 ]\n",
      "1.2442537788823211\n",
      "\n",
      "[797.99 563.64  54.    25.     0.    45.9 ]\n",
      "42.32910168864698\n",
      "\n",
      "[ 887.1  1608.39  129.     55.      0.    145.  ]\n",
      "1.4266998110091107\n",
      "\n",
      "[254.14 240.89  25.5    4.     0.     7.  ]\n",
      "1.5106917115854128\n",
      "\n",
      "[153.55 128.81  13.6    3.9    0.     7.2 ]\n",
      "1.5084590094305759\n",
      "\n",
      "[465.25 313.73  25.3   14.4    0.    16.4 ]\n",
      "4.754510251654488\n",
      "\n",
      "[48.4  38.85  3.6   1.5   0.    2.7 ]\n",
      "1.1820116836731116\n",
      "\n",
      "[344.88 354.23  25.64  13.99   0.    33.  ]\n",
      "18.623165186134877\n",
      "\n",
      "[139.04 105.9    8.8    5.     0.5   11.  ]\n",
      "1.2951791338102137\n",
      "\n",
      "[1115.89 1532.72  169.18   77.9     0.    109.5 ]\n",
      "3.3923141965342083\n",
      "\n",
      "[131.31 110.41  10.     3.95   0.     5.5 ]\n",
      "1.4022893890757786\n",
      "\n",
      "[114.31 125.5   16.7    2.8    0.     2.45]\n",
      "1.663041836246434\n",
      "\n",
      "[878.32 973.42  58.7   18.7    1.    56.36]\n",
      "13.421882705915046\n",
      "\n",
      "[872.16 777.76  67.23  22.93   0.    71.69]\n",
      "58.683419433534525\n",
      "\n",
      "[115.58 118.8    6.77   2.83   0.     2.6 ]\n",
      "1.3020710849457071\n",
      "\n",
      "[1500.02 1225.32   82.     43.      0.     84.9 ]\n",
      "10.302400843729096\n",
      "\n",
      "[475.51 392.83  36.43  15.5    0.    20.7 ]\n",
      "4.763300514891786\n",
      "\n",
      "[307.12 240.16  17.97  10.86   0.    16.  ]\n",
      "2.41074362841039\n",
      "\n",
      "[91.99 82.56 11.19  2.    0.    2.05]\n",
      "1.4593294754033208\n",
      "\n",
      "[90.59 92.    1.9   1.95  0.    2.4 ]\n",
      "1.2184447319414877\n",
      "\n",
      "[ 86.3  104.22   7.     3.     0.     7.  ]\n",
      "1.2608435091861596\n",
      "\n",
      "[38.54 26.71  3.01  1.75  0.    1.  ]\n",
      "1.1789840888221386\n",
      "\n",
      "[167.37 129.12  20.86   1.     0.    20.38]\n",
      "1.604581010692967\n",
      "\n",
      "[ 987.99 1146.08   75.8    29.69    0.     22.14]\n",
      "20.35369250213394\n",
      "\n",
      "[110.89  87.17   8.35   3.9    0.     4.35]\n",
      "1.3641908559432498\n",
      "\n",
      "[89.42 83.72 10.89  2.    0.    3.77]\n",
      "1.4225623099086404\n",
      "\n",
      "[175.1  142.99  12.     5.     0.    11.6 ]\n",
      "1.40125587851588\n",
      "\n",
      "[1.27821e+03 1.63090e+03 7.69900e+01 2.82900e+01 1.00000e+00 1.04800e+02]\n",
      "1.4844318821515627\n",
      "\n",
      "[211.32 193.12  18.8    1.     0.    25.2 ]\n",
      "1.1971323990143932\n",
      "\n",
      "[923.12 953.75  58.65  25.9    0.    61.1 ]\n",
      "3.562284881867578\n",
      "\n",
      "[14.   21.64  2.    0.    0.    0.  ]\n",
      "1.2290072997431252\n",
      "\n",
      "[14.   21.64  2.    0.    0.    0.  ]\n",
      "1.2290072997431252\n",
      "\n",
      "[14.   21.64  2.    0.    0.    0.  ]\n",
      "1.2290072997431252\n",
      "\n",
      "[14.   21.64  2.    0.    0.    0.  ]\n",
      "1.2290072997431252\n",
      "\n",
      "[14.   21.64  2.    0.    0.    0.  ]\n",
      "1.2290072997431252\n",
      "\n",
      "[14.   21.64  2.    0.    0.    0.  ]\n",
      "1.2290072997431252\n",
      "\n",
      "[215.71 136.5   14.     3.4    0.    11.  ]\n",
      "1.5790028999773262\n",
      "\n",
      "[464.59 439.56  32.3   24.1    0.    41.7 ]\n",
      "0.3917815054486818\n",
      "\n",
      "[400.28 313.13  30.25  20.8    0.    44.7 ]\n",
      "0.5254245502329197\n",
      "\n",
      "[93.21 96.99  7.78  3.    0.    5.  ]\n",
      "1.3127630893578468\n",
      "\n",
      "[89.21 96.06  8.    1.    0.    2.  ]\n",
      "1.3364359944895896\n",
      "\n",
      "[593.55 446.55  39.85   9.58   0.    32.57]\n",
      "0.45749317399407485\n",
      "\n",
      "[1338.36 1286.37   95.7    29.28    0.     83.65]\n",
      "5.012331527480632\n",
      "\n",
      "[450.14 428.67  30.71  14.25   0.    28.9 ]\n",
      "4.056686401481083\n",
      "\n",
      "[185.47 155.76  14.     1.     0.    12.54]\n",
      "1.3165724341418268\n",
      "\n",
      "[372.32 297.78  21.4    8.     0.    22.49]\n",
      "1.902810158122421\n",
      "\n",
      "[431.1  411.67  38.65  11.     0.    55.9 ]\n",
      "62.88310770762846\n",
      "\n",
      "[488.09 445.57  33.    11.     0.    22.6 ]\n",
      "4.204857911387908\n",
      "\n",
      "[995.42 877.96  71.6   22.     0.   103.  ]\n",
      "7.496351330829776\n",
      "\n",
      "[187.19 129.94  13.     9.     1.    10.8 ]\n",
      "2.3629470778300394\n",
      "\n",
      "[131.59 122.37  11.5    2.     0.    11.83]\n",
      "1.306096217446521\n",
      "\n",
      "[77.24 90.39  7.16  0.    0.    1.81]\n",
      "1.3004809720556847\n",
      "\n",
      "[434.39 284.7   32.65   7.9    0.    33.6 ]\n",
      "2.9394119659048266\n",
      "\n",
      "[48.7 40.1  4.8  1.   0.   0. ]\n",
      "1.2147512966364917\n",
      "\n",
      "[263.45 304.62  19.75  12.3    0.    21.3 ]\n",
      "1.429327084970761\n",
      "\n",
      "[387.75 315.08  24.69   9.27   1.8   12.89]\n",
      "3.094814291531595\n",
      "\n",
      "[871.41 848.23  55.6   31.17   0.    66.9 ]\n",
      "4.443424758183375\n",
      "\n",
      "[789.23 723.28  63.1   24.65   0.   114.17]\n",
      "6.395671849466359\n",
      "\n",
      "[564.22 534.58  42.8   18.     0.    46.14]\n",
      "45.29316840308088\n",
      "\n",
      "[199.29 220.65  22.65   5.     1.    16.5 ]\n",
      "1.5537248255548541\n",
      "\n",
      "[137.41 162.09  13.     6.     0.     7.  ]\n",
      "1.4394619489942815\n",
      "\n",
      "[185.14 153.82  12.     9.     0.     9.97]\n",
      "1.5170985874359948\n",
      "\n",
      "[223.21 208.89  17.75   4.9    0.    10.9 ]\n",
      "1.4065328010136202\n",
      "\n",
      "[106.46 127.87  11.1    2.     0.     9.32]\n",
      "1.3420751650379843\n",
      "\n",
      "[67.4  18.66  5.    4.3   2.4   4.55]\n",
      "1.2750220923071998\n",
      "\n",
      "[208.81 172.83  13.9    2.75   0.    10.  ]\n",
      "1.357673836229003\n",
      "\n",
      "[109.85  89.8    7.     1.     0.     4.  ]\n",
      "1.2577134002852821\n",
      "\n",
      "[454.82 513.94  27.8   20.     0.    39.4 ]\n",
      "1.1682584737058355\n",
      "\n",
      "[183.06 216.97  18.74   5.8    1.     8.  ]\n",
      "1.4292749772496656\n",
      "\n",
      "[281.3  333.77  20.43   8.4    1.    26.5 ]\n",
      "1.0510957935690513\n",
      "\n",
      "[270.31 230.85  18.95   7.75   0.    16.  ]\n",
      "1.6372524479572221\n",
      "\n",
      "[66.47 73.41  6.    1.    0.    0.  ]\n",
      "1.281608422103322\n",
      "\n",
      "[975.21 820.81  69.2   19.4    0.    80.2 ]\n",
      "58.27083913026466\n",
      "\n",
      "[618.38 450.84  38.7   28.3    0.    57.  ]\n",
      "1.611766674652106\n",
      "\n",
      "[589.72 589.68  49.17  22.36   0.    13.52]\n",
      "1.1863843732389485\n",
      "\n",
      "[1429.69 1310.55   80.9    45.26    0.    191.6 ]\n",
      "12.213739825775336\n",
      "\n",
      "[210.41 268.48  14.     4.6    0.    13.7 ]\n",
      "1.1691201750759848\n",
      "\n",
      "[868.08 648.29  50.6   26.2    0.    39.7 ]\n",
      "44.54459407075913\n",
      "\n",
      "[391.62 396.02  21.5   19.     0.    22.61]\n",
      "10.990527797829625\n",
      "\n",
      "[178.7  117.24  11.01   3.     0.    12.55]\n",
      "1.3763904936247646\n",
      "\n",
      "[593.41 453.34  40.93  13.     0.    40.78]\n",
      "0.795818234331305\n",
      "\n",
      "[1051.72  841.55   66.5    21.      0.     77.86]\n",
      "7.83840559934027\n",
      "\n",
      "[46.2  39.84  2.2   0.    0.    0.  ]\n",
      "1.2021676549956186\n",
      "\n",
      "[372.2  288.64  24.    10.     1.    22.8 ]\n",
      "3.9910786513679986\n",
      "\n",
      "[204.39 117.49  13.15   3.     0.     5.6 ]\n",
      "1.730645243506876\n",
      "\n",
      "[ 589.58 1031.57   58.3    26.      0.    109.8 ]\n",
      "6.274077810529971\n",
      "\n",
      "[1334.13  989.03   90.3    39.28    0.     83.2 ]\n",
      "11.799883902627615\n",
      "\n",
      "[523.49 491.55  53.8    1.     0.6   33.15]\n",
      "3.36564035292658\n",
      "\n",
      "[36.34 50.62  4.96  1.    0.    0.  ]\n",
      "1.2852723374921418\n",
      "\n",
      "[223.06 253.4   18.28  14.8    0.     4.84]\n",
      "1.565594572843624\n",
      "\n",
      "[683.62 703.57  49.    19.85   0.    90.4 ]\n",
      "3.889067721850923\n",
      "\n",
      "[322.1  261.76  23.     7.23   0.    11.  ]\n",
      "1.7662062537130632\n",
      "\n",
      "[198.61 134.89  15.     9.1    0.    12.1 ]\n",
      "2.2222645853272263\n",
      "\n",
      "[182.94 181.08  10.99   4.     0.    11.39]\n",
      "1.2544006608577483\n",
      "\n",
      "[1.19027e+03 9.76520e+02 6.61200e+01 2.92300e+01 1.00000e+00 1.42000e+02]\n",
      "15.136391278029574\n",
      "\n",
      "[245.2  320.09  13.    12.5    0.    18.8 ]\n",
      "1.5381344813155815\n",
      "\n",
      "[105.19  97.8    7.     5.39   0.    10.99]\n",
      "1.2461460508810158\n",
      "\n",
      "[ 932.69 1097.7    68.12   37.54    0.     65.6 ]\n",
      "3.008103691427214\n",
      "\n",
      "[232.82 211.42  15.9    6.     0.    17.8 ]\n",
      "1.30163617184352\n",
      "\n",
      "[608.09 596.59  44.49  15.98   0.    30.7 ]\n",
      "1.3713485155153222\n",
      "\n",
      "[874.8  888.49  55.    27.1    0.   107.95]\n",
      "5.867315601131572\n",
      "\n",
      "[459.75 383.58  23.    15.     1.    19.8 ]\n",
      "29.36809733935467\n",
      "\n",
      "[568.41 478.54  42.45  13.4    0.    33.8 ]\n",
      "0.4279057992395278\n",
      "\n",
      "[796.84 791.19  48.    27.     0.    42.2 ]\n",
      "3.6270905790639207\n",
      "\n",
      "[689.45 688.55  48.    40.22   0.    55.28]\n",
      "2.7099690152435643\n",
      "\n",
      "[1127.59 1340.64   75.4    14.6     0.     87.42]\n",
      "42.02978032266917\n",
      "\n",
      "[568.45 486.85  32.75  34.     0.    46.3 ]\n",
      "1.1401957821950903\n",
      "\n",
      "[441.89 331.15  49.2    7.     0.    41.2 ]\n",
      "1.071612755415894\n",
      "\n",
      "[59.84 45.43  6.    4.    0.    2.  ]\n",
      "1.2993779278741713\n",
      "\n",
      "[0. 0. 0. 0. 0. 0.]\n",
      "1.1799216080088948\n",
      "\n",
      "[198.84 151.63  18.35  12.96   0.    20.08]\n",
      "7.748858735266623\n",
      "\n",
      "[92.05 95.97 12.94  1.8   0.    4.31]\n",
      "1.4836288443018628\n",
      "\n",
      "[430.35 383.62  28.    15.     0.    24.6 ]\n",
      "7.20250884130274\n"
     ]
    }
   ],
   "source": [
    "improvements = []\n",
    "for i in range(len(lower['DISTRICT'])):\n",
    "    X = lower_scaler.transform(lower_x)[i]\n",
    "    \n",
    "    def f(X):\n",
    "        return lower_mlp_logistic.predict([X])[0]\n",
    "\n",
    "    \n",
    "    bounds = [(e - 0.1*abs(e) , e + 0.1*abs(e)) for e in X]\n",
    "\n",
    "    total_budget = X @ salaries\n",
    "\n",
    "    const = [{\"type\": \"eq\", \"fun\": lambda x: salaries @ x - total_budget}]\n",
    "\n",
    "    p = minimize(f,X,bounds=bounds,constraints = const)\n",
    "    \n",
    "    print()\n",
    "    print(lower_x[i])\n",
    "    \n",
    "    new_cat = lower_x[i] * (1 + p.x - X)\n",
    "    \n",
    "    #print()\n",
    "    #print(p.x)\n",
    "    #print(X)\n",
    "    #print()\n",
    "    \n",
    "    #print((lower_mlp_logistic.predict([p.x]) - lower_mlp_logistic.predict([X]))[0])\n",
    "    \n",
    "    \n",
    "    new_assignment = new_cat\n",
    "    improvement = (-1 * (lower_mlp_logistic.predict([p.x]) - lower_mlp_logistic.predict([X]))[0])/lower_mlp_logistic.predict([X])[0]\n",
    "    \n",
    "    print(improvement*100)\n",
    "    improvements.append(improvement*100)"
   ]
  },
  {
   "cell_type": "code",
   "execution_count": 862,
   "metadata": {},
   "outputs": [
    {
     "data": {
      "text/html": [
       "<table border=\"1\" class=\"dataframe\">\n",
       "    <thead>\n",
       "        <tr>\n",
       "            <th>DISTRICT</th> <th>CO</th> <th>CDS</th> <th>EDP 365</th> <th>Current Expense ADA</th> <th>Current Expense per ADA</th> <th>LEA Type</th> <th>enroll12</th> <th>NumTstTakr</th> <th>NumCurrElaBenchmark</th> <th>NumPreElaBenchmark</th> <th>TotNumElaBenchmark</th> <th>PctElaBenchmark</th> <th>NumCurrMathBenchmark</th> <th>NumPreMathBenchmark</th> <th>TotNumMathBenchmark</th> <th>PctMathBenchmark</th> <th>TotNumBothBenchmark</th> <th>PctBothBenchmark</th> <th>Category</th> <th>Teachers</th> <th>Staff Support</th> <th>Administrators</th> <th>Counselors</th> <th>Librarians</th> <th>Student Support</th>\n",
       "        </tr>\n",
       "    </thead>\n",
       "    <tbody>\n",
       "        <tr>\n",
       "            <td>ABC Unified</td> <td>19  </td> <td>64212</td> <td>215,049,027</td> <td>19,855.30          </td> <td>10831                  </td> <td>Unified                  </td> <td>1810    </td> <td>1005      </td> <td>822                </td> <td>6                 </td> <td>828               </td> <td>82.39          </td> <td>665                 </td> <td>5                  </td> <td>670                </td> <td>66.67           </td> <td>644                </td> <td>64.08           </td> <td>0       </td> <td>824.95  </td> <td>701.77       </td> <td>64            </td> <td>10        </td> <td>0         </td> <td>83.6           </td>\n",
       "        </tr>\n",
       "    </tbody>\n",
       "</table>\n",
       "<p>... (137 rows omitted)</p>"
      ],
      "text/plain": [
       "<IPython.core.display.HTML object>"
      ]
     },
     "metadata": {},
     "output_type": "display_data"
    }
   ],
   "source": [
    "lower.show(1)"
   ]
  },
  {
   "cell_type": "code",
   "execution_count": 876,
   "metadata": {},
   "outputs": [
    {
     "name": "stdout",
     "output_type": "stream",
     "text": [
      "6.585625212513707\n"
     ]
    }
   ],
   "source": [
    "print(sum(improvements)/len(improvements))"
   ]
  },
  {
   "cell_type": "code",
   "execution_count": 877,
   "metadata": {},
   "outputs": [],
   "source": [
    "lower['Improvement Percentage'] = improvements\n",
    "lower['Predicted PctBothBenchmark'] = np.array(lower['PctBothBenchmark']) * (1 + np.array(improvements)/100)"
   ]
  },
  {
   "cell_type": "code",
   "execution_count": 880,
   "metadata": {},
   "outputs": [],
   "source": [
    "lower.to_df().to_csv('Improvement Metrics.csv')"
   ]
  },
  {
   "cell_type": "code",
   "execution_count": null,
   "metadata": {},
   "outputs": [],
   "source": []
  }
 ],
 "metadata": {
  "kernelspec": {
   "display_name": "Python 3",
   "language": "python",
   "name": "python3"
  },
  "language_info": {
   "codemirror_mode": {
    "name": "ipython",
    "version": 3
   },
   "file_extension": ".py",
   "mimetype": "text/x-python",
   "name": "python",
   "nbconvert_exporter": "python",
   "pygments_lexer": "ipython3",
   "version": "3.7.4"
  }
 },
 "nbformat": 4,
 "nbformat_minor": 2
}
