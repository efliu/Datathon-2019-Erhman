{
 "cells": [
  {
   "cell_type": "code",
   "execution_count": 711,
   "metadata": {},
   "outputs": [
    {
     "name": "stdout",
     "output_type": "stream",
     "text": [
      "Requirement already satisfied: datascience in /Users/edwardliu/Downloads/anaconda3/lib/python3.7/site-packages (0.15.3)\n",
      "Requirement already satisfied: scipy in /Users/edwardliu/Downloads/anaconda3/lib/python3.7/site-packages (from datascience) (1.3.1)\n",
      "Requirement already satisfied: pytest in /Users/edwardliu/Downloads/anaconda3/lib/python3.7/site-packages (from datascience) (5.2.1)\n",
      "Requirement already satisfied: pandas in /Users/edwardliu/Downloads/anaconda3/lib/python3.7/site-packages (from datascience) (0.25.1)\n",
      "Requirement already satisfied: setuptools in /Users/edwardliu/Downloads/anaconda3/lib/python3.7/site-packages (from datascience) (41.4.0)\n",
      "Requirement already satisfied: ipython in /Users/edwardliu/Downloads/anaconda3/lib/python3.7/site-packages (from datascience) (7.8.0)\n",
      "Requirement already satisfied: folium>=0.9.1 in /Users/edwardliu/Downloads/anaconda3/lib/python3.7/site-packages (from datascience) (0.10.0)\n",
      "Requirement already satisfied: coveralls in /Users/edwardliu/Downloads/anaconda3/lib/python3.7/site-packages (from datascience) (1.8.2)\n",
      "Requirement already satisfied: matplotlib>=3.0.0 in /Users/edwardliu/Downloads/anaconda3/lib/python3.7/site-packages (from datascience) (3.1.1)\n",
      "Requirement already satisfied: bokeh in /Users/edwardliu/Downloads/anaconda3/lib/python3.7/site-packages (from datascience) (1.3.4)\n",
      "Requirement already satisfied: sphinx in /Users/edwardliu/Downloads/anaconda3/lib/python3.7/site-packages (from datascience) (2.2.0)\n",
      "Requirement already satisfied: numpy in /Users/edwardliu/Downloads/anaconda3/lib/python3.7/site-packages (from datascience) (1.17.2)\n",
      "Requirement already satisfied: coverage==4.5.3 in /Users/edwardliu/Downloads/anaconda3/lib/python3.7/site-packages (from datascience) (4.5.3)\n",
      "Requirement already satisfied: py>=1.5.0 in /Users/edwardliu/Downloads/anaconda3/lib/python3.7/site-packages (from pytest->datascience) (1.8.0)\n",
      "Requirement already satisfied: packaging in /Users/edwardliu/Downloads/anaconda3/lib/python3.7/site-packages (from pytest->datascience) (19.2)\n",
      "Requirement already satisfied: attrs>=17.4.0 in /Users/edwardliu/Downloads/anaconda3/lib/python3.7/site-packages (from pytest->datascience) (19.2.0)\n",
      "Requirement already satisfied: more-itertools>=4.0.0 in /Users/edwardliu/Downloads/anaconda3/lib/python3.7/site-packages (from pytest->datascience) (7.2.0)\n",
      "Requirement already satisfied: atomicwrites>=1.0 in /Users/edwardliu/Downloads/anaconda3/lib/python3.7/site-packages (from pytest->datascience) (1.3.0)\n",
      "Requirement already satisfied: pluggy<1.0,>=0.12 in /Users/edwardliu/Downloads/anaconda3/lib/python3.7/site-packages (from pytest->datascience) (0.13.0)\n",
      "Requirement already satisfied: wcwidth in /Users/edwardliu/Downloads/anaconda3/lib/python3.7/site-packages (from pytest->datascience) (0.1.7)\n",
      "Requirement already satisfied: importlib-metadata>=0.12 in /Users/edwardliu/Downloads/anaconda3/lib/python3.7/site-packages (from pytest->datascience) (0.23)\n",
      "Requirement already satisfied: python-dateutil>=2.6.1 in /Users/edwardliu/Downloads/anaconda3/lib/python3.7/site-packages (from pandas->datascience) (2.8.0)\n",
      "Requirement already satisfied: pytz>=2017.2 in /Users/edwardliu/Downloads/anaconda3/lib/python3.7/site-packages (from pandas->datascience) (2019.3)\n",
      "Requirement already satisfied: backcall in /Users/edwardliu/Downloads/anaconda3/lib/python3.7/site-packages (from ipython->datascience) (0.1.0)\n",
      "Requirement already satisfied: pygments in /Users/edwardliu/Downloads/anaconda3/lib/python3.7/site-packages (from ipython->datascience) (2.4.2)\n",
      "Requirement already satisfied: traitlets>=4.2 in /Users/edwardliu/Downloads/anaconda3/lib/python3.7/site-packages (from ipython->datascience) (4.3.3)\n",
      "Requirement already satisfied: jedi>=0.10 in /Users/edwardliu/Downloads/anaconda3/lib/python3.7/site-packages (from ipython->datascience) (0.15.1)\n",
      "Requirement already satisfied: appnope; sys_platform == \"darwin\" in /Users/edwardliu/Downloads/anaconda3/lib/python3.7/site-packages (from ipython->datascience) (0.1.0)\n",
      "Requirement already satisfied: pexpect; sys_platform != \"win32\" in /Users/edwardliu/Downloads/anaconda3/lib/python3.7/site-packages (from ipython->datascience) (4.7.0)\n",
      "Requirement already satisfied: prompt-toolkit<2.1.0,>=2.0.0 in /Users/edwardliu/Downloads/anaconda3/lib/python3.7/site-packages (from ipython->datascience) (2.0.10)\n",
      "Requirement already satisfied: pickleshare in /Users/edwardliu/Downloads/anaconda3/lib/python3.7/site-packages (from ipython->datascience) (0.7.5)\n",
      "Requirement already satisfied: decorator in /Users/edwardliu/Downloads/anaconda3/lib/python3.7/site-packages (from ipython->datascience) (4.4.0)\n",
      "Requirement already satisfied: requests in /Users/edwardliu/Downloads/anaconda3/lib/python3.7/site-packages (from folium>=0.9.1->datascience) (2.22.0)\n",
      "Requirement already satisfied: jinja2>=2.9 in /Users/edwardliu/Downloads/anaconda3/lib/python3.7/site-packages (from folium>=0.9.1->datascience) (2.10.3)\n",
      "Requirement already satisfied: branca>=0.3.0 in /Users/edwardliu/Downloads/anaconda3/lib/python3.7/site-packages (from folium>=0.9.1->datascience) (0.3.1)\n",
      "Requirement already satisfied: docopt>=0.6.1 in /Users/edwardliu/Downloads/anaconda3/lib/python3.7/site-packages (from coveralls->datascience) (0.6.2)\n",
      "Requirement already satisfied: cycler>=0.10 in /Users/edwardliu/Downloads/anaconda3/lib/python3.7/site-packages (from matplotlib>=3.0.0->datascience) (0.10.0)\n",
      "Requirement already satisfied: kiwisolver>=1.0.1 in /Users/edwardliu/Downloads/anaconda3/lib/python3.7/site-packages (from matplotlib>=3.0.0->datascience) (1.1.0)\n",
      "Requirement already satisfied: pyparsing!=2.0.4,!=2.1.2,!=2.1.6,>=2.0.1 in /Users/edwardliu/Downloads/anaconda3/lib/python3.7/site-packages (from matplotlib>=3.0.0->datascience) (2.4.2)\n",
      "Requirement already satisfied: tornado>=4.3 in /Users/edwardliu/Downloads/anaconda3/lib/python3.7/site-packages (from bokeh->datascience) (6.0.3)\n",
      "Requirement already satisfied: pillow>=4.0 in /Users/edwardliu/Downloads/anaconda3/lib/python3.7/site-packages (from bokeh->datascience) (6.2.0)\n",
      "Requirement already satisfied: six>=1.5.2 in /Users/edwardliu/Downloads/anaconda3/lib/python3.7/site-packages (from bokeh->datascience) (1.12.0)\n",
      "Requirement already satisfied: PyYAML>=3.10 in /Users/edwardliu/Downloads/anaconda3/lib/python3.7/site-packages (from bokeh->datascience) (5.1.2)\n",
      "Requirement already satisfied: imagesize in /Users/edwardliu/Downloads/anaconda3/lib/python3.7/site-packages (from sphinx->datascience) (1.1.0)\n",
      "Requirement already satisfied: sphinxcontrib-jsmath in /Users/edwardliu/Downloads/anaconda3/lib/python3.7/site-packages (from sphinx->datascience) (1.0.1)\n",
      "Requirement already satisfied: sphinxcontrib-qthelp in /Users/edwardliu/Downloads/anaconda3/lib/python3.7/site-packages (from sphinx->datascience) (1.0.2)\n",
      "Requirement already satisfied: snowballstemmer>=1.1 in /Users/edwardliu/Downloads/anaconda3/lib/python3.7/site-packages (from sphinx->datascience) (2.0.0)\n",
      "Requirement already satisfied: sphinxcontrib-htmlhelp in /Users/edwardliu/Downloads/anaconda3/lib/python3.7/site-packages (from sphinx->datascience) (1.0.2)\n",
      "Requirement already satisfied: sphinxcontrib-serializinghtml in /Users/edwardliu/Downloads/anaconda3/lib/python3.7/site-packages (from sphinx->datascience) (1.1.3)\n",
      "Requirement already satisfied: alabaster<0.8,>=0.7 in /Users/edwardliu/Downloads/anaconda3/lib/python3.7/site-packages (from sphinx->datascience) (0.7.12)\n",
      "Requirement already satisfied: babel!=2.0,>=1.3 in /Users/edwardliu/Downloads/anaconda3/lib/python3.7/site-packages (from sphinx->datascience) (2.7.0)\n",
      "Requirement already satisfied: sphinxcontrib-applehelp in /Users/edwardliu/Downloads/anaconda3/lib/python3.7/site-packages (from sphinx->datascience) (1.0.1)\n",
      "Requirement already satisfied: sphinxcontrib-devhelp in /Users/edwardliu/Downloads/anaconda3/lib/python3.7/site-packages (from sphinx->datascience) (1.0.1)\n",
      "Requirement already satisfied: docutils>=0.12 in /Users/edwardliu/Downloads/anaconda3/lib/python3.7/site-packages (from sphinx->datascience) (0.15.2)\n",
      "Requirement already satisfied: zipp>=0.5 in /Users/edwardliu/Downloads/anaconda3/lib/python3.7/site-packages (from importlib-metadata>=0.12->pytest->datascience) (0.6.0)\n",
      "Requirement already satisfied: ipython-genutils in /Users/edwardliu/Downloads/anaconda3/lib/python3.7/site-packages (from traitlets>=4.2->ipython->datascience) (0.2.0)\n",
      "Requirement already satisfied: parso>=0.5.0 in /Users/edwardliu/Downloads/anaconda3/lib/python3.7/site-packages (from jedi>=0.10->ipython->datascience) (0.5.1)\n",
      "Requirement already satisfied: ptyprocess>=0.5 in /Users/edwardliu/Downloads/anaconda3/lib/python3.7/site-packages (from pexpect; sys_platform != \"win32\"->ipython->datascience) (0.6.0)\n",
      "Requirement already satisfied: chardet<3.1.0,>=3.0.2 in /Users/edwardliu/Downloads/anaconda3/lib/python3.7/site-packages (from requests->folium>=0.9.1->datascience) (3.0.4)\n",
      "Requirement already satisfied: urllib3!=1.25.0,!=1.25.1,<1.26,>=1.21.1 in /Users/edwardliu/Downloads/anaconda3/lib/python3.7/site-packages (from requests->folium>=0.9.1->datascience) (1.24.2)\n",
      "Requirement already satisfied: idna<2.9,>=2.5 in /Users/edwardliu/Downloads/anaconda3/lib/python3.7/site-packages (from requests->folium>=0.9.1->datascience) (2.8)\n",
      "Requirement already satisfied: certifi>=2017.4.17 in /Users/edwardliu/Downloads/anaconda3/lib/python3.7/site-packages (from requests->folium>=0.9.1->datascience) (2019.9.11)\n",
      "Requirement already satisfied: MarkupSafe>=0.23 in /Users/edwardliu/Downloads/anaconda3/lib/python3.7/site-packages (from jinja2>=2.9->folium>=0.9.1->datascience) (1.1.1)\n"
     ]
    }
   ],
   "source": [
    "!pip install datascience"
   ]
  },
  {
   "cell_type": "code",
   "execution_count": 712,
   "metadata": {},
   "outputs": [
    {
     "name": "stdout",
     "output_type": "stream",
     "text": [
      "Requirement already up-to-date: scikit-learn in /Users/edwardliu/Downloads/anaconda3/lib/python3.7/site-packages (0.21.3)\r\n",
      "Requirement already satisfied, skipping upgrade: joblib>=0.11 in /Users/edwardliu/Downloads/anaconda3/lib/python3.7/site-packages (from scikit-learn) (0.13.2)\r\n",
      "Requirement already satisfied, skipping upgrade: numpy>=1.11.0 in /Users/edwardliu/Downloads/anaconda3/lib/python3.7/site-packages (from scikit-learn) (1.17.2)\r\n",
      "Requirement already satisfied, skipping upgrade: scipy>=0.17.0 in /Users/edwardliu/Downloads/anaconda3/lib/python3.7/site-packages (from scikit-learn) (1.3.1)\r\n"
     ]
    }
   ],
   "source": [
    "!pip install -U scikit-learn"
   ]
  },
  {
   "cell_type": "code",
   "execution_count": 713,
   "metadata": {},
   "outputs": [],
   "source": [
    "import pandas as pd\n",
    "from datascience import *\n",
    "import numpy as np"
   ]
  },
  {
   "cell_type": "code",
   "execution_count": 714,
   "metadata": {
    "scrolled": true
   },
   "outputs": [
    {
     "data": {
      "text/html": [
       "<table border=\"1\" class=\"dataframe\">\n",
       "    <thead>\n",
       "        <tr>\n",
       "            <th>DISTRICT</th> <th>CO</th> <th>CDS</th> <th>EDP 365</th> <th>Current Expense ADA</th> <th>Current Expense per ADA</th> <th>LEA Type</th> <th>enroll12</th> <th>NumTstTakr</th> <th>NumCurrElaBenchmark</th> <th>NumPreElaBenchmark</th> <th>TotNumElaBenchmark</th> <th>PctElaBenchmark</th> <th>NumCurrMathBenchmark</th> <th>NumPreMathBenchmark</th> <th>TotNumMathBenchmark</th> <th>PctMathBenchmark</th> <th>TotNumBothBenchmark</th> <th>PctBothBenchmark</th> <th>District Administrative Support:</th> <th>District Administrators:</th> <th>Elementary Guidance Counselors:</th> <th>Elementary:</th> <th>Instruc. Coordinators &amp; Supervisors:</th> <th>Instructional Aides:</th> <th>Kindergarten:</th> <th>Librarians/Media Specialists:</th> <th>Library/Media Support:</th> <th>Other Support Services:</th> <th>Prekindergarten:</th> <th>School Administrative Support:</th> <th>School Administrators:</th> <th>Secondary Guidance Counselors:</th> <th>Secondary:</th> <th>Student Support Services:</th> <th>Ungraded:</th>\n",
       "        </tr>\n",
       "    </thead>\n",
       "    <tbody>\n",
       "        <tr>\n",
       "            <td>ABC Unified             </td> <td>19  </td> <td>64212</td> <td>215,049,027</td> <td>19,855.30          </td> <td>10,831                 </td> <td>Unified                  </td> <td>1810    </td> <td>1005      </td> <td>822                </td> <td>6                 </td> <td>828               </td> <td>82.39          </td> <td>665                 </td> <td>5                  </td> <td>670                </td> <td>66.67           </td> <td>644                </td> <td>64.08           </td> <td>36                              </td> <td>8                       </td> <td>1                              </td> <td>469.07     </td> <td>19.9                                    </td> <td>148.3               </td> <td>67.58        </td> <td>0                            </td> <td>0                     </td> <td>416.44                 </td> <td>0               </td> <td>81.13                         </td> <td>56                    </td> <td>9                             </td> <td>288.3     </td> <td>83.6                     </td> <td>3.67     </td>\n",
       "        </tr>\n",
       "        <tr>\n",
       "            <td>Acalanes Union High     </td> <td>7   </td> <td>61630</td> <td>74,213,974 </td> <td>5,404.70           </td> <td>13,731                 </td> <td>High                     </td> <td>1426    </td> <td>761       </td> <td>728                </td> <td>3                 </td> <td>731               </td> <td>96.06          </td> <td>676                 </td> <td>3                  </td> <td>679                </td> <td>89.22           </td> <td>673                </td> <td>88.44           </td> <td>14                              </td> <td>4                       </td> <td>0                              </td> <td>0.13       </td> <td>4                                       </td> <td>27.46               </td> <td>0            </td> <td>0                            </td> <td>0                     </td> <td>55.39                  </td> <td>0               </td> <td>29                            </td> <td>8.5                   </td> <td>16.6                          </td> <td>276.57    </td> <td>15.8                     </td> <td>1.5      </td>\n",
       "        </tr>\n",
       "        <tr>\n",
       "            <td>Acton-Agua Dulce Unified</td> <td>19  </td> <td>75309</td> <td>14,550,055 </td> <td>1,026.60           </td> <td>14,173                 </td> <td>Unified                  </td> <td>1180    </td> <td>134       </td> <td>97                 </td> <td>0                 </td> <td>97                </td> <td>72.39          </td> <td>66                  </td> <td>0                  </td> <td>66                 </td> <td>49.25           </td> <td>64                 </td> <td>47.76           </td> <td>5                               </td> <td>1                       </td> <td>3                              </td> <td>258.38     </td> <td>75.14                                   </td> <td>105.29              </td> <td>37.08        </td> <td>0                            </td> <td>0                     </td> <td>66.52                  </td> <td>0               </td> <td>180.63                        </td> <td>57.47                 </td> <td>5.7                           </td> <td>323.27    </td> <td>85.76                    </td> <td>22.22    </td>\n",
       "        </tr>\n",
       "    </tbody>\n",
       "</table>\n",
       "<p>... (387 rows omitted)</p>"
      ],
      "text/plain": [
       "<IPython.core.display.HTML object>"
      ]
     },
     "metadata": {},
     "output_type": "display_data"
    }
   ],
   "source": [
    "og_master_df = pd.read_csv('/Users/edwardliu/Documents/Datathon-2019-Erhman/DFs/Master.csv')\n",
    "og_master = Table.from_df(og_master_df)\n",
    "og_master.show(3)"
   ]
  },
  {
   "cell_type": "code",
   "execution_count": 716,
   "metadata": {},
   "outputs": [
    {
     "data": {
      "text/html": [
       "<table border=\"1\" class=\"dataframe\">\n",
       "    <thead>\n",
       "        <tr>\n",
       "            <th>DISTRICT</th> <th>CO</th> <th>CDS</th> <th>EDP 365</th> <th>Current Expense ADA</th> <th>Current Expense per ADA</th> <th>LEA Type</th> <th>enroll12</th> <th>NumTstTakr</th> <th>PctBothBenchmark</th> <th>District Administrative Support:</th> <th>District Administrators:</th> <th>Elementary Guidance Counselors:</th> <th>Elementary:</th> <th>Instruc. Coordinators &amp; Supervisors:</th> <th>Instructional Aides:</th> <th>Kindergarten:</th> <th>Librarians/Media Specialists:</th> <th>Library/Media Support:</th> <th>Other Support Services:</th> <th>Prekindergarten:</th> <th>School Administrative Support:</th> <th>School Administrators:</th> <th>Secondary Guidance Counselors:</th> <th>Secondary:</th> <th>Student Support Services:</th>\n",
       "        </tr>\n",
       "    </thead>\n",
       "    <tbody>\n",
       "        <tr>\n",
       "            <td>ABC Unified             </td> <td>19  </td> <td>64212</td> <td>215,049,027</td> <td>19,855.30          </td> <td>10,831                 </td> <td>Unified                  </td> <td>1810    </td> <td>1005      </td> <td>64.08           </td> <td>36                              </td> <td>8                       </td> <td>1                              </td> <td>469.07     </td> <td>19.9                                    </td> <td>148.3               </td> <td>67.58        </td> <td>0                            </td> <td>0                     </td> <td>416.44                 </td> <td>0               </td> <td>81.13                         </td> <td>56                    </td> <td>9                             </td> <td>288.3     </td> <td>83.6                     </td>\n",
       "        </tr>\n",
       "        <tr>\n",
       "            <td>Acalanes Union High     </td> <td>7   </td> <td>61630</td> <td>74,213,974 </td> <td>5,404.70           </td> <td>13,731                 </td> <td>High                     </td> <td>1426    </td> <td>761       </td> <td>88.44           </td> <td>14                              </td> <td>4                       </td> <td>0                              </td> <td>0.13       </td> <td>4                                       </td> <td>27.46               </td> <td>0            </td> <td>0                            </td> <td>0                     </td> <td>55.39                  </td> <td>0               </td> <td>29                            </td> <td>8.5                   </td> <td>16.6                          </td> <td>276.57    </td> <td>15.8                     </td>\n",
       "        </tr>\n",
       "        <tr>\n",
       "            <td>Acton-Agua Dulce Unified</td> <td>19  </td> <td>75309</td> <td>14,550,055 </td> <td>1,026.60           </td> <td>14,173                 </td> <td>Unified                  </td> <td>1180    </td> <td>134       </td> <td>47.76           </td> <td>5                               </td> <td>1                       </td> <td>3                              </td> <td>258.38     </td> <td>75.14                                   </td> <td>105.29              </td> <td>37.08        </td> <td>0                            </td> <td>0                     </td> <td>66.52                  </td> <td>0               </td> <td>180.63                        </td> <td>57.47                 </td> <td>5.7                           </td> <td>323.27    </td> <td>85.76                    </td>\n",
       "        </tr>\n",
       "    </tbody>\n",
       "</table>\n",
       "<p>... (387 rows omitted)</p>"
      ],
      "text/plain": [
       "<IPython.core.display.HTML object>"
      ]
     },
     "metadata": {},
     "output_type": "display_data"
    }
   ],
   "source": [
    "master = og_master.drop(np.arange(9,18)).drop('Ungraded:')\n",
    "master.show(3)"
   ]
  },
  {
   "cell_type": "code",
   "execution_count": 717,
   "metadata": {},
   "outputs": [],
   "source": [
    "master_staff = master.select(np.arange(10,26,1))\n",
    "master_staff_df = master_staff.to_df()\n",
    "master_staff_array = master_staff_df.rename_axis('Features').values"
   ]
  },
  {
   "cell_type": "code",
   "execution_count": 718,
   "metadata": {},
   "outputs": [],
   "source": [
    "x = master_staff_array\n",
    "y = master.column(9)"
   ]
  },
  {
   "cell_type": "code",
   "execution_count": 719,
   "metadata": {},
   "outputs": [],
   "source": [
    "from sklearn.model_selection import train_test_split\n",
    "x_train, x_test, y_train, y_test = train_test_split(x,y)"
   ]
  },
  {
   "cell_type": "code",
   "execution_count": 720,
   "metadata": {},
   "outputs": [
    {
     "data": {
      "text/plain": [
       "StandardScaler(copy=True, with_mean=True, with_std=True)"
      ]
     },
     "execution_count": 720,
     "metadata": {},
     "output_type": "execute_result"
    }
   ],
   "source": [
    "from sklearn.preprocessing import StandardScaler\n",
    "scaler = StandardScaler()\n",
    "scaler.fit(x_train)"
   ]
  },
  {
   "cell_type": "code",
   "execution_count": null,
   "metadata": {},
   "outputs": [],
   "source": [
    "# Manual Standardization - Don't Run!\n",
    "\n",
    "enrollment = master['enroll12']\n",
    "\n",
    "\n",
    "new_staff = []\n",
    "for i in range(len(master_staff_array)):\n",
    "    enroll = enrollment[i]\n",
    "    new_staff.append(master_staff_array[i]/enroll)\n",
    "    \n",
    "master_staff_array = new_staff"
   ]
  },
  {
   "cell_type": "code",
   "execution_count": 721,
   "metadata": {},
   "outputs": [],
   "source": [
    "x_train = scaler.transform(x_train)\n",
    "x_test = scaler.transform(x_test)"
   ]
  },
  {
   "cell_type": "code",
   "execution_count": 722,
   "metadata": {},
   "outputs": [],
   "source": [
    "from sklearn import preprocessing"
   ]
  },
  {
   "cell_type": "code",
   "execution_count": 725,
   "metadata": {},
   "outputs": [],
   "source": [
    "x_train = preprocessing.scale(x_train)\n",
    "x_test = preprocessing.scale(x_test)"
   ]
  },
  {
   "cell_type": "code",
   "execution_count": 724,
   "metadata": {},
   "outputs": [],
   "source": [
    "from sklearn.neural_network import MLPRegressor\n",
    "from sklearn.linear_model import LinearRegression\n",
    "from sklearn.linear_model import Lasso"
   ]
  },
  {
   "cell_type": "code",
   "execution_count": 726,
   "metadata": {},
   "outputs": [
    {
     "name": "stdout",
     "output_type": "stream",
     "text": [
      "-0.6549893391633046\n"
     ]
    }
   ],
   "source": [
    "mlp_relu = MLPRegressor(hidden_layer_sizes=(16,16,16),activation='relu',solver='lbfgs')\n",
    "mlp_relu.fit(x_train,y_train)\n",
    "predictions_relu = mlp_relu.predict(x_test)\n",
    "print(mlp_relu.score(x_test,y_test))"
   ]
  },
  {
   "cell_type": "code",
   "execution_count": 727,
   "metadata": {},
   "outputs": [
    {
     "name": "stdout",
     "output_type": "stream",
     "text": [
      "-0.19111483833351461\n"
     ]
    }
   ],
   "source": [
    "mlp_logistic = MLPRegressor(hidden_layer_sizes=(16,16,16),activation='logistic',solver='lbfgs')\n",
    "mlp_logistic.fit(x_train,y_train)\n",
    "predictions_logistic = mlp_logistic.predict(x_test)\n",
    "print(mlp_logistic.score(x_test,y_test))"
   ]
  },
  {
   "cell_type": "code",
   "execution_count": 728,
   "metadata": {},
   "outputs": [
    {
     "name": "stdout",
     "output_type": "stream",
     "text": [
      "-0.1258882659285312\n"
     ]
    }
   ],
   "source": [
    "mlp_tanh = MLPRegressor(hidden_layer_sizes=(16,16,16),activation='tanh',solver='lbfgs')\n",
    "mlp_tanh.fit(x_train,y_train)\n",
    "predictions_tanh = mlp_tanh.predict(x_test)\n",
    "print(mlp_tanh.score(x_test,y_test))"
   ]
  },
  {
   "cell_type": "code",
   "execution_count": 729,
   "metadata": {},
   "outputs": [
    {
     "name": "stdout",
     "output_type": "stream",
     "text": [
      "-0.09355597559002926\n"
     ]
    }
   ],
   "source": [
    "mlp_identity = MLPRegressor(hidden_layer_sizes=(16,16,16),activation='identity',solver='lbfgs')\n",
    "mlp_identity.fit(x_train,y_train)\n",
    "predictions_identity = mlp_identity.predict(x_test)\n",
    "print(mlp_identity.score(x_test,y_test))"
   ]
  },
  {
   "cell_type": "code",
   "execution_count": 730,
   "metadata": {},
   "outputs": [
    {
     "name": "stdout",
     "output_type": "stream",
     "text": [
      "-0.09362960413441712\n"
     ]
    }
   ],
   "source": [
    "mlp_regressor = LinearRegression()\n",
    "mlp_regressor.fit(x_train,y_train)\n",
    "predictions_regressor = mlp_regressor.predict(x_test)\n",
    "print(mlp_regressor.score(x_test,y_test))"
   ]
  },
  {
   "cell_type": "code",
   "execution_count": 731,
   "metadata": {},
   "outputs": [
    {
     "data": {
      "text/html": [
       "<table border=\"1\" class=\"dataframe\">\n",
       "    <thead>\n",
       "        <tr>\n",
       "            <th>Unnamed: 0</th> <th>AFFGEOID</th> <th>ALAND</th> <th>AWATER</th> <th>ELSDLEA</th> <th>GEOID</th> <th>LSAD</th> <th>NAME</th> <th>STATEFP</th> <th>UNSDLEA</th> <th>geometry</th> <th>DISTRICT</th> <th>CO</th> <th>CDS</th> <th>EDP 365</th> <th>Current Expense ADA</th> <th>Current Expense per ADA</th> <th>LEA Type</th> <th>enroll12</th> <th>NumTstTakr</th> <th>NumCurrElaBenchmark</th> <th>NumPreElaBenchmark</th> <th>TotNumElaBenchmark</th> <th>PctElaBenchmark</th> <th>NumCurrMathBenchmark</th> <th>NumPreMathBenchmark</th> <th>TotNumMathBenchmark</th> <th>PctMathBenchmark</th> <th>TotNumBothBenchmark</th> <th>PctBothBenchmark</th> <th>Category</th> <th>Teachers</th> <th>Staff Support</th> <th>Administrators</th> <th>Counselors</th> <th>Librarians</th> <th>Student Support</th>\n",
       "        </tr>\n",
       "    </thead>\n",
       "    <tbody>\n",
       "        <tr>\n",
       "            <td>120       </td> <td>9700000US0601620</td> <td>38772464 </td> <td>556062 </td> <td>nan    </td> <td>601620</td> <td>0   </td> <td>ABC Unified             </td> <td>6      </td> <td>1620   </td> <td>POLYGON ((-118.108573 33.887749, -118.108277 33.887728,  ...</td> <td>ABC Unified             </td> <td>19  </td> <td>64212</td> <td>215,049,027</td> <td>19,855.30          </td> <td>10831                  </td> <td>Unified                  </td> <td>1810    </td> <td>1005      </td> <td>822                </td> <td>6                 </td> <td>828               </td> <td>82.39          </td> <td>665                 </td> <td>5                  </td> <td>670                </td> <td>66.67           </td> <td>644                </td> <td>64.08           </td> <td>0       </td> <td>824.95  </td> <td>701.77       </td> <td>64            </td> <td>10        </td> <td>0         </td> <td>83.6           </td>\n",
       "        </tr>\n",
       "        <tr>\n",
       "            <td>74        </td> <td>9700000US0600001</td> <td>555175119</td> <td>182566 </td> <td>nan    </td> <td>600001</td> <td>0   </td> <td>Acton-Agua Dulce Unified</td> <td>6      </td> <td>1      </td> <td>POLYGON ((-118.3801 34.503694, -118.377236 34.504546, -1 ...</td> <td>Acton-Agua Dulce Unified</td> <td>19  </td> <td>75309</td> <td>14,550,055 </td> <td>1,026.60           </td> <td>14173                  </td> <td>Unified                  </td> <td>1180    </td> <td>134       </td> <td>97                 </td> <td>0                 </td> <td>97                </td> <td>72.39          </td> <td>66                  </td> <td>0                  </td> <td>66                 </td> <td>49.25           </td> <td>64                 </td> <td>47.76           </td> <td>2       </td> <td>618.73  </td> <td>432.58       </td> <td>58.47         </td> <td>8.7       </td> <td>0         </td> <td>85.76          </td>\n",
       "        </tr>\n",
       "        <tr>\n",
       "            <td>29        </td> <td>9700000US0601860</td> <td>4636365  </td> <td>9521771</td> <td>nan    </td> <td>601860</td> <td>0   </td> <td>Albany City Unified     </td> <td>6      </td> <td>1860   </td> <td>POLYGON ((-122.326912 37.889647548398, -122.326912 37.89 ...</td> <td>Albany City Unified     </td> <td>1   </td> <td>61127</td> <td>45,683,532 </td> <td>3,537.40           </td> <td>12914                  </td> <td>Unified                  </td> <td>279     </td> <td>166       </td> <td>156                </td> <td>0                 </td> <td>156               </td> <td>93.98          </td> <td>148                 </td> <td>0                  </td> <td>148                </td> <td>89.16           </td> <td>146                </td> <td>87.95           </td> <td>1       </td> <td>168.94  </td> <td>146.75       </td> <td>9.98          </td> <td>5.6       </td> <td>4         </td> <td>8.4            </td>\n",
       "        </tr>\n",
       "    </tbody>\n",
       "</table>\n",
       "<p>... (315 rows omitted)</p>"
      ],
      "text/plain": [
       "<IPython.core.display.HTML object>"
      ]
     },
     "metadata": {},
     "output_type": "display_data"
    }
   ],
   "source": [
    "categorized_df = pd.read_csv('/Users/edwardliu/Documents/Datathon-2019-Erhman/DFs/MasterCategorized.csv')\n",
    "categorized = Table.from_df(categorized_df)\n",
    "categorized.show(3)"
   ]
  },
  {
   "cell_type": "code",
   "execution_count": 733,
   "metadata": {},
   "outputs": [
    {
     "data": {
      "text/html": [
       "<table border=\"1\" class=\"dataframe\">\n",
       "    <thead>\n",
       "        <tr>\n",
       "            <th>DISTRICT</th> <th>CO</th> <th>CDS</th> <th>EDP 365</th> <th>Current Expense ADA</th> <th>Current Expense per ADA</th> <th>LEA Type</th> <th>enroll12</th> <th>NumTstTakr</th> <th>NumCurrElaBenchmark</th> <th>NumPreElaBenchmark</th> <th>TotNumElaBenchmark</th> <th>PctElaBenchmark</th> <th>NumCurrMathBenchmark</th> <th>NumPreMathBenchmark</th> <th>TotNumMathBenchmark</th> <th>PctMathBenchmark</th> <th>TotNumBothBenchmark</th> <th>PctBothBenchmark</th> <th>Category</th> <th>Teachers</th> <th>Staff Support</th> <th>Administrators</th> <th>Counselors</th> <th>Librarians</th> <th>Student Support</th>\n",
       "        </tr>\n",
       "    </thead>\n",
       "    <tbody>\n",
       "        <tr>\n",
       "            <td>ABC Unified          </td> <td>19  </td> <td>64212</td> <td>215,049,027</td> <td>19,855.30          </td> <td>10831                  </td> <td>Unified                  </td> <td>1810    </td> <td>1005      </td> <td>822                </td> <td>6                 </td> <td>828               </td> <td>82.39          </td> <td>665                 </td> <td>5                  </td> <td>670                </td> <td>66.67           </td> <td>644                </td> <td>64.08           </td> <td>0       </td> <td>824.95  </td> <td>701.77       </td> <td>64            </td> <td>10        </td> <td>0         </td> <td>83.6           </td>\n",
       "        </tr>\n",
       "        <tr>\n",
       "            <td>Amador County Unified</td> <td>3   </td> <td>73981</td> <td>33,806,573 </td> <td>3,732.10           </td> <td>9058                   </td> <td>Unified                  </td> <td>322     </td> <td>88        </td> <td>79                 </td> <td>0                 </td> <td>79                </td> <td>89.77          </td> <td>60                  </td> <td>0                  </td> <td>60                 </td> <td>68.18           </td> <td>59                 </td> <td>67.05           </td> <td>0       </td> <td>161.62  </td> <td>139.36       </td> <td>15.16         </td> <td>6.3       </td> <td>0         </td> <td>1.2            </td>\n",
       "        </tr>\n",
       "        <tr>\n",
       "            <td>Arcadia Unified      </td> <td>19  </td> <td>64261</td> <td>101,395,950</td> <td>9,209.90           </td> <td>11009                  </td> <td>Unified                  </td> <td>892     </td> <td>637       </td> <td>600                </td> <td>1                 </td> <td>601               </td> <td>94.35          </td> <td>572                 </td> <td>1                  </td> <td>573                </td> <td>89.95           </td> <td>560                </td> <td>87.91           </td> <td>0       </td> <td>378.98  </td> <td>387.22       </td> <td>24.33         </td> <td>14        </td> <td>0         </td> <td>24.34          </td>\n",
       "        </tr>\n",
       "    </tbody>\n",
       "</table>\n",
       "<p>... (135 rows omitted)</p>"
      ],
      "text/plain": [
       "<IPython.core.display.HTML object>"
      ]
     },
     "metadata": {},
     "output_type": "display_data"
    }
   ],
   "source": [
    "lower = categorized.where('Category',0).drop(np.arange(0,11))\n",
    "middle = categorized.where('Category',1).drop(np.arange(0,11))\n",
    "upper = categorized.where('Category',2).drop(np.arange(0,11))\n",
    "lower.show(3)"
   ]
  },
  {
   "cell_type": "code",
   "execution_count": 734,
   "metadata": {},
   "outputs": [],
   "source": [
    "lower_staff = lower.select(np.arange(20,26,1))\n",
    "lower_staff_df = lower_staff.to_df()\n",
    "lower_staff_array = lower_staff_df.rename_axis('Features').values\n",
    "\n",
    "middle_staff = middle.select(np.arange(20,26,1))\n",
    "middle_staff_df = middle_staff.to_df()\n",
    "middle_staff_array = middle_staff_df.rename_axis('Features').values\n",
    "\n",
    "upper_staff = upper.select(np.arange(20,26,1))\n",
    "upper_staff_df = upper_staff.to_df()\n",
    "upper_staff_array = upper_staff_df.rename_axis('Features').values"
   ]
  },
  {
   "cell_type": "code",
   "execution_count": 735,
   "metadata": {},
   "outputs": [],
   "source": [
    "lower_x = lower_staff_array\n",
    "lower_y = lower.column(18)\n",
    "\n",
    "middle_x = middle_staff_array\n",
    "middle_y = middle.column(18)\n",
    "\n",
    "upper_x = upper_staff_array\n",
    "upper_y = upper.column(18)"
   ]
  },
  {
   "cell_type": "code",
   "execution_count": 736,
   "metadata": {},
   "outputs": [],
   "source": [
    "lower_x_train, lower_x_test, lower_y_train, lower_y_test = train_test_split(lower_x,lower_y)\n",
    "\n",
    "middle_x_train, middle_x_test, middle_y_train, middle_y_test = train_test_split(middle_x,middle_y)\n",
    "\n",
    "upper_x_train, upper_x_test, upper_y_train, upper_y_test = train_test_split(upper_x,upper_y)"
   ]
  },
  {
   "cell_type": "code",
   "execution_count": 737,
   "metadata": {},
   "outputs": [],
   "source": [
    "lower_scaler = StandardScaler()\n",
    "lower_scaler.fit(lower_x_train)\n",
    "lower_x_train = lower_scaler.transform(lower_x_train)\n",
    "lower_x_test = lower_scaler.transform(lower_x_test)\n",
    "\n",
    "middle_scaler = StandardScaler()\n",
    "middle_scaler.fit(middle_x_train)\n",
    "middle_x_train = middle_scaler.transform(middle_x_train)\n",
    "middle_x_test = middle_scaler.transform(middle_x_test)\n",
    "\n",
    "upper_scaler = StandardScaler()\n",
    "upper_scaler.fit(upper_x_train)\n",
    "upper_x_train = upper_scaler.transform(upper_x_train)\n",
    "upper_x_test = upper_scaler.transform(upper_x_test)"
   ]
  },
  {
   "cell_type": "code",
   "execution_count": 764,
   "metadata": {},
   "outputs": [],
   "source": [
    "# We decided to train and test on all indices due to the lack of volume in our dataset."
   ]
  },
  {
   "cell_type": "code",
   "execution_count": 772,
   "metadata": {},
   "outputs": [
    {
     "name": "stdout",
     "output_type": "stream",
     "text": [
      "0.04427431774234536\n"
     ]
    }
   ],
   "source": [
    "lower_mlp_relu = MLPRegressor(hidden_layer_sizes=(6,6,6),activation='relu',solver='lbfgs',max_iter=10000)\n",
    "lower_mlp_relu.fit(lower_x,lower_y)\n",
    "lower_predictions_relu = lower_mlp_relu.predict(lower_x)\n",
    "print(lower_mlp_relu.score(lower_x,lower_y))"
   ]
  },
  {
   "cell_type": "code",
   "execution_count": 803,
   "metadata": {},
   "outputs": [
    {
     "name": "stdout",
     "output_type": "stream",
     "text": [
      "0.3451527806476983\n"
     ]
    },
    {
     "data": {
      "text/plain": [
       "['mlp_logistic_model.sav']"
      ]
     },
     "execution_count": 803,
     "metadata": {},
     "output_type": "execute_result"
    }
   ],
   "source": [
    "lower_mlp_logistic = MLPRegressor(hidden_layer_sizes=(20,20,20),activation='logistic',solver='lbfgs',max_iter=10000, tol=1e-7)\n",
    "lower_mlp_logistic.fit(lower_x,lower_y)\n",
    "lower_predictions_logistic = lower_mlp_logistic.predict(lower_x)\n",
    "print(lower_mlp_logistic.score(lower_x,lower_y))\n",
    "\n",
    "from sklearn.externals import joblib\n",
    "filename='mlp_logistic_model.sav'\n",
    "joblib.dump(lower_mlp_logistic, filename)"
   ]
  },
  {
   "cell_type": "code",
   "execution_count": 752,
   "metadata": {},
   "outputs": [
    {
     "name": "stdout",
     "output_type": "stream",
     "text": [
      "0.10286882450230728\n"
     ]
    }
   ],
   "source": [
    "lower_mlp_tanh = MLPRegressor(hidden_layer_sizes=(20,20,20),activation='tanh',solver='lbfgs',max_iter=10000)\n",
    "lower_mlp_tanh.fit(lower_x,lower_y)\n",
    "lower_predictions_tanh = lower_mlp_tanh.predict(lower_x)\n",
    "print(lower_mlp_tanh.score(lower_x,lower_y))"
   ]
  },
  {
   "cell_type": "code",
   "execution_count": 753,
   "metadata": {},
   "outputs": [
    {
     "name": "stdout",
     "output_type": "stream",
     "text": [
      "0.1049706005128912\n"
     ]
    }
   ],
   "source": [
    "lower_mlp_identity = MLPRegressor(hidden_layer_sizes=(20,20,20),activation='identity',solver='lbfgs',max_iter=10000)\n",
    "lower_mlp_identity.fit(lower_x,lower_y)\n",
    "lower_predictions_identity = lower_mlp_identity.predict(lower_x)\n",
    "print(lower_mlp_identity.score(lower_x,lower_y))"
   ]
  },
  {
   "cell_type": "code",
   "execution_count": 754,
   "metadata": {},
   "outputs": [
    {
     "name": "stdout",
     "output_type": "stream",
     "text": [
      "0.10497060051521566\n"
     ]
    }
   ],
   "source": [
    "lower_mlp_regressor = LinearRegression()\n",
    "lower_mlp_regressor.fit(lower_x,lower_y)\n",
    "lower_predictions_regressor = lower_mlp_regressor.predict(lower_x)\n",
    "print(lower_mlp_regressor.score(lower_x,lower_y))"
   ]
  },
  {
   "cell_type": "code",
   "execution_count": 799,
   "metadata": {},
   "outputs": [
    {
     "name": "stdout",
     "output_type": "stream",
     "text": [
      "For the Lower Category:\n"
     ]
    },
    {
     "data": {
      "text/html": [
       "<table border=\"1\" class=\"dataframe\">\n",
       "    <thead>\n",
       "        <tr>\n",
       "            <th>Staff Type</th> <th>Slopes</th> <th>R Values</th> <th>R-Squared Values</th>\n",
       "        </tr>\n",
       "    </thead>\n",
       "    <tbody>\n",
       "        <tr>\n",
       "            <td>Teachers       </td> <td>0.00898978</td> <td>0.180993 </td> <td>0.0327586       </td>\n",
       "        </tr>\n",
       "        <tr>\n",
       "            <td>Staff Support  </td> <td>0.00655427</td> <td>0.143204 </td> <td>0.0205074       </td>\n",
       "        </tr>\n",
       "        <tr>\n",
       "            <td>Administrators </td> <td>0.0571776 </td> <td>0.0991394</td> <td>0.00982862      </td>\n",
       "        </tr>\n",
       "        <tr>\n",
       "            <td>Counselors     </td> <td>0.298341  </td> <td>0.205373 </td> <td>0.0421779       </td>\n",
       "        </tr>\n",
       "        <tr>\n",
       "            <td>Librarians     </td> <td>-3.33194  </td> <td>-0.107163</td> <td>0.0114838       </td>\n",
       "        </tr>\n",
       "        <tr>\n",
       "            <td>Student Support</td> <td>0.0950026 </td> <td>0.194172 </td> <td>0.0377029       </td>\n",
       "        </tr>\n",
       "    </tbody>\n",
       "</table>"
      ],
      "text/plain": [
       "<IPython.core.display.HTML object>"
      ]
     },
     "metadata": {},
     "output_type": "display_data"
    }
   ],
   "source": [
    "from scipy import stats\n",
    "\n",
    "lower_clipped = lower.select('PctBothBenchmark','Teachers','Staff Support','Administrators','Counselors','Librarians','Student Support')\n",
    "\n",
    "slopes = make_array()\n",
    "r_values = make_array()\n",
    "r2_values = make_array()\n",
    "\n",
    "for i in np.arange(1,7):\n",
    "    x_value = lower_clipped.column(i)\n",
    "    y_value = lower_clipped.column(0)\n",
    "    slope, intercept, r_value, p_value, std_err = stats.linregress(x_value,y_value)\n",
    "    slopes = np.append(slopes, slope)\n",
    "    r_values = np.append(r_values, r_value)\n",
    "    r2_values = np.append(r2_values, r_value**2)\n",
    "    \n",
    "lower_lin_reg = Table().with_columns('Staff Type', make_array('Teachers','Staff Support','Administrators','Counselors','Librarians','Student Support'),\n",
    "                    'Slopes', slopes,\n",
    "                    'R Values', r_values,\n",
    "                    'R-Squared Values', r2_values)\n",
    "print('For the Lower Category:')\n",
    "lower_lin_reg.show()"
   ]
  },
  {
   "cell_type": "code",
   "execution_count": 800,
   "metadata": {},
   "outputs": [
    {
     "name": "stdout",
     "output_type": "stream",
     "text": [
      "For the Middle Category:\n"
     ]
    },
    {
     "data": {
      "text/html": [
       "<table border=\"1\" class=\"dataframe\">\n",
       "    <thead>\n",
       "        <tr>\n",
       "            <th>Staff Type</th> <th>Slopes</th> <th>R Values</th> <th>R-Squared Values</th>\n",
       "        </tr>\n",
       "    </thead>\n",
       "    <tbody>\n",
       "        <tr>\n",
       "            <td>Teachers       </td> <td>-0.010842  </td> <td>-0.210133 </td> <td>0.044156        </td>\n",
       "        </tr>\n",
       "        <tr>\n",
       "            <td>Staff Support  </td> <td>-0.00957426</td> <td>-0.229068 </td> <td>0.0524721       </td>\n",
       "        </tr>\n",
       "        <tr>\n",
       "            <td>Administrators </td> <td>-0.108913  </td> <td>-0.228116 </td> <td>0.0520368       </td>\n",
       "        </tr>\n",
       "        <tr>\n",
       "            <td>Counselors     </td> <td>-0.215922  </td> <td>-0.195529 </td> <td>0.0382314       </td>\n",
       "        </tr>\n",
       "        <tr>\n",
       "            <td>Librarians     </td> <td>-0.251186  </td> <td>-0.0250506</td> <td>0.000627531     </td>\n",
       "        </tr>\n",
       "        <tr>\n",
       "            <td>Student Support</td> <td>-0.0659108 </td> <td>-0.155291 </td> <td>0.0241153       </td>\n",
       "        </tr>\n",
       "    </tbody>\n",
       "</table>"
      ],
      "text/plain": [
       "<IPython.core.display.HTML object>"
      ]
     },
     "metadata": {},
     "output_type": "display_data"
    }
   ],
   "source": [
    "middle_clipped = middle.select('PctBothBenchmark','Teachers','Staff Support','Administrators','Counselors','Librarians','Student Support')\n",
    "\n",
    "slopes = make_array()\n",
    "r_values = make_array()\n",
    "r2_values = make_array()\n",
    "\n",
    "for i in np.arange(1,7):\n",
    "    x_value = middle_clipped.column(i)\n",
    "    y_value = middle_clipped.column(0)\n",
    "    slope, intercept, r_value, p_value, std_err = stats.linregress(x_value,y_value)\n",
    "    slopes = np.append(slopes, slope)\n",
    "    r_values = np.append(r_values, r_value)\n",
    "    r2_values = np.append(r2_values, r_value**2)\n",
    "    \n",
    "middle_lin_reg = Table().with_columns('Staff Type', make_array('Teachers','Staff Support','Administrators','Counselors','Librarians','Student Support'),\n",
    "                    'Slopes', slopes,\n",
    "                    'R Values', r_values,\n",
    "                    'R-Squared Values', r2_values)\n",
    "print('For the Middle Category:')\n",
    "middle_lin_reg.show()"
   ]
  },
  {
   "cell_type": "code",
   "execution_count": 801,
   "metadata": {},
   "outputs": [
    {
     "name": "stdout",
     "output_type": "stream",
     "text": [
      "For the Upper Category:\n"
     ]
    },
    {
     "data": {
      "text/html": [
       "<table border=\"1\" class=\"dataframe\">\n",
       "    <thead>\n",
       "        <tr>\n",
       "            <th>Staff Type</th> <th>Slopes</th> <th>R Values</th> <th>R-Squared Values</th>\n",
       "        </tr>\n",
       "    </thead>\n",
       "    <tbody>\n",
       "        <tr>\n",
       "            <td>Teachers       </td> <td>0.00299826 </td> <td>0.0335221 </td> <td>0.00112373      </td>\n",
       "        </tr>\n",
       "        <tr>\n",
       "            <td>Staff Support  </td> <td>0.000158974</td> <td>0.00374475</td> <td>1.40232e-05     </td>\n",
       "        </tr>\n",
       "        <tr>\n",
       "            <td>Administrators </td> <td>-0.0236139 </td> <td>-0.118318 </td> <td>0.0139992       </td>\n",
       "        </tr>\n",
       "        <tr>\n",
       "            <td>Counselors     </td> <td>-0.0196491 </td> <td>-0.099595 </td> <td>0.00991916      </td>\n",
       "        </tr>\n",
       "        <tr>\n",
       "            <td>Librarians     </td> <td>1.82035    </td> <td>0.0691618 </td> <td>0.00478335      </td>\n",
       "        </tr>\n",
       "        <tr>\n",
       "            <td>Student Support</td> <td>0.0163891  </td> <td>0.0488998 </td> <td>0.00239119      </td>\n",
       "        </tr>\n",
       "    </tbody>\n",
       "</table>"
      ],
      "text/plain": [
       "<IPython.core.display.HTML object>"
      ]
     },
     "metadata": {},
     "output_type": "display_data"
    }
   ],
   "source": [
    "upper_clipped = upper.select('PctBothBenchmark','Teachers','Staff Support','Administrators','Counselors','Librarians','Student Support')\n",
    "\n",
    "slopes = make_array()\n",
    "r_values = make_array()\n",
    "r2_values = make_array()\n",
    "\n",
    "for i in np.arange(1,7):\n",
    "    x_value = upper_clipped.column(i)\n",
    "    y_value = upper_clipped.column(0)\n",
    "    slope, intercept, r_value, p_value, std_err = stats.linregress(x_value,y_value)\n",
    "    slopes = np.append(slopes, slope)\n",
    "    r_values = np.append(r_values, r_value)\n",
    "    r2_values = np.append(r2_values, r_value**2)\n",
    "    \n",
    "upper_lin_reg = Table().with_columns('Staff Type', make_array('Teachers','Staff Support','Administrators','Counselors','Librarians','Student Support'),\n",
    "                    'Slopes', slopes,\n",
    "                    'R Values', r_values,\n",
    "                    'R-Squared Values', r2_values)\n",
    "print('For the Upper Category:')\n",
    "upper_lin_reg.show()"
   ]
  },
  {
   "cell_type": "code",
   "execution_count": 802,
   "metadata": {
    "scrolled": true
   },
   "outputs": [
    {
     "name": "stdout",
     "output_type": "stream",
     "text": [
      "For All Categories:\n"
     ]
    },
    {
     "data": {
      "text/html": [
       "<table border=\"1\" class=\"dataframe\">\n",
       "    <thead>\n",
       "        <tr>\n",
       "            <th>Staff Type</th> <th>Slopes</th> <th>R Values</th> <th>R-Squared Values</th>\n",
       "        </tr>\n",
       "    </thead>\n",
       "    <tbody>\n",
       "        <tr>\n",
       "            <td>Teachers       </td> <td>-0.000794912</td> <td>-0.0137029  </td> <td>0.00018777      </td>\n",
       "        </tr>\n",
       "        <tr>\n",
       "            <td>Staff Support  </td> <td>-0.00338309 </td> <td>-0.0726692  </td> <td>0.00528081      </td>\n",
       "        </tr>\n",
       "        <tr>\n",
       "            <td>Administrators </td> <td>-0.0431462  </td> <td>-0.112791   </td> <td>0.0127217       </td>\n",
       "        </tr>\n",
       "        <tr>\n",
       "            <td>Counselors     </td> <td>-0.0304967  </td> <td>-0.0668149  </td> <td>0.00446423      </td>\n",
       "        </tr>\n",
       "        <tr>\n",
       "            <td>Librarians     </td> <td>-0.787784   </td> <td>-0.051279   </td> <td>0.00262953      </td>\n",
       "        </tr>\n",
       "        <tr>\n",
       "            <td>Student Support</td> <td>-0.000174858</td> <td>-0.000385209</td> <td>1.48386e-07     </td>\n",
       "        </tr>\n",
       "    </tbody>\n",
       "</table>"
      ],
      "text/plain": [
       "<IPython.core.display.HTML object>"
      ]
     },
     "metadata": {},
     "output_type": "display_data"
    }
   ],
   "source": [
    "all_clipped = categorized.select('PctBothBenchmark','Teachers','Staff Support','Administrators','Counselors','Librarians','Student Support')\n",
    "\n",
    "slopes = make_array()\n",
    "r_values = make_array()\n",
    "r2_values = make_array()\n",
    "\n",
    "for i in np.arange(1,7):\n",
    "    x_value = all_clipped.column(i)\n",
    "    y_value = all_clipped.column(0)\n",
    "    slope, intercept, r_value, p_value, std_err = stats.linregress(x_value,y_value)\n",
    "    slopes = np.append(slopes, slope)\n",
    "    r_values = np.append(r_values, r_value)\n",
    "    r2_values = np.append(r2_values, r_value**2)\n",
    "    \n",
    "all_lin_reg = Table().with_columns('Staff Type', make_array('Teachers','Staff Support','Administrators','Counselors','Librarians','Student Support'),\n",
    "                    'Slopes', slopes,\n",
    "                    'R Values', r_values,\n",
    "                    'R-Squared Values', r2_values)\n",
    "print('For All Categories:')\n",
    "all_lin_reg.show()"
   ]
  },
  {
   "cell_type": "code",
   "execution_count": null,
   "metadata": {},
   "outputs": [],
   "source": []
  }
 ],
 "metadata": {
  "kernelspec": {
   "display_name": "Python 3",
   "language": "python",
   "name": "python3"
  },
  "language_info": {
   "codemirror_mode": {
    "name": "ipython",
    "version": 3
   },
   "file_extension": ".py",
   "mimetype": "text/x-python",
   "name": "python",
   "nbconvert_exporter": "python",
   "pygments_lexer": "ipython3",
   "version": "3.7.4"
  }
 },
 "nbformat": 4,
 "nbformat_minor": 2
}
