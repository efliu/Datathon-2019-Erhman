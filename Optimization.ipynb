{
 "cells": [
  {
   "cell_type": "code",
   "execution_count": 3,
   "metadata": {},
   "outputs": [],
   "source": [
    "from scipy.optimize import minimize \n",
    "from scipy.optimize import LinearConstraint\n",
    "\n",
    "import pandas as pd"
   ]
  },
  {
   "cell_type": "code",
   "execution_count": 8,
   "metadata": {},
   "outputs": [],
   "source": [
    "salaries = pd.read_csv(\"salaries.csv\")['Salary']"
   ]
  },
  {
   "cell_type": "code",
   "execution_count": 11,
   "metadata": {},
   "outputs": [
    {
     "data": {
      "text/plain": [
       "     fun: 1.0000326055303868\n",
       "     jac: array([0.00000000e+00, 1.00000000e+00, 1.49011612e-08, 1.54659152e-04,\n",
       "       1.01938844e-04, 2.59608030e-04, 0.00000000e+00, 0.00000000e+00,\n",
       "       6.30319118e-06, 0.00000000e+00, 6.50584698e-05, 1.09612942e-04,\n",
       "       4.70876694e-06, 1.02669001e-04, 1.09001994e-04, 1.80855393e-04,\n",
       "       3.44172120e-04])\n",
       " message: 'Optimization terminated successfully.'\n",
       "    nfev: 1012\n",
       "     nit: 52\n",
       "    njev: 52\n",
       "  status: 0\n",
       " success: True\n",
       "       x: array([1.14233302e+02, 1.80917781e-13, 2.72839477e-15, 7.18010210e-03,\n",
       "       2.94278925e-02, 8.48858898e-02, 4.74316230e-04, 0.00000000e+00,\n",
       "       1.34296757e-01, 0.00000000e+00, 2.65280269e-01, 3.16112480e-01,\n",
       "       2.61606692e-01, 3.75657899e-01, 4.04599055e-01, 4.45306083e-01,\n",
       "       4.88477552e-01])"
      ]
     },
     "execution_count": 11,
     "metadata": {},
     "output_type": "execute_result"
    }
   ],
   "source": [
    "X = [1 for _ in salaries]\n",
    "\n",
    "def f(X):\n",
    "    return sum([X[i] ** i for i in range(len(X))]) #Edward NN\n",
    "\n",
    "\n",
    "bounds = [(0,9999999) for _ in X]\n",
    "\n",
    "total_budget = X @ salaries\n",
    "\n",
    "const = [{\"type\": \"eq\", \"fun\": lambda x: salaries @ x - total_budget}]\n",
    "\n",
    "minimize(f,X,bounds=bounds,constraints = const)"
   ]
  },
  {
   "cell_type": "code",
   "execution_count": null,
   "metadata": {},
   "outputs": [],
   "source": []
  }
 ],
 "metadata": {
  "kernelspec": {
   "display_name": "Python 3",
   "language": "python",
   "name": "python3"
  },
  "language_info": {
   "codemirror_mode": {
    "name": "ipython",
    "version": 3
   },
   "file_extension": ".py",
   "mimetype": "text/x-python",
   "name": "python",
   "nbconvert_exporter": "python",
   "pygments_lexer": "ipython3",
   "version": "3.7.4"
  }
 },
 "nbformat": 4,
 "nbformat_minor": 2
}
