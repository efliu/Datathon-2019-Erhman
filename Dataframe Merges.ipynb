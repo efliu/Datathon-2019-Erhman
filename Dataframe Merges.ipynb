{
 "cells": [
  {
   "cell_type": "code",
   "execution_count": 4,
   "metadata": {},
   "outputs": [
    {
     "name": "stdout",
     "output_type": "stream",
     "text": [
      "Requirement already satisfied: datascience in /Users/edwardliu/Downloads/anaconda3/lib/python3.7/site-packages (0.15.3)\n",
      "Requirement already satisfied: coverage==4.5.3 in /Users/edwardliu/Downloads/anaconda3/lib/python3.7/site-packages (from datascience) (4.5.3)\n",
      "Requirement already satisfied: bokeh in /Users/edwardliu/Downloads/anaconda3/lib/python3.7/site-packages (from datascience) (1.3.4)\n",
      "Requirement already satisfied: pytest in /Users/edwardliu/Downloads/anaconda3/lib/python3.7/site-packages (from datascience) (5.2.1)\n",
      "Requirement already satisfied: pandas in /Users/edwardliu/Downloads/anaconda3/lib/python3.7/site-packages (from datascience) (0.25.1)\n",
      "Requirement already satisfied: ipython in /Users/edwardliu/Downloads/anaconda3/lib/python3.7/site-packages (from datascience) (7.8.0)\n",
      "Requirement already satisfied: matplotlib>=3.0.0 in /Users/edwardliu/Downloads/anaconda3/lib/python3.7/site-packages (from datascience) (3.1.1)\n",
      "Requirement already satisfied: coveralls in /Users/edwardliu/Downloads/anaconda3/lib/python3.7/site-packages (from datascience) (1.8.2)\n",
      "Requirement already satisfied: setuptools in /Users/edwardliu/Downloads/anaconda3/lib/python3.7/site-packages (from datascience) (41.4.0)\n",
      "Requirement already satisfied: sphinx in /Users/edwardliu/Downloads/anaconda3/lib/python3.7/site-packages (from datascience) (2.2.0)\n",
      "Requirement already satisfied: folium>=0.9.1 in /Users/edwardliu/Downloads/anaconda3/lib/python3.7/site-packages (from datascience) (0.10.0)\n",
      "Requirement already satisfied: numpy in /Users/edwardliu/Downloads/anaconda3/lib/python3.7/site-packages (from datascience) (1.17.2)\n",
      "Requirement already satisfied: scipy in /Users/edwardliu/Downloads/anaconda3/lib/python3.7/site-packages (from datascience) (1.3.1)\n",
      "Requirement already satisfied: pillow>=4.0 in /Users/edwardliu/Downloads/anaconda3/lib/python3.7/site-packages (from bokeh->datascience) (6.2.0)\n",
      "Requirement already satisfied: tornado>=4.3 in /Users/edwardliu/Downloads/anaconda3/lib/python3.7/site-packages (from bokeh->datascience) (6.0.3)\n",
      "Requirement already satisfied: python-dateutil>=2.1 in /Users/edwardliu/Downloads/anaconda3/lib/python3.7/site-packages (from bokeh->datascience) (2.8.0)\n",
      "Requirement already satisfied: six>=1.5.2 in /Users/edwardliu/Downloads/anaconda3/lib/python3.7/site-packages (from bokeh->datascience) (1.12.0)\n",
      "Requirement already satisfied: packaging>=16.8 in /Users/edwardliu/Downloads/anaconda3/lib/python3.7/site-packages (from bokeh->datascience) (19.2)\n",
      "Requirement already satisfied: PyYAML>=3.10 in /Users/edwardliu/Downloads/anaconda3/lib/python3.7/site-packages (from bokeh->datascience) (5.1.2)\n",
      "Requirement already satisfied: Jinja2>=2.7 in /Users/edwardliu/Downloads/anaconda3/lib/python3.7/site-packages (from bokeh->datascience) (2.10.3)\n",
      "Requirement already satisfied: py>=1.5.0 in /Users/edwardliu/Downloads/anaconda3/lib/python3.7/site-packages (from pytest->datascience) (1.8.0)\n",
      "Requirement already satisfied: attrs>=17.4.0 in /Users/edwardliu/Downloads/anaconda3/lib/python3.7/site-packages (from pytest->datascience) (19.2.0)\n",
      "Requirement already satisfied: more-itertools>=4.0.0 in /Users/edwardliu/Downloads/anaconda3/lib/python3.7/site-packages (from pytest->datascience) (7.2.0)\n",
      "Requirement already satisfied: atomicwrites>=1.0 in /Users/edwardliu/Downloads/anaconda3/lib/python3.7/site-packages (from pytest->datascience) (1.3.0)\n",
      "Requirement already satisfied: pluggy<1.0,>=0.12 in /Users/edwardliu/Downloads/anaconda3/lib/python3.7/site-packages (from pytest->datascience) (0.13.0)\n",
      "Requirement already satisfied: wcwidth in /Users/edwardliu/Downloads/anaconda3/lib/python3.7/site-packages (from pytest->datascience) (0.1.7)\n",
      "Requirement already satisfied: importlib-metadata>=0.12 in /Users/edwardliu/Downloads/anaconda3/lib/python3.7/site-packages (from pytest->datascience) (0.23)\n",
      "Requirement already satisfied: pytz>=2017.2 in /Users/edwardliu/Downloads/anaconda3/lib/python3.7/site-packages (from pandas->datascience) (2019.3)\n",
      "Requirement already satisfied: pygments in /Users/edwardliu/Downloads/anaconda3/lib/python3.7/site-packages (from ipython->datascience) (2.4.2)\n",
      "Requirement already satisfied: pickleshare in /Users/edwardliu/Downloads/anaconda3/lib/python3.7/site-packages (from ipython->datascience) (0.7.5)\n",
      "Requirement already satisfied: prompt-toolkit<2.1.0,>=2.0.0 in /Users/edwardliu/Downloads/anaconda3/lib/python3.7/site-packages (from ipython->datascience) (2.0.10)\n",
      "Requirement already satisfied: appnope; sys_platform == \"darwin\" in /Users/edwardliu/Downloads/anaconda3/lib/python3.7/site-packages (from ipython->datascience) (0.1.0)\n",
      "Requirement already satisfied: decorator in /Users/edwardliu/Downloads/anaconda3/lib/python3.7/site-packages (from ipython->datascience) (4.4.0)\n",
      "Requirement already satisfied: traitlets>=4.2 in /Users/edwardliu/Downloads/anaconda3/lib/python3.7/site-packages (from ipython->datascience) (4.3.3)\n",
      "Requirement already satisfied: pexpect; sys_platform != \"win32\" in /Users/edwardliu/Downloads/anaconda3/lib/python3.7/site-packages (from ipython->datascience) (4.7.0)\n",
      "Requirement already satisfied: backcall in /Users/edwardliu/Downloads/anaconda3/lib/python3.7/site-packages (from ipython->datascience) (0.1.0)\n",
      "Requirement already satisfied: jedi>=0.10 in /Users/edwardliu/Downloads/anaconda3/lib/python3.7/site-packages (from ipython->datascience) (0.15.1)\n",
      "Requirement already satisfied: cycler>=0.10 in /Users/edwardliu/Downloads/anaconda3/lib/python3.7/site-packages (from matplotlib>=3.0.0->datascience) (0.10.0)\n",
      "Requirement already satisfied: kiwisolver>=1.0.1 in /Users/edwardliu/Downloads/anaconda3/lib/python3.7/site-packages (from matplotlib>=3.0.0->datascience) (1.1.0)\n",
      "Requirement already satisfied: pyparsing!=2.0.4,!=2.1.2,!=2.1.6,>=2.0.1 in /Users/edwardliu/Downloads/anaconda3/lib/python3.7/site-packages (from matplotlib>=3.0.0->datascience) (2.4.2)\n",
      "Requirement already satisfied: requests>=1.0.0 in /Users/edwardliu/Downloads/anaconda3/lib/python3.7/site-packages (from coveralls->datascience) (2.22.0)\n",
      "Requirement already satisfied: docopt>=0.6.1 in /Users/edwardliu/Downloads/anaconda3/lib/python3.7/site-packages (from coveralls->datascience) (0.6.2)\n",
      "Requirement already satisfied: sphinxcontrib-devhelp in /Users/edwardliu/Downloads/anaconda3/lib/python3.7/site-packages (from sphinx->datascience) (1.0.1)\n",
      "Requirement already satisfied: docutils>=0.12 in /Users/edwardliu/Downloads/anaconda3/lib/python3.7/site-packages (from sphinx->datascience) (0.15.2)\n",
      "Requirement already satisfied: sphinxcontrib-serializinghtml in /Users/edwardliu/Downloads/anaconda3/lib/python3.7/site-packages (from sphinx->datascience) (1.1.3)\n",
      "Requirement already satisfied: sphinxcontrib-htmlhelp in /Users/edwardliu/Downloads/anaconda3/lib/python3.7/site-packages (from sphinx->datascience) (1.0.2)\n",
      "Requirement already satisfied: sphinxcontrib-jsmath in /Users/edwardliu/Downloads/anaconda3/lib/python3.7/site-packages (from sphinx->datascience) (1.0.1)\n",
      "Requirement already satisfied: snowballstemmer>=1.1 in /Users/edwardliu/Downloads/anaconda3/lib/python3.7/site-packages (from sphinx->datascience) (2.0.0)\n",
      "Requirement already satisfied: imagesize in /Users/edwardliu/Downloads/anaconda3/lib/python3.7/site-packages (from sphinx->datascience) (1.1.0)\n",
      "Requirement already satisfied: babel!=2.0,>=1.3 in /Users/edwardliu/Downloads/anaconda3/lib/python3.7/site-packages (from sphinx->datascience) (2.7.0)\n",
      "Requirement already satisfied: alabaster<0.8,>=0.7 in /Users/edwardliu/Downloads/anaconda3/lib/python3.7/site-packages (from sphinx->datascience) (0.7.12)\n",
      "Requirement already satisfied: sphinxcontrib-qthelp in /Users/edwardliu/Downloads/anaconda3/lib/python3.7/site-packages (from sphinx->datascience) (1.0.2)\n",
      "Requirement already satisfied: sphinxcontrib-applehelp in /Users/edwardliu/Downloads/anaconda3/lib/python3.7/site-packages (from sphinx->datascience) (1.0.1)\n",
      "Requirement already satisfied: branca>=0.3.0 in /Users/edwardliu/Downloads/anaconda3/lib/python3.7/site-packages (from folium>=0.9.1->datascience) (0.3.1)\n",
      "Requirement already satisfied: MarkupSafe>=0.23 in /Users/edwardliu/Downloads/anaconda3/lib/python3.7/site-packages (from Jinja2>=2.7->bokeh->datascience) (1.1.1)\n",
      "Requirement already satisfied: zipp>=0.5 in /Users/edwardliu/Downloads/anaconda3/lib/python3.7/site-packages (from importlib-metadata>=0.12->pytest->datascience) (0.6.0)\n",
      "Requirement already satisfied: ipython-genutils in /Users/edwardliu/Downloads/anaconda3/lib/python3.7/site-packages (from traitlets>=4.2->ipython->datascience) (0.2.0)\n",
      "Requirement already satisfied: ptyprocess>=0.5 in /Users/edwardliu/Downloads/anaconda3/lib/python3.7/site-packages (from pexpect; sys_platform != \"win32\"->ipython->datascience) (0.6.0)\n"
     ]
    },
    {
     "name": "stdout",
     "output_type": "stream",
     "text": [
      "Requirement already satisfied: parso>=0.5.0 in /Users/edwardliu/Downloads/anaconda3/lib/python3.7/site-packages (from jedi>=0.10->ipython->datascience) (0.5.1)\r\n",
      "Requirement already satisfied: chardet<3.1.0,>=3.0.2 in /Users/edwardliu/Downloads/anaconda3/lib/python3.7/site-packages (from requests>=1.0.0->coveralls->datascience) (3.0.4)\r\n",
      "Requirement already satisfied: certifi>=2017.4.17 in /Users/edwardliu/Downloads/anaconda3/lib/python3.7/site-packages (from requests>=1.0.0->coveralls->datascience) (2019.9.11)\r\n",
      "Requirement already satisfied: urllib3!=1.25.0,!=1.25.1,<1.26,>=1.21.1 in /Users/edwardliu/Downloads/anaconda3/lib/python3.7/site-packages (from requests>=1.0.0->coveralls->datascience) (1.24.2)\r\n",
      "Requirement already satisfied: idna<2.9,>=2.5 in /Users/edwardliu/Downloads/anaconda3/lib/python3.7/site-packages (from requests>=1.0.0->coveralls->datascience) (2.8)\r\n"
     ]
    }
   ],
   "source": [
    "!pip install datascience"
   ]
  },
  {
   "cell_type": "code",
   "execution_count": 5,
   "metadata": {},
   "outputs": [
    {
     "name": "stdout",
     "output_type": "stream",
     "text": [
      "Requirement already up-to-date: scikit-learn in /Users/edwardliu/Downloads/anaconda3/lib/python3.7/site-packages (0.21.3)\r\n",
      "Requirement already satisfied, skipping upgrade: scipy>=0.17.0 in /Users/edwardliu/Downloads/anaconda3/lib/python3.7/site-packages (from scikit-learn) (1.3.1)\r\n",
      "Requirement already satisfied, skipping upgrade: numpy>=1.11.0 in /Users/edwardliu/Downloads/anaconda3/lib/python3.7/site-packages (from scikit-learn) (1.17.2)\r\n",
      "Requirement already satisfied, skipping upgrade: joblib>=0.11 in /Users/edwardliu/Downloads/anaconda3/lib/python3.7/site-packages (from scikit-learn) (0.13.2)\r\n"
     ]
    }
   ],
   "source": [
    "!pip install -U scikit-learn"
   ]
  },
  {
   "cell_type": "code",
   "execution_count": 6,
   "metadata": {},
   "outputs": [],
   "source": [
    "import pandas as pd\n",
    "from datascience import *\n",
    "import numpy as np\n",
    "import matplotlib\n",
    "%matplotlib inline\n",
    "import matplotlib.pyplot as plt\n",
    "plt.style.use('fivethirtyeight')\n",
    "import requests"
   ]
  },
  {
   "cell_type": "code",
   "execution_count": 7,
   "metadata": {},
   "outputs": [
    {
     "data": {
      "text/plain": [
       "'/Users/edwardliu/Documents/Datathon-2019-Erhman'"
      ]
     },
     "execution_count": 7,
     "metadata": {},
     "output_type": "execute_result"
    }
   ],
   "source": [
    "pwd"
   ]
  },
  {
   "cell_type": "code",
   "execution_count": 8,
   "metadata": {},
   "outputs": [],
   "source": [
    "# expenses.csv + scores.csv = DistrictPerformance.csv"
   ]
  },
  {
   "cell_type": "code",
   "execution_count": 9,
   "metadata": {},
   "outputs": [
    {
     "data": {
      "text/html": [
       "<table border=\"1\" class=\"dataframe\">\n",
       "    <thead>\n",
       "        <tr>\n",
       "            <th>CO</th> <th>CDS</th> <th>DISTRICT</th> <th>EDP 365</th> <th>Current Expense ADA</th> <th>Current Expense per ADA</th> <th>LEA Type</th>\n",
       "        </tr>\n",
       "    </thead>\n",
       "    <tbody>\n",
       "        <tr>\n",
       "            <td>1   </td> <td>61119</td> <td>Alameda Unified    </td> <td>108,302,935</td> <td>9,066.4            </td> <td>11,946                 </td> <td>Unified                  </td>\n",
       "        </tr>\n",
       "        <tr>\n",
       "            <td>1   </td> <td>61127</td> <td>Albany City Unified</td> <td>45,683,532 </td> <td>3,537.4            </td> <td>12,914                 </td> <td>Unified                  </td>\n",
       "        </tr>\n",
       "        <tr>\n",
       "            <td>1   </td> <td>61143</td> <td>Berkeley Unified   </td> <td>144,637,240</td> <td>9,345.8            </td> <td>15,476                 </td> <td>Unified                  </td>\n",
       "        </tr>\n",
       "    </tbody>\n",
       "</table>\n",
       "<p>... (936 rows omitted)</p>"
      ],
      "text/plain": [
       "<IPython.core.display.HTML object>"
      ]
     },
     "metadata": {},
     "output_type": "display_data"
    }
   ],
   "source": [
    "expenses_df = pd.read_csv('/Users/edwardliu/Documents/Datathon-2019-Erhman/DFs/expenses.csv')\n",
    "expenses = Table.from_df(expenses_df)\n",
    "expenses.show(3)"
   ]
  },
  {
   "cell_type": "code",
   "execution_count": 10,
   "metadata": {},
   "outputs": [
    {
     "data": {
      "text/html": [
       "<table border=\"1\" class=\"dataframe\">\n",
       "    <thead>\n",
       "        <tr>\n",
       "            <th>dname</th> <th>enroll12</th> <th>NumTstTakr</th> <th>NumCurrElaBenchmark</th> <th>NumPreElaBenchmark</th> <th>TotNumElaBenchmark</th> <th>PctElaBenchmark</th> <th>NumCurrMathBenchmark</th> <th>NumPreMathBenchmark</th> <th>TotNumMathBenchmark</th> <th>PctMathBenchmark</th> <th>TotNumBothBenchmark</th> <th>PctBothBenchmark</th>\n",
       "        </tr>\n",
       "    </thead>\n",
       "    <tbody>\n",
       "        <tr>\n",
       "            <td>Alameda County Office of Education</td> <td>249     </td> <td>90        </td> <td>46                 </td> <td>0                 </td> <td>46                </td> <td>51.11          </td> <td>20                  </td> <td>0                  </td> <td>20                 </td> <td>22.22           </td> <td>17                 </td> <td>18.89           </td>\n",
       "        </tr>\n",
       "        <tr>\n",
       "            <td>Alameda Unified                   </td> <td>946     </td> <td>551       </td> <td>465                </td> <td>1                 </td> <td>466               </td> <td>84.57          </td> <td>398                 </td> <td>1                  </td> <td>399                </td> <td>72.41           </td> <td>391                </td> <td>70.96           </td>\n",
       "        </tr>\n",
       "        <tr>\n",
       "            <td>Albany City Unified               </td> <td>279     </td> <td>166       </td> <td>156                </td> <td>0                 </td> <td>156               </td> <td>93.98          </td> <td>148                 </td> <td>0                  </td> <td>148                </td> <td>89.16           </td> <td>146                </td> <td>87.95           </td>\n",
       "        </tr>\n",
       "    </tbody>\n",
       "</table>\n",
       "<p>... (420 rows omitted)</p>"
      ],
      "text/plain": [
       "<IPython.core.display.HTML object>"
      ]
     },
     "metadata": {},
     "output_type": "display_data"
    }
   ],
   "source": [
    "# WARNING: NUMERICAL VALUES ARE STRINGS\n",
    "not_clean_scores_df = pd.read_csv('/Users/edwardliu/Documents/Datathon-2019-Erhman/DFs/scores.csv')\n",
    "scores = Table.from_df(not_clean_scores_df).where('rtype','D').drop('cds','Ccode','CDcode','Scode','rtype','sname','cname','year').where(\"NumCurrElaBenchmark\",are.not_containing('*')).where('NumCurrElaBenchmark',are.not_containing('nan'))\n",
    "scores.show(3)"
   ]
  },
  {
   "cell_type": "code",
   "execution_count": 11,
   "metadata": {},
   "outputs": [
    {
     "data": {
      "text/html": [
       "<table border=\"1\" class=\"dataframe\">\n",
       "    <thead>\n",
       "        <tr>\n",
       "            <th>DISTRICT</th> <th>CO</th> <th>CDS</th> <th>EDP 365</th> <th>Current Expense ADA</th> <th>Current Expense per ADA</th> <th>LEA Type</th> <th>enroll12</th> <th>NumTstTakr</th> <th>NumCurrElaBenchmark</th> <th>NumPreElaBenchmark</th> <th>TotNumElaBenchmark</th> <th>PctElaBenchmark</th> <th>NumCurrMathBenchmark</th> <th>NumPreMathBenchmark</th> <th>TotNumMathBenchmark</th> <th>PctMathBenchmark</th> <th>TotNumBothBenchmark</th> <th>PctBothBenchmark</th>\n",
       "        </tr>\n",
       "    </thead>\n",
       "    <tbody>\n",
       "        <tr>\n",
       "            <td>ABC Unified             </td> <td>19  </td> <td>64212</td> <td>215,049,027</td> <td>19,855.3           </td> <td>10,831                 </td> <td>Unified                  </td> <td>1810    </td> <td>1005      </td> <td>822                </td> <td>6                 </td> <td>828               </td> <td>82.39          </td> <td>665                 </td> <td>5                  </td> <td>670                </td> <td>66.67           </td> <td>644                </td> <td>64.08           </td>\n",
       "        </tr>\n",
       "        <tr>\n",
       "            <td>Acalanes Union High     </td> <td>7   </td> <td>61630</td> <td>74,213,974 </td> <td>5,404.7            </td> <td>13,731                 </td> <td>High                     </td> <td>1426    </td> <td>761       </td> <td>728                </td> <td>3                 </td> <td>731               </td> <td>96.06          </td> <td>676                 </td> <td>3                  </td> <td>679                </td> <td>89.22           </td> <td>673                </td> <td>88.44           </td>\n",
       "        </tr>\n",
       "        <tr>\n",
       "            <td>Acton-Agua Dulce Unified</td> <td>19  </td> <td>75309</td> <td>14,550,055 </td> <td>1,026.6            </td> <td>14,173                 </td> <td>Unified                  </td> <td>1180    </td> <td>134       </td> <td>97                 </td> <td>0                 </td> <td>97                </td> <td>72.39          </td> <td>66                  </td> <td>0                  </td> <td>66                 </td> <td>49.25           </td> <td>64                 </td> <td>47.76           </td>\n",
       "        </tr>\n",
       "    </tbody>\n",
       "</table>\n",
       "<p>... (388 rows omitted)</p>"
      ],
      "text/plain": [
       "<IPython.core.display.HTML object>"
      ]
     },
     "metadata": {},
     "output_type": "display_data"
    }
   ],
   "source": [
    "joined = expenses.join('DISTRICT',scores,'dname')\n",
    "joined.show(3)"
   ]
  },
  {
   "cell_type": "code",
   "execution_count": 12,
   "metadata": {},
   "outputs": [],
   "source": [
    "joined.to_df().to_csv('DistrictPerformance.csv', index=False)"
   ]
  },
  {
   "cell_type": "code",
   "execution_count": 13,
   "metadata": {},
   "outputs": [],
   "source": [
    "# DistrictPerformance.csv + StaffBreakdown.csv = Master.csv"
   ]
  },
  {
   "cell_type": "code",
   "execution_count": 14,
   "metadata": {},
   "outputs": [
    {
     "data": {
      "text/html": [
       "<table border=\"1\" class=\"dataframe\">\n",
       "    <thead>\n",
       "        <tr>\n",
       "            <th>DISTRICT</th> <th>CO</th> <th>CDS</th> <th>EDP 365</th> <th>Current Expense ADA</th> <th>Current Expense per ADA</th> <th>LEA Type</th> <th>enroll12</th> <th>NumTstTakr</th> <th>NumCurrElaBenchmark</th> <th>NumPreElaBenchmark</th> <th>TotNumElaBenchmark</th> <th>PctElaBenchmark</th> <th>NumCurrMathBenchmark</th> <th>NumPreMathBenchmark</th> <th>TotNumMathBenchmark</th> <th>PctMathBenchmark</th> <th>TotNumBothBenchmark</th> <th>PctBothBenchmark</th>\n",
       "        </tr>\n",
       "    </thead>\n",
       "    <tbody>\n",
       "        <tr>\n",
       "            <td>ABC Unified             </td> <td>19  </td> <td>64212</td> <td>215,049,027</td> <td>19,855.3           </td> <td>10,831                 </td> <td>Unified                  </td> <td>1810    </td> <td>1005      </td> <td>822                </td> <td>6                 </td> <td>828               </td> <td>82.39          </td> <td>665                 </td> <td>5                  </td> <td>670                </td> <td>66.67           </td> <td>644                </td> <td>64.08           </td>\n",
       "        </tr>\n",
       "        <tr>\n",
       "            <td>Acalanes Union High     </td> <td>7   </td> <td>61630</td> <td>74,213,974 </td> <td>5,404.7            </td> <td>13,731                 </td> <td>High                     </td> <td>1426    </td> <td>761       </td> <td>728                </td> <td>3                 </td> <td>731               </td> <td>96.06          </td> <td>676                 </td> <td>3                  </td> <td>679                </td> <td>89.22           </td> <td>673                </td> <td>88.44           </td>\n",
       "        </tr>\n",
       "        <tr>\n",
       "            <td>Acton-Agua Dulce Unified</td> <td>19  </td> <td>75309</td> <td>14,550,055 </td> <td>1,026.6            </td> <td>14,173                 </td> <td>Unified                  </td> <td>1180    </td> <td>134       </td> <td>97                 </td> <td>0                 </td> <td>97                </td> <td>72.39          </td> <td>66                  </td> <td>0                  </td> <td>66                 </td> <td>49.25           </td> <td>64                 </td> <td>47.76           </td>\n",
       "        </tr>\n",
       "    </tbody>\n",
       "</table>\n",
       "<p>... (388 rows omitted)</p>"
      ],
      "text/plain": [
       "<IPython.core.display.HTML object>"
      ]
     },
     "metadata": {},
     "output_type": "display_data"
    }
   ],
   "source": [
    "performance_df = pd.read_csv('/Users/edwardliu/Documents/Datathon-2019-Erhman/DFs/DistrictPerformance.csv')\n",
    "performance = Table.from_df(performance_df)\n",
    "performance.show(3)"
   ]
  },
  {
   "cell_type": "code",
   "execution_count": 16,
   "metadata": {},
   "outputs": [
    {
     "data": {
      "text/html": [
       "<table border=\"1\" class=\"dataframe\">\n",
       "    <thead>\n",
       "        <tr>\n",
       "            <th>District Administrative Support:</th> <th>District Administrators:</th> <th>Elementary Guidance Counselors:</th> <th>Elementary:</th> <th>Instruc. Coordinators &amp; Supervisors:</th> <th>Instructional Aides:</th> <th>Kindergarten:</th> <th>Librarians/Media Specialists:</th> <th>Library/Media Support:</th> <th>Name</th> <th>Other Support Services:</th> <th>Prekindergarten:</th> <th>School Administrative Support:</th> <th>School Administrators:</th> <th>Secondary Guidance Counselors:</th> <th>Secondary:</th> <th>Student Support Services:</th> <th>Ungraded:</th>\n",
       "        </tr>\n",
       "    </thead>\n",
       "    <tbody>\n",
       "        <tr>\n",
       "            <td>35.02                           </td> <td>6                       </td> <td>4.25                           </td> <td>286.09     </td> <td>44.58                                   </td> <td>134.88              </td> <td>38.25        </td> <td>0                            </td> <td>0                     </td> <td>Alameda Unified    </td> <td>165.96                 </td> <td>0               </td> <td>63.74                         </td> <td>34.7                  </td> <td>5                             </td> <td>156.65    </td> <td>37.85                    </td> <td>6.48     </td>\n",
       "        </tr>\n",
       "        <tr>\n",
       "            <td>14                              </td> <td>2                       </td> <td>2                              </td> <td>99.96      </td> <td>15.25                                   </td> <td>41.42               </td> <td>12.3         </td> <td>4                            </td> <td>0                     </td> <td>Albany City Unified</td> <td>59.13                  </td> <td>0               </td> <td>16.95                         </td> <td>7.98                  </td> <td>3.6                           </td> <td>56.68     </td> <td>8.4                      </td> <td>1.2      </td>\n",
       "        </tr>\n",
       "        <tr>\n",
       "            <td>57.8                            </td> <td>8                       </td> <td>7.6                            </td> <td>290.77     </td> <td>100.93                                  </td> <td>145.2               </td> <td>38.7         </td> <td>0                            </td> <td>0                     </td> <td>Berkeley Unified   </td> <td>219.4                  </td> <td>0               </td> <td>35.64                         </td> <td>34                    </td> <td>10.4                          </td> <td>168.71    </td> <td>27.9                     </td> <td>11.6     </td>\n",
       "        </tr>\n",
       "    </tbody>\n",
       "</table>\n",
       "<p>... (921 rows omitted)</p>"
      ],
      "text/plain": [
       "<IPython.core.display.HTML object>"
      ]
     },
     "metadata": {},
     "output_type": "display_data"
    }
   ],
   "source": [
    "staff_df = pd.read_csv('/Users/edwardliu/Documents/Datathon-2019-Erhman/DFs/StaffBreakdown.csv')\n",
    "staff = Table.from_df(staff_df)\n",
    "staff.show(3)"
   ]
  },
  {
   "cell_type": "code",
   "execution_count": 17,
   "metadata": {},
   "outputs": [
    {
     "data": {
      "text/html": [
       "<table border=\"1\" class=\"dataframe\">\n",
       "    <thead>\n",
       "        <tr>\n",
       "            <th>DISTRICT</th> <th>CO</th> <th>CDS</th> <th>EDP 365</th> <th>Current Expense ADA</th> <th>Current Expense per ADA</th> <th>LEA Type</th> <th>enroll12</th> <th>NumTstTakr</th> <th>NumCurrElaBenchmark</th> <th>NumPreElaBenchmark</th> <th>TotNumElaBenchmark</th> <th>PctElaBenchmark</th> <th>NumCurrMathBenchmark</th> <th>NumPreMathBenchmark</th> <th>TotNumMathBenchmark</th> <th>PctMathBenchmark</th> <th>TotNumBothBenchmark</th> <th>PctBothBenchmark</th> <th>District Administrative Support:</th> <th>District Administrators:</th> <th>Elementary Guidance Counselors:</th> <th>Elementary:</th> <th>Instruc. Coordinators &amp; Supervisors:</th> <th>Instructional Aides:</th> <th>Kindergarten:</th> <th>Librarians/Media Specialists:</th> <th>Library/Media Support:</th> <th>Other Support Services:</th> <th>Prekindergarten:</th> <th>School Administrative Support:</th> <th>School Administrators:</th> <th>Secondary Guidance Counselors:</th> <th>Secondary:</th> <th>Student Support Services:</th> <th>Ungraded:</th>\n",
       "        </tr>\n",
       "    </thead>\n",
       "    <tbody>\n",
       "        <tr>\n",
       "            <td>ABC Unified             </td> <td>19  </td> <td>64212</td> <td>215,049,027</td> <td>19,855.3           </td> <td>10,831                 </td> <td>Unified                  </td> <td>1810    </td> <td>1005      </td> <td>822                </td> <td>6                 </td> <td>828               </td> <td>82.39          </td> <td>665                 </td> <td>5                  </td> <td>670                </td> <td>66.67           </td> <td>644                </td> <td>64.08           </td> <td>36                              </td> <td>8                       </td> <td>1                              </td> <td>469.07     </td> <td>19.9                                    </td> <td>148.3               </td> <td>67.58        </td> <td>0                            </td> <td>0                     </td> <td>416.44                 </td> <td>0               </td> <td>81.13                         </td> <td>56                    </td> <td>9                             </td> <td>288.3     </td> <td>83.6                     </td> <td>3.67     </td>\n",
       "        </tr>\n",
       "        <tr>\n",
       "            <td>Acalanes Union High     </td> <td>7   </td> <td>61630</td> <td>74,213,974 </td> <td>5,404.7            </td> <td>13,731                 </td> <td>High                     </td> <td>1426    </td> <td>761       </td> <td>728                </td> <td>3                 </td> <td>731               </td> <td>96.06          </td> <td>676                 </td> <td>3                  </td> <td>679                </td> <td>89.22           </td> <td>673                </td> <td>88.44           </td> <td>14                              </td> <td>4                       </td> <td>0                              </td> <td>0.13       </td> <td>4                                       </td> <td>27.46               </td> <td>0            </td> <td>0                            </td> <td>0                     </td> <td>55.39                  </td> <td>0               </td> <td>29                            </td> <td>8.5                   </td> <td>16.6                          </td> <td>276.57    </td> <td>15.8                     </td> <td>1.5      </td>\n",
       "        </tr>\n",
       "        <tr>\n",
       "            <td>Acton-Agua Dulce Unified</td> <td>19  </td> <td>75309</td> <td>14,550,055 </td> <td>1,026.6            </td> <td>14,173                 </td> <td>Unified                  </td> <td>1180    </td> <td>134       </td> <td>97                 </td> <td>0                 </td> <td>97                </td> <td>72.39          </td> <td>66                  </td> <td>0                  </td> <td>66                 </td> <td>49.25           </td> <td>64                 </td> <td>47.76           </td> <td>5                               </td> <td>1                       </td> <td>3                              </td> <td>258.38     </td> <td>75.14                                   </td> <td>105.29              </td> <td>37.08        </td> <td>0                            </td> <td>0                     </td> <td>66.52                  </td> <td>0               </td> <td>180.63                        </td> <td>57.47                 </td> <td>5.7                           </td> <td>323.27    </td> <td>85.76                    </td> <td>22.22    </td>\n",
       "        </tr>\n",
       "    </tbody>\n",
       "</table>\n",
       "<p>... (387 rows omitted)</p>"
      ],
      "text/plain": [
       "<IPython.core.display.HTML object>"
      ]
     },
     "metadata": {},
     "output_type": "display_data"
    }
   ],
   "source": [
    "master = performance.join('DISTRICT',staff,'Name')\n",
    "master.show(3)"
   ]
  },
  {
   "cell_type": "code",
   "execution_count": 18,
   "metadata": {},
   "outputs": [],
   "source": [
    "master.to_df().to_csv('Master.csv', index=False)"
   ]
  },
  {
   "cell_type": "code",
   "execution_count": null,
   "metadata": {},
   "outputs": [],
   "source": []
  }
 ],
 "metadata": {
  "kernelspec": {
   "display_name": "Python 3",
   "language": "python",
   "name": "python3"
  },
  "language_info": {
   "codemirror_mode": {
    "name": "ipython",
    "version": 3
   },
   "file_extension": ".py",
   "mimetype": "text/x-python",
   "name": "python",
   "nbconvert_exporter": "python",
   "pygments_lexer": "ipython3",
   "version": "3.7.4"
  }
 },
 "nbformat": 4,
 "nbformat_minor": 2
}
