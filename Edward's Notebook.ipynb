{
 "cells": [
  {
   "cell_type": "code",
   "execution_count": 1,
   "metadata": {},
   "outputs": [
    {
     "name": "stdout",
     "output_type": "stream",
     "text": [
      "Requirement already satisfied: datascience in /Users/edwardliu/Downloads/anaconda3/lib/python3.7/site-packages (0.15.3)\n",
      "Requirement already satisfied: sphinx in /Users/edwardliu/Downloads/anaconda3/lib/python3.7/site-packages (from datascience) (2.2.0)\n",
      "Requirement already satisfied: pandas in /Users/edwardliu/Downloads/anaconda3/lib/python3.7/site-packages (from datascience) (0.25.1)\n",
      "Requirement already satisfied: scipy in /Users/edwardliu/Downloads/anaconda3/lib/python3.7/site-packages (from datascience) (1.3.1)\n",
      "Requirement already satisfied: numpy in /Users/edwardliu/Downloads/anaconda3/lib/python3.7/site-packages (from datascience) (1.17.2)\n",
      "Requirement already satisfied: ipython in /Users/edwardliu/Downloads/anaconda3/lib/python3.7/site-packages (from datascience) (7.8.0)\n",
      "Requirement already satisfied: setuptools in /Users/edwardliu/Downloads/anaconda3/lib/python3.7/site-packages (from datascience) (41.4.0)\n",
      "Requirement already satisfied: coveralls in /Users/edwardliu/Downloads/anaconda3/lib/python3.7/site-packages (from datascience) (1.8.2)\n",
      "Requirement already satisfied: coverage==4.5.3 in /Users/edwardliu/Downloads/anaconda3/lib/python3.7/site-packages (from datascience) (4.5.3)\n",
      "Requirement already satisfied: matplotlib>=3.0.0 in /Users/edwardliu/Downloads/anaconda3/lib/python3.7/site-packages (from datascience) (3.1.1)\n",
      "Requirement already satisfied: folium>=0.9.1 in /Users/edwardliu/Downloads/anaconda3/lib/python3.7/site-packages (from datascience) (0.10.0)\n",
      "Requirement already satisfied: bokeh in /Users/edwardliu/Downloads/anaconda3/lib/python3.7/site-packages (from datascience) (1.3.4)\n",
      "Requirement already satisfied: pytest in /Users/edwardliu/Downloads/anaconda3/lib/python3.7/site-packages (from datascience) (5.2.1)\n",
      "Requirement already satisfied: requests>=2.5.0 in /Users/edwardliu/Downloads/anaconda3/lib/python3.7/site-packages (from sphinx->datascience) (2.22.0)\n",
      "Requirement already satisfied: sphinxcontrib-jsmath in /Users/edwardliu/Downloads/anaconda3/lib/python3.7/site-packages (from sphinx->datascience) (1.0.1)\n",
      "Requirement already satisfied: sphinxcontrib-applehelp in /Users/edwardliu/Downloads/anaconda3/lib/python3.7/site-packages (from sphinx->datascience) (1.0.1)\n",
      "Requirement already satisfied: sphinxcontrib-devhelp in /Users/edwardliu/Downloads/anaconda3/lib/python3.7/site-packages (from sphinx->datascience) (1.0.1)\n",
      "Requirement already satisfied: alabaster<0.8,>=0.7 in /Users/edwardliu/Downloads/anaconda3/lib/python3.7/site-packages (from sphinx->datascience) (0.7.12)\n",
      "Requirement already satisfied: snowballstemmer>=1.1 in /Users/edwardliu/Downloads/anaconda3/lib/python3.7/site-packages (from sphinx->datascience) (2.0.0)\n",
      "Requirement already satisfied: sphinxcontrib-htmlhelp in /Users/edwardliu/Downloads/anaconda3/lib/python3.7/site-packages (from sphinx->datascience) (1.0.2)\n",
      "Requirement already satisfied: Jinja2>=2.3 in /Users/edwardliu/Downloads/anaconda3/lib/python3.7/site-packages (from sphinx->datascience) (2.10.3)\n",
      "Requirement already satisfied: packaging in /Users/edwardliu/Downloads/anaconda3/lib/python3.7/site-packages (from sphinx->datascience) (19.2)\n",
      "Requirement already satisfied: imagesize in /Users/edwardliu/Downloads/anaconda3/lib/python3.7/site-packages (from sphinx->datascience) (1.1.0)\n",
      "Requirement already satisfied: docutils>=0.12 in /Users/edwardliu/Downloads/anaconda3/lib/python3.7/site-packages (from sphinx->datascience) (0.15.2)\n",
      "Requirement already satisfied: sphinxcontrib-qthelp in /Users/edwardliu/Downloads/anaconda3/lib/python3.7/site-packages (from sphinx->datascience) (1.0.2)\n",
      "Requirement already satisfied: Pygments>=2.0 in /Users/edwardliu/Downloads/anaconda3/lib/python3.7/site-packages (from sphinx->datascience) (2.4.2)\n",
      "Requirement already satisfied: babel!=2.0,>=1.3 in /Users/edwardliu/Downloads/anaconda3/lib/python3.7/site-packages (from sphinx->datascience) (2.7.0)\n",
      "Requirement already satisfied: sphinxcontrib-serializinghtml in /Users/edwardliu/Downloads/anaconda3/lib/python3.7/site-packages (from sphinx->datascience) (1.1.3)\n",
      "Requirement already satisfied: python-dateutil>=2.6.1 in /Users/edwardliu/Downloads/anaconda3/lib/python3.7/site-packages (from pandas->datascience) (2.8.0)\n",
      "Requirement already satisfied: pytz>=2017.2 in /Users/edwardliu/Downloads/anaconda3/lib/python3.7/site-packages (from pandas->datascience) (2019.3)\n",
      "Requirement already satisfied: pickleshare in /Users/edwardliu/Downloads/anaconda3/lib/python3.7/site-packages (from ipython->datascience) (0.7.5)\n",
      "Requirement already satisfied: backcall in /Users/edwardliu/Downloads/anaconda3/lib/python3.7/site-packages (from ipython->datascience) (0.1.0)\n",
      "Requirement already satisfied: decorator in /Users/edwardliu/Downloads/anaconda3/lib/python3.7/site-packages (from ipython->datascience) (4.4.0)\n",
      "Requirement already satisfied: jedi>=0.10 in /Users/edwardliu/Downloads/anaconda3/lib/python3.7/site-packages (from ipython->datascience) (0.15.1)\n",
      "Requirement already satisfied: traitlets>=4.2 in /Users/edwardliu/Downloads/anaconda3/lib/python3.7/site-packages (from ipython->datascience) (4.3.3)\n",
      "Requirement already satisfied: pexpect; sys_platform != \"win32\" in /Users/edwardliu/Downloads/anaconda3/lib/python3.7/site-packages (from ipython->datascience) (4.7.0)\n",
      "Requirement already satisfied: prompt-toolkit<2.1.0,>=2.0.0 in /Users/edwardliu/Downloads/anaconda3/lib/python3.7/site-packages (from ipython->datascience) (2.0.10)\n",
      "Requirement already satisfied: appnope; sys_platform == \"darwin\" in /Users/edwardliu/Downloads/anaconda3/lib/python3.7/site-packages (from ipython->datascience) (0.1.0)\n",
      "Requirement already satisfied: docopt>=0.6.1 in /Users/edwardliu/Downloads/anaconda3/lib/python3.7/site-packages (from coveralls->datascience) (0.6.2)\n",
      "Requirement already satisfied: cycler>=0.10 in /Users/edwardliu/Downloads/anaconda3/lib/python3.7/site-packages (from matplotlib>=3.0.0->datascience) (0.10.0)\n",
      "Requirement already satisfied: kiwisolver>=1.0.1 in /Users/edwardliu/Downloads/anaconda3/lib/python3.7/site-packages (from matplotlib>=3.0.0->datascience) (1.1.0)\n",
      "Requirement already satisfied: pyparsing!=2.0.4,!=2.1.2,!=2.1.6,>=2.0.1 in /Users/edwardliu/Downloads/anaconda3/lib/python3.7/site-packages (from matplotlib>=3.0.0->datascience) (2.4.2)\n",
      "Requirement already satisfied: branca>=0.3.0 in /Users/edwardliu/Downloads/anaconda3/lib/python3.7/site-packages (from folium>=0.9.1->datascience) (0.3.1)\n",
      "Requirement already satisfied: six>=1.5.2 in /Users/edwardliu/Downloads/anaconda3/lib/python3.7/site-packages (from bokeh->datascience) (1.12.0)\n",
      "Requirement already satisfied: pillow>=4.0 in /Users/edwardliu/Downloads/anaconda3/lib/python3.7/site-packages (from bokeh->datascience) (6.2.0)\n",
      "Requirement already satisfied: tornado>=4.3 in /Users/edwardliu/Downloads/anaconda3/lib/python3.7/site-packages (from bokeh->datascience) (6.0.3)\n",
      "Requirement already satisfied: PyYAML>=3.10 in /Users/edwardliu/Downloads/anaconda3/lib/python3.7/site-packages (from bokeh->datascience) (5.1.2)\n",
      "Requirement already satisfied: py>=1.5.0 in /Users/edwardliu/Downloads/anaconda3/lib/python3.7/site-packages (from pytest->datascience) (1.8.0)\n",
      "Requirement already satisfied: attrs>=17.4.0 in /Users/edwardliu/Downloads/anaconda3/lib/python3.7/site-packages (from pytest->datascience) (19.2.0)\n",
      "Requirement already satisfied: more-itertools>=4.0.0 in /Users/edwardliu/Downloads/anaconda3/lib/python3.7/site-packages (from pytest->datascience) (7.2.0)\n",
      "Requirement already satisfied: atomicwrites>=1.0 in /Users/edwardliu/Downloads/anaconda3/lib/python3.7/site-packages (from pytest->datascience) (1.3.0)\n",
      "Requirement already satisfied: pluggy<1.0,>=0.12 in /Users/edwardliu/Downloads/anaconda3/lib/python3.7/site-packages (from pytest->datascience) (0.13.0)\n",
      "Requirement already satisfied: wcwidth in /Users/edwardliu/Downloads/anaconda3/lib/python3.7/site-packages (from pytest->datascience) (0.1.7)\n",
      "Requirement already satisfied: importlib-metadata>=0.12 in /Users/edwardliu/Downloads/anaconda3/lib/python3.7/site-packages (from pytest->datascience) (0.23)\n",
      "Requirement already satisfied: chardet<3.1.0,>=3.0.2 in /Users/edwardliu/Downloads/anaconda3/lib/python3.7/site-packages (from requests>=2.5.0->sphinx->datascience) (3.0.4)\n",
      "Requirement already satisfied: urllib3!=1.25.0,!=1.25.1,<1.26,>=1.21.1 in /Users/edwardliu/Downloads/anaconda3/lib/python3.7/site-packages (from requests>=2.5.0->sphinx->datascience) (1.24.2)\n",
      "Requirement already satisfied: idna<2.9,>=2.5 in /Users/edwardliu/Downloads/anaconda3/lib/python3.7/site-packages (from requests>=2.5.0->sphinx->datascience) (2.8)\n",
      "Requirement already satisfied: certifi>=2017.4.17 in /Users/edwardliu/Downloads/anaconda3/lib/python3.7/site-packages (from requests>=2.5.0->sphinx->datascience) (2019.9.11)\n",
      "Requirement already satisfied: MarkupSafe>=0.23 in /Users/edwardliu/Downloads/anaconda3/lib/python3.7/site-packages (from Jinja2>=2.3->sphinx->datascience) (1.1.1)\n",
      "Requirement already satisfied: parso>=0.5.0 in /Users/edwardliu/Downloads/anaconda3/lib/python3.7/site-packages (from jedi>=0.10->ipython->datascience) (0.5.1)\n",
      "Requirement already satisfied: ipython-genutils in /Users/edwardliu/Downloads/anaconda3/lib/python3.7/site-packages (from traitlets>=4.2->ipython->datascience) (0.2.0)\n",
      "Requirement already satisfied: ptyprocess>=0.5 in /Users/edwardliu/Downloads/anaconda3/lib/python3.7/site-packages (from pexpect; sys_platform != \"win32\"->ipython->datascience) (0.6.0)\n",
      "Requirement already satisfied: zipp>=0.5 in /Users/edwardliu/Downloads/anaconda3/lib/python3.7/site-packages (from importlib-metadata>=0.12->pytest->datascience) (0.6.0)\n"
     ]
    }
   ],
   "source": [
    "!pip install datascience"
   ]
  },
  {
   "cell_type": "code",
   "execution_count": 2,
   "metadata": {},
   "outputs": [],
   "source": [
    "import pandas as pd\n",
    "from datascience import *\n",
    "import numpy as np\n",
    "import matplotlib\n",
    "%matplotlib inline\n",
    "import matplotlib.pyplot as plt\n",
    "plt.style.use('fivethirtyeight')\n",
    "import warnings\n",
    "warnings.simplefilter('ignore', FutureWarning)"
   ]
  },
  {
   "cell_type": "code",
   "execution_count": null,
   "metadata": {},
   "outputs": [],
   "source": []
  }
 ],
 "metadata": {
  "kernelspec": {
   "display_name": "Python 3",
   "language": "python",
   "name": "python3"
  },
  "language_info": {
   "codemirror_mode": {
    "name": "ipython",
    "version": 3
   },
   "file_extension": ".py",
   "mimetype": "text/x-python",
   "name": "python",
   "nbconvert_exporter": "python",
   "pygments_lexer": "ipython3",
   "version": "3.7.4"
  }
 },
 "nbformat": 4,
 "nbformat_minor": 2
}
